{
  "nbformat": 4,
  "nbformat_minor": 0,
  "metadata": {
    "colab": {
      "provenance": []
    },
    "kernelspec": {
      "name": "python3",
      "display_name": "Python 3"
    },
    "language_info": {
      "name": "python"
    }
  },
  "cells": [
    {
      "cell_type": "code",
      "execution_count": null,
      "metadata": {
        "id": "HC1M_D6bdJLa"
      },
      "outputs": [],
      "source": [
        "#Assignment 4\n",
        "1. What exactly is []?\n",
        "Empty List Value\n"
      ]
    },
    {
      "cell_type": "code",
      "source": [
        "#2. In a list of values stored in a variable called spam, how would you assign the value 'hello' as the\n",
        "#third value? (Assume [2, 4, 6, 8, 10] are in spam.)\n",
        "#Lets pretend the spam includes the list ['a','b','c','d'] for the next three queries.\n",
        "\n",
        "spam=[2,4,6,8,10]\n",
        "spam[2]=\"Hello\"\n",
        "spam\n"
      ],
      "metadata": {
        "colab": {
          "base_uri": "https://localhost:8080/"
        },
        "id": "9LKGczh7d69H",
        "outputId": "8e4d16ba-bf67-4270-de31-71c397f9ad34"
      },
      "execution_count": 4,
      "outputs": [
        {
          "output_type": "execute_result",
          "data": {
            "text/plain": [
              "[2, 4, 'Hello', 8, 10]"
            ]
          },
          "metadata": {},
          "execution_count": 4
        }
      ]
    },
    {
      "cell_type": "code",
      "source": [
        "#3. What is the value of spam[int(int(&#39;3&#39; * 2) / 11)]?\n",
        "\n",
        "spam = ['a', 'b', 'c', 'd']\n",
        "spam[int(int('3' * 2) / 11)]"
      ],
      "metadata": {
        "colab": {
          "base_uri": "https://localhost:8080/",
          "height": 36
        },
        "id": "y8Vk5sayfPM7",
        "outputId": "4fa31411-1b45-47e3-e931-ff8fd5b1f0a7"
      },
      "execution_count": 7,
      "outputs": [
        {
          "output_type": "execute_result",
          "data": {
            "text/plain": [
              "'d'"
            ],
            "application/vnd.google.colaboratory.intrinsic+json": {
              "type": "string"
            }
          },
          "metadata": {},
          "execution_count": 7
        }
      ]
    },
    {
      "cell_type": "code",
      "source": [
        "#4. What is the value of spam[-1]?\n",
        "\n",
        "spam[-1]"
      ],
      "metadata": {
        "colab": {
          "base_uri": "https://localhost:8080/"
        },
        "id": "WSMxxh0Ue2uZ",
        "outputId": "63b50a18-e017-494b-fcb8-d4c888e9934c"
      },
      "execution_count": 5,
      "outputs": [
        {
          "output_type": "execute_result",
          "data": {
            "text/plain": [
              "10"
            ]
          },
          "metadata": {},
          "execution_count": 5
        }
      ]
    },
    {
      "cell_type": "code",
      "source": [
        "#5. What is the value of spam[:2]?\n",
        "\n",
        "spam[:2]"
      ],
      "metadata": {
        "colab": {
          "base_uri": "https://localhost:8080/"
        },
        "id": "fK4bph0ne4cb",
        "outputId": "c1ff0a58-828f-4c97-8161-612b97cf9a4a"
      },
      "execution_count": 6,
      "outputs": [
        {
          "output_type": "execute_result",
          "data": {
            "text/plain": [
              "[2, 4]"
            ]
          },
          "metadata": {},
          "execution_count": 6
        }
      ]
    },
    {
      "cell_type": "code",
      "source": [
        "#6 Lets pretend bacon has the list [3.14, 'cat', 11, 'cat', True] for the next three questions.\n",
        "# What is the value of bacon.index('cat')?\n",
        "bacon = [3.14, 'cat', 11, 'cat', True]\n",
        "bacon.index('cat')"
      ],
      "metadata": {
        "colab": {
          "base_uri": "https://localhost:8080/"
        },
        "id": "BXPTnYoNgCVJ",
        "outputId": "53410a9a-ed50-428b-c17f-cc898d1faeb8"
      },
      "execution_count": 8,
      "outputs": [
        {
          "output_type": "execute_result",
          "data": {
            "text/plain": [
              "1"
            ]
          },
          "metadata": {},
          "execution_count": 8
        }
      ]
    },
    {
      "cell_type": "code",
      "source": [
        "#7. How does bacon.append(99) change the look of the list value in bacon?\n",
        "bacon.append(99)\n",
        "bacon"
      ],
      "metadata": {
        "colab": {
          "base_uri": "https://localhost:8080/"
        },
        "id": "TCusxIGNgCR2",
        "outputId": "59183ff7-ba12-4ae7-c6dc-67698bf7e1d4"
      },
      "execution_count": 9,
      "outputs": [
        {
          "output_type": "execute_result",
          "data": {
            "text/plain": [
              "[3.14, 'cat', 11, 'cat', True, 99]"
            ]
          },
          "metadata": {},
          "execution_count": 9
        }
      ]
    },
    {
      "cell_type": "code",
      "source": [
        "#8. How does bacon.remove('cat') change the look of the list in bacon?\n",
        "bacon.remove('cat')\n",
        "bacon"
      ],
      "metadata": {
        "colab": {
          "base_uri": "https://localhost:8080/"
        },
        "id": "lBHtcX_QgBxf",
        "outputId": "cc2490b4-71f7-40d4-8cfe-4035a3f751da"
      },
      "execution_count": 10,
      "outputs": [
        {
          "output_type": "execute_result",
          "data": {
            "text/plain": [
              "[3.14, 11, 'cat', True, 99]"
            ]
          },
          "metadata": {},
          "execution_count": 10
        }
      ]
    },
    {
      "cell_type": "code",
      "source": [
        "#9. What are the list concatenation and list replication operators?\n",
        "Concatenation +\n",
        "Replication *\n"
      ],
      "metadata": {
        "id": "DtRffsTRg3kg"
      },
      "execution_count": null,
      "outputs": []
    },
    {
      "cell_type": "code",
      "source": [
        "#10. What is difference between the list methods append() and insert()?\n",
        "#Append will add the value only at the end whereas insert will add the value wherever we want\n",
        "abs=[1,2,3,4]\n",
        "abs.append(0)\n",
        "abs"
      ],
      "metadata": {
        "colab": {
          "base_uri": "https://localhost:8080/"
        },
        "id": "dqMzjlxWg3f8",
        "outputId": "2ad23eae-e3b6-4a0b-9c06-b295a42ca83d"
      },
      "execution_count": 11,
      "outputs": [
        {
          "output_type": "execute_result",
          "data": {
            "text/plain": [
              "[1, 2, 3, 4, 0]"
            ]
          },
          "metadata": {},
          "execution_count": 11
        }
      ]
    },
    {
      "cell_type": "code",
      "source": [
        "abs=[1,2,3,4]\n",
        "abs.insert(3,5)\n",
        "abs"
      ],
      "metadata": {
        "colab": {
          "base_uri": "https://localhost:8080/"
        },
        "id": "Ei71LRb1g3YJ",
        "outputId": "bcafe7dc-2e16-4375-cda9-aeab4366d039"
      },
      "execution_count": 20,
      "outputs": [
        {
          "output_type": "execute_result",
          "data": {
            "text/plain": [
              "[1, 2, 3, 5, 4]"
            ]
          },
          "metadata": {},
          "execution_count": 20
        }
      ]
    },
    {
      "cell_type": "code",
      "source": [
        "#11. What are the two methods for removing items from a list?\n",
        "#del statement and remove()\n",
        "abs.remove(2)\n",
        "abs"
      ],
      "metadata": {
        "colab": {
          "base_uri": "https://localhost:8080/"
        },
        "id": "FlxdJMTliPYV",
        "outputId": "7610e9ca-ef98-4635-9f58-ca07266196ad"
      },
      "execution_count": 21,
      "outputs": [
        {
          "output_type": "execute_result",
          "data": {
            "text/plain": [
              "[1, 3, 5, 4]"
            ]
          },
          "metadata": {},
          "execution_count": 21
        }
      ]
    },
    {
      "cell_type": "code",
      "source": [
        "del abs[2]\n",
        "abs\n"
      ],
      "metadata": {
        "colab": {
          "base_uri": "https://localhost:8080/"
        },
        "id": "C8Xj44CriQf5",
        "outputId": "203a4d31-fe27-4ec3-8f90-62b4def87f92"
      },
      "execution_count": 30,
      "outputs": [
        {
          "output_type": "execute_result",
          "data": {
            "text/plain": [
              "[1, 3, 4]"
            ]
          },
          "metadata": {},
          "execution_count": 30
        }
      ]
    },
    {
      "cell_type": "code",
      "source": [
        "#12. Describe how list values and string values are identical.\n",
        "#Both lists and strings can be passed to len(), have indexes and slices,\n",
        "#be used in for loops, be concatenated or replicated,\n",
        "#and be used with the in and not in operators."
      ],
      "metadata": {
        "id": "qwlyzvf7iQcq"
      },
      "execution_count": null,
      "outputs": []
    },
    {
      "cell_type": "code",
      "source": [
        "#13. Whats the difference between tuples and lists?\n",
        "[lists] are mutable, values can added, removed\n",
        "(Tuples) are immutable"
      ],
      "metadata": {
        "id": "pP5Ztf4KiQZp"
      },
      "execution_count": null,
      "outputs": []
    },
    {
      "cell_type": "code",
      "source": [
        "#14. How do you type a tuple value that only contains the integer 42?\n",
        "a=(42)\n",
        "type(a)"
      ],
      "metadata": {
        "colab": {
          "base_uri": "https://localhost:8080/"
        },
        "id": "P9jKxqV_iQL8",
        "outputId": "449c8d6a-8004-4203-d80b-7e31e9b0e114"
      },
      "execution_count": 32,
      "outputs": [
        {
          "output_type": "execute_result",
          "data": {
            "text/plain": [
              "int"
            ]
          },
          "metadata": {},
          "execution_count": 32
        }
      ]
    },
    {
      "cell_type": "code",
      "source": [
        "#15. How do you get a list values tuple form? How do you get a tuple values list form?\n",
        "a=(1,2,3,4)\n",
        "a[2]\n"
      ],
      "metadata": {
        "colab": {
          "base_uri": "https://localhost:8080/"
        },
        "id": "pyKykT-xlDMK",
        "outputId": "25d1995d-e485-4eb3-a90b-086f8cc2bf05"
      },
      "execution_count": 38,
      "outputs": [
        {
          "output_type": "execute_result",
          "data": {
            "text/plain": [
              "3"
            ]
          },
          "metadata": {},
          "execution_count": 38
        }
      ]
    },
    {
      "cell_type": "code",
      "source": [
        "#16. Variables that \"contain\" list values are not necessarily lists themselves. Instead, what do they contain?\n",
        "#They contain references to list values.\n"
      ],
      "metadata": {
        "id": "UiW4C9QulDIk"
      },
      "execution_count": null,
      "outputs": []
    },
    {
      "cell_type": "code",
      "source": [
        "#17. How do you distinguish between copy.copy() and copy.deepcopy\n",
        "import copy\n",
        "a=[1,2,3,4]\n",
        "b=copy.copy(a)\n",
        "b"
      ],
      "metadata": {
        "colab": {
          "base_uri": "https://localhost:8080/"
        },
        "id": "WSacsqBwlDFi",
        "outputId": "dfbe6836-64ab-4330-9ac5-dd8edb182eb6"
      },
      "execution_count": 45,
      "outputs": [
        {
          "output_type": "execute_result",
          "data": {
            "text/plain": [
              "[1, 2, 3, 4]"
            ]
          },
          "metadata": {},
          "execution_count": 45
        }
      ]
    },
    {
      "cell_type": "code",
      "source": [
        "import copy\n",
        "a=[1,2,3,4]\n",
        "c=copy.deepcopy(a)\n",
        "c"
      ],
      "metadata": {
        "colab": {
          "base_uri": "https://localhost:8080/"
        },
        "id": "09YGVXf2lC4H",
        "outputId": "6e771c31-ab28-4da4-fc83-5374b9271563"
      },
      "execution_count": 46,
      "outputs": [
        {
          "output_type": "execute_result",
          "data": {
            "text/plain": [
              "[1, 2, 3, 4]"
            ]
          },
          "metadata": {},
          "execution_count": 46
        }
      ]
    }
  ]
}