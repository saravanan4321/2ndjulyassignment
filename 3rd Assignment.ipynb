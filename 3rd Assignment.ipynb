{
  "nbformat": 4,
  "nbformat_minor": 0,
  "metadata": {
    "colab": {
      "provenance": []
    },
    "kernelspec": {
      "name": "python3",
      "display_name": "Python 3"
    },
    "language_info": {
      "name": "python"
    }
  },
  "cells": [
    {
      "cell_type": "code",
      "execution_count": null,
      "metadata": {
        "id": "ua4rIJ-mAiag"
      },
      "outputs": [],
      "source": [
        "#3rd Assignment\n",
        "\n",
        "1. Why are functions advantageous to have in your programs?\n",
        "Functions makes the program shorter and easier\n",
        "\n",
        "2. When does the code in a function run: when its specified or when its called?\n",
        "The code in a function executes when the function is called,\n",
        "\n",
        "3. What statement creates a function?\n",
        "def\n",
        "\n",
        "4. What is the difference between a function and a function call?\n",
        "A function is a block of code that performs a specific task and may or may not return a value\n",
        "A function call is an expression that invokes a function\n",
        "\n",
        "5. How many global scopes are there in a Python program? How many local scopes?\n",
        "One Global scope. Local scope is created whenever a function is called.\n",
        "\n",
        "6. What happens to variables in a local scope when the function call returns?\n",
        "Local scope will be destroyed.\n",
        "\n",
        "7. What is the concept of a return value? Is it possible to have a return value in an expression?\n",
        "Return function can use to perform further computation in the program.\n",
        "Possible, expression can be used in return value.\n",
        "\n",
        "8. If a function does not have a return statement, what is the return value of a call to that function?\n",
        "Return value will be Nil\n",
        "\n",
        "9. How do you make a function variable refer to the global variable?\n",
        "global statement will force a variable in a function to refer to the global variable.\n",
        "\n",
        "10. What is the data type of None?\n",
        "None\n",
        "\n",
        "11. What does the sentence import areallyourpetsnamederic do?\n",
        "No module available.\n",
        "\n",
        "12. If you had a bacon() feature in a spam module, what would you call it after importing spam?\n",
        "spam.bacon()\n",
        "\n",
        "13. What can you do to save a programme from crashing if it encounters an error?\n",
        "Place the line of code that might cause an error in a try clause\n",
        "\n",
        "14. What is the purpose of the try clause? What is the purpose of the except clause?\n",
        "The code that could potentially cause an error goes in the try clause.\n",
        "The code that executes if an error happens goes in the except clause."
      ]
    },
    {
      "cell_type": "code",
      "source": [
        "import areallyourpetsnamederic"
      ],
      "metadata": {
        "colab": {
          "base_uri": "https://localhost:8080/",
          "height": 314
        },
        "id": "oAxXK1ZIJsQG",
        "outputId": "4296a405-5a5c-4617-cf78-e0870527afe3"
      },
      "execution_count": 1,
      "outputs": [
        {
          "output_type": "error",
          "ename": "ModuleNotFoundError",
          "evalue": "ignored",
          "traceback": [
            "\u001b[0;31m---------------------------------------------------------------------------\u001b[0m",
            "\u001b[0;31mModuleNotFoundError\u001b[0m                       Traceback (most recent call last)",
            "\u001b[0;32m<ipython-input-1-b1ea9cb2228f>\u001b[0m in \u001b[0;36m<cell line: 1>\u001b[0;34m()\u001b[0m\n\u001b[0;32m----> 1\u001b[0;31m \u001b[0;32mimport\u001b[0m \u001b[0mareallyourpetsnamederic\u001b[0m\u001b[0;34m\u001b[0m\u001b[0;34m\u001b[0m\u001b[0m\n\u001b[0m",
            "\u001b[0;31mModuleNotFoundError\u001b[0m: No module named 'areallyourpetsnamederic'",
            "",
            "\u001b[0;31m---------------------------------------------------------------------------\u001b[0;32m\nNOTE: If your import is failing due to a missing package, you can\nmanually install dependencies using either !pip or !apt.\n\nTo view examples of installing some common dependencies, click the\n\"Open Examples\" button below.\n\u001b[0;31m---------------------------------------------------------------------------\u001b[0m\n"
          ],
          "errorDetails": {
            "actions": [
              {
                "action": "open_url",
                "actionText": "Open Examples",
                "url": "/notebooks/snippets/importing_libraries.ipynb"
              }
            ]
          }
        }
      ]
    }
  ]
}