{
  "nbformat": 4,
  "nbformat_minor": 0,
  "metadata": {
    "colab": {
      "provenance": [],
      "gpuType": "T4"
    },
    "kernelspec": {
      "name": "python3",
      "display_name": "Python 3"
    },
    "language_info": {
      "name": "python"
    },
    "accelerator": "GPU"
  },
  "cells": [
    {
      "cell_type": "code",
      "execution_count": null,
      "metadata": {
        "id": "0YlPkRaV2wOg",
        "colab": {
          "base_uri": "https://localhost:8080/"
        },
        "outputId": "0a889441-0094-49a1-f9e0-fbabc907c498"
      },
      "outputs": [
        {
          "output_type": "execute_result",
          "data": {
            "text/plain": [
              "['one', 'two', 'three', 1, 2, 'new']"
            ]
          },
          "metadata": {},
          "execution_count": 4
        }
      ],
      "source": [
        "my_list=[\"one\",\"two\",\"three\",1,2]\n",
        "my_list+[\"new\"] #append and + are same"
      ]
    },
    {
      "cell_type": "code",
      "source": [
        "my_list[:2]"
      ],
      "metadata": {
        "colab": {
          "base_uri": "https://localhost:8080/"
        },
        "id": "7rlLh6Zc7Byc",
        "outputId": "b7831b42-e7c6-477b-ff71-9c3079bc9fb1"
      },
      "execution_count": null,
      "outputs": [
        {
          "output_type": "execute_result",
          "data": {
            "text/plain": [
              "['one', 'two']"
            ]
          },
          "metadata": {},
          "execution_count": 5
        }
      ]
    },
    {
      "cell_type": "code",
      "source": [
        "my_list[2:]"
      ],
      "metadata": {
        "colab": {
          "base_uri": "https://localhost:8080/"
        },
        "id": "IByFGKwC7BvH",
        "outputId": "fb577731-811f-4188-ae62-9e074995e7d8"
      },
      "execution_count": null,
      "outputs": [
        {
          "output_type": "execute_result",
          "data": {
            "text/plain": [
              "['three', 1, 2]"
            ]
          },
          "metadata": {},
          "execution_count": 6
        }
      ]
    },
    {
      "cell_type": "code",
      "source": [
        "my_list=my_list+[\"newitem\"]\n",
        "my_list"
      ],
      "metadata": {
        "colab": {
          "base_uri": "https://localhost:8080/"
        },
        "id": "EdnP1Owp7ach",
        "outputId": "4838f7ff-f447-4a88-f001-09cb966f1be0"
      },
      "execution_count": null,
      "outputs": [
        {
          "output_type": "execute_result",
          "data": {
            "text/plain": [
              "['one', 'two', 'three', 1, 2, 'new', 'new', 'newitem']"
            ]
          },
          "metadata": {},
          "execution_count": 9
        }
      ]
    },
    {
      "cell_type": "code",
      "source": [
        "my_list*2"
      ],
      "metadata": {
        "colab": {
          "base_uri": "https://localhost:8080/"
        },
        "id": "wRTPH3ev7aTo",
        "outputId": "4173b6aa-9725-4939-a451-358adf11f8d8"
      },
      "execution_count": null,
      "outputs": [
        {
          "output_type": "execute_result",
          "data": {
            "text/plain": [
              "['one',\n",
              " 'two',\n",
              " 'three',\n",
              " 1,\n",
              " 2,\n",
              " 'new',\n",
              " 'new',\n",
              " 'newitem',\n",
              " 'one',\n",
              " 'two',\n",
              " 'three',\n",
              " 1,\n",
              " 2,\n",
              " 'new',\n",
              " 'new',\n",
              " 'newitem']"
            ]
          },
          "metadata": {},
          "execution_count": 10
        }
      ]
    },
    {
      "cell_type": "code",
      "source": [
        "my_list"
      ],
      "metadata": {
        "colab": {
          "base_uri": "https://localhost:8080/"
        },
        "id": "fkObuWW67aGh",
        "outputId": "ab863f33-b0a9-4645-f0f9-9f4f60a217f2"
      },
      "execution_count": null,
      "outputs": [
        {
          "output_type": "execute_result",
          "data": {
            "text/plain": [
              "['one', 'two', 'three', 1, 2, 'new', 'new', 'newitem']"
            ]
          },
          "metadata": {},
          "execution_count": 11
        }
      ]
    },
    {
      "cell_type": "code",
      "source": [
        "list1=[1,9,2,6]\n",
        "list1.append('append me')\n",
        "list1"
      ],
      "metadata": {
        "colab": {
          "base_uri": "https://localhost:8080/"
        },
        "id": "tfh2Y2028PAc",
        "outputId": "ef249593-4877-4974-a554-cdf06082e942"
      },
      "execution_count": null,
      "outputs": [
        {
          "output_type": "execute_result",
          "data": {
            "text/plain": [
              "[1, 9, 2, 6, 'append me']"
            ]
          },
          "metadata": {},
          "execution_count": 15
        }
      ]
    },
    {
      "cell_type": "code",
      "source": [
        "list1=list1+[\"dontappend\"]\n",
        "list1"
      ],
      "metadata": {
        "colab": {
          "base_uri": "https://localhost:8080/"
        },
        "id": "bdP4VwXl8O-G",
        "outputId": "aeba6608-9d52-49eb-c013-4647b9a85a3e"
      },
      "execution_count": null,
      "outputs": [
        {
          "output_type": "execute_result",
          "data": {
            "text/plain": [
              "[1, 9, 2, 6, 'append me', '', 'dontappend']"
            ]
          },
          "metadata": {},
          "execution_count": 17
        }
      ]
    },
    {
      "cell_type": "code",
      "source": [
        "list1.pop(0)"
      ],
      "metadata": {
        "colab": {
          "base_uri": "https://localhost:8080/"
        },
        "id": "oYuKcfOD8O7p",
        "outputId": "6646a1bd-0c4d-4c64-809d-052488d3a85a"
      },
      "execution_count": null,
      "outputs": [
        {
          "output_type": "execute_result",
          "data": {
            "text/plain": [
              "1"
            ]
          },
          "metadata": {},
          "execution_count": 18
        }
      ]
    },
    {
      "cell_type": "code",
      "source": [
        "list1"
      ],
      "metadata": {
        "colab": {
          "base_uri": "https://localhost:8080/"
        },
        "id": "msDLYAwt8O5N",
        "outputId": "8eb0d31a-87c5-470f-cd4f-307109bd9bef"
      },
      "execution_count": null,
      "outputs": [
        {
          "output_type": "execute_result",
          "data": {
            "text/plain": [
              "[9, 2, 6, 'append me', '', 'dontappend']"
            ]
          },
          "metadata": {},
          "execution_count": 19
        }
      ]
    },
    {
      "cell_type": "code",
      "source": [
        "popped_item=list1.pop() #defaulf pop out is -1, \"-1 is dont append\"\n",
        "popped_item"
      ],
      "metadata": {
        "colab": {
          "base_uri": "https://localhost:8080/",
          "height": 36
        },
        "id": "q0vdHwrs8O2G",
        "outputId": "8d29648e-2ed2-48c5-8b98-d1c4f5ce30fa"
      },
      "execution_count": null,
      "outputs": [
        {
          "output_type": "execute_result",
          "data": {
            "text/plain": [
              "'dontappend'"
            ],
            "application/vnd.google.colaboratory.intrinsic+json": {
              "type": "string"
            }
          },
          "metadata": {},
          "execution_count": 20
        }
      ]
    },
    {
      "cell_type": "code",
      "source": [
        "list1"
      ],
      "metadata": {
        "colab": {
          "base_uri": "https://localhost:8080/"
        },
        "id": "B0VUPcFx-NR3",
        "outputId": "eddc2ae6-49e5-4bf6-a818-6e70e0545ba4"
      },
      "execution_count": null,
      "outputs": [
        {
          "output_type": "execute_result",
          "data": {
            "text/plain": [
              "[9, 2, 6, 'append me', '']"
            ]
          },
          "metadata": {},
          "execution_count": 21
        }
      ]
    },
    {
      "cell_type": "code",
      "source": [
        "my_list.reverse()\n",
        "my_list"
      ],
      "metadata": {
        "colab": {
          "base_uri": "https://localhost:8080/"
        },
        "id": "aZrB0kc--xLd",
        "outputId": "7be433ba-882b-4bc3-a92b-6079edc0afcb"
      },
      "execution_count": null,
      "outputs": [
        {
          "output_type": "execute_result",
          "data": {
            "text/plain": [
              "['n', 'a', 'r', 'a', 's']"
            ]
          },
          "metadata": {},
          "execution_count": 30
        }
      ]
    },
    {
      "cell_type": "code",
      "source": [
        "my_list=['s','a','r','a','n']\n",
        "my_list"
      ],
      "metadata": {
        "colab": {
          "base_uri": "https://localhost:8080/"
        },
        "id": "Ur5Ta0Dh-xO_",
        "outputId": "d3628e95-694b-4268-bef9-5c5c1c2d86cc"
      },
      "execution_count": null,
      "outputs": [
        {
          "output_type": "execute_result",
          "data": {
            "text/plain": [
              "['s', 'a', 'r', 'a', 'n']"
            ]
          },
          "metadata": {},
          "execution_count": 29
        }
      ]
    },
    {
      "cell_type": "code",
      "source": [
        "new_list=['a','b','c','d','e']\n",
        "new_list"
      ],
      "metadata": {
        "colab": {
          "base_uri": "https://localhost:8080/"
        },
        "id": "y_6I_pSQ-xI6",
        "outputId": "acac228a-76a7-4d49-e982-468350151110"
      },
      "execution_count": null,
      "outputs": [
        {
          "output_type": "execute_result",
          "data": {
            "text/plain": [
              "['a', 'b', 'c', 'd', 'e']"
            ]
          },
          "metadata": {},
          "execution_count": 27
        }
      ]
    },
    {
      "cell_type": "code",
      "source": [
        "new_list.reverse()\n",
        "new_list"
      ],
      "metadata": {
        "colab": {
          "base_uri": "https://localhost:8080/"
        },
        "id": "EQyNgrDU-xGQ",
        "outputId": "7bfc7fb3-0c66-4d1a-d0ed-4e3d705fbae5"
      },
      "execution_count": null,
      "outputs": [
        {
          "output_type": "execute_result",
          "data": {
            "text/plain": [
              "['e', 'd', 'c', 'b', 'a']"
            ]
          },
          "metadata": {},
          "execution_count": 28
        }
      ]
    },
    {
      "cell_type": "code",
      "source": [
        "new_list.sort()\n",
        "new_list"
      ],
      "metadata": {
        "colab": {
          "base_uri": "https://localhost:8080/"
        },
        "id": "4XPsgsM1-xDm",
        "outputId": "661fd93a-8762-41be-d11f-ba8817373bce"
      },
      "execution_count": null,
      "outputs": [
        {
          "output_type": "execute_result",
          "data": {
            "text/plain": [
              "['a', 'b', 'c', 'd', 'e']"
            ]
          },
          "metadata": {},
          "execution_count": 31
        }
      ]
    },
    {
      "cell_type": "code",
      "source": [
        "my_list.sort()\n",
        "my_list"
      ],
      "metadata": {
        "colab": {
          "base_uri": "https://localhost:8080/"
        },
        "id": "FjHLP4q5-xA-",
        "outputId": "5b4c8dbc-88d8-4202-a7cd-d65f269af0d8"
      },
      "execution_count": null,
      "outputs": [
        {
          "output_type": "execute_result",
          "data": {
            "text/plain": [
              "['a', 'a', 'n', 'r', 's']"
            ]
          },
          "metadata": {},
          "execution_count": 34
        }
      ]
    },
    {
      "cell_type": "code",
      "source": [
        "list1=[1,2,3]\n",
        "list2=[4,5,6]\n",
        "list3=[7,8,9]\n",
        "matrix=[list1,list2,list3]\n",
        "matrix"
      ],
      "metadata": {
        "colab": {
          "base_uri": "https://localhost:8080/"
        },
        "id": "SbNut6lkAjwl",
        "outputId": "88bc7ea0-41c4-480f-9a63-10b5164e0eca"
      },
      "execution_count": null,
      "outputs": [
        {
          "output_type": "execute_result",
          "data": {
            "text/plain": [
              "[[1, 2, 3], [4, 5, 6], [7, 8, 9]]"
            ]
          },
          "metadata": {},
          "execution_count": 36
        }
      ]
    },
    {
      "cell_type": "code",
      "source": [
        "matrix[1]"
      ],
      "metadata": {
        "colab": {
          "base_uri": "https://localhost:8080/"
        },
        "id": "PcWxn2PaBa1_",
        "outputId": "a2981cce-21b9-48c5-9c3e-384f219d267f"
      },
      "execution_count": null,
      "outputs": [
        {
          "output_type": "execute_result",
          "data": {
            "text/plain": [
              "[4, 5, 6]"
            ]
          },
          "metadata": {},
          "execution_count": 37
        }
      ]
    },
    {
      "cell_type": "code",
      "source": [
        "matrix[1][2]"
      ],
      "metadata": {
        "colab": {
          "base_uri": "https://localhost:8080/"
        },
        "id": "YRQmBHIsBayt",
        "outputId": "c34b1749-caa7-4721-f873-f7e0226b2f9b"
      },
      "execution_count": null,
      "outputs": [
        {
          "output_type": "execute_result",
          "data": {
            "text/plain": [
              "6"
            ]
          },
          "metadata": {},
          "execution_count": 38
        }
      ]
    },
    {
      "cell_type": "code",
      "source": [
        "#Dictionaries\n",
        "#Dictionary start with {} curly bracket\n",
        "my_dict={'name':'saran','age':'42'}\n",
        "my_dict"
      ],
      "metadata": {
        "colab": {
          "base_uri": "https://localhost:8080/"
        },
        "id": "641AW-oYBawQ",
        "outputId": "9955ab22-1244-49d2-d9e6-7dcb7b816385"
      },
      "execution_count": null,
      "outputs": [
        {
          "output_type": "execute_result",
          "data": {
            "text/plain": [
              "{'name': 'saran', 'age': '42'}"
            ]
          },
          "metadata": {},
          "execution_count": 39
        }
      ]
    },
    {
      "cell_type": "code",
      "source": [
        "my_dict['age']"
      ],
      "metadata": {
        "colab": {
          "base_uri": "https://localhost:8080/",
          "height": 36
        },
        "id": "_528vT9wBatx",
        "outputId": "cd2b482d-f60a-48b5-aa1a-d416b2beb3b2"
      },
      "execution_count": null,
      "outputs": [
        {
          "output_type": "execute_result",
          "data": {
            "text/plain": [
              "'42'"
            ],
            "application/vnd.google.colaboratory.intrinsic+json": {
              "type": "string"
            }
          },
          "metadata": {},
          "execution_count": 40
        }
      ]
    },
    {
      "cell_type": "code",
      "source": [
        "my_dict={'key1':123,'key2':[10,11,12], 'key3':['item0','item1','item2'] }\n",
        "my_dict"
      ],
      "metadata": {
        "colab": {
          "base_uri": "https://localhost:8080/"
        },
        "id": "TBSLMGSpDEel",
        "outputId": "156ad87b-efa5-489b-a2db-e06a805ded44"
      },
      "execution_count": null,
      "outputs": [
        {
          "output_type": "execute_result",
          "data": {
            "text/plain": [
              "{'key1': 123, 'key2': [10, 11, 12], 'key3': ['item0', 'item1', 'item2']}"
            ]
          },
          "metadata": {},
          "execution_count": 42
        }
      ]
    },
    {
      "cell_type": "code",
      "source": [
        "my_dict['key2'][0:] #if you want to call, use []"
      ],
      "metadata": {
        "colab": {
          "base_uri": "https://localhost:8080/"
        },
        "id": "rLdcNeNwFIjm",
        "outputId": "d1b62019-6bf7-4b10-c6a9-cf9489ca8089"
      },
      "execution_count": null,
      "outputs": [
        {
          "output_type": "execute_result",
          "data": {
            "text/plain": [
              "[10, 11, 12]"
            ]
          },
          "metadata": {},
          "execution_count": 48
        }
      ]
    },
    {
      "cell_type": "code",
      "source": [
        "my_dict['key1']"
      ],
      "metadata": {
        "colab": {
          "base_uri": "https://localhost:8080/"
        },
        "id": "xKEGB4y0FIf-",
        "outputId": "a244e039-4713-47d9-ecbe-1c1bf4601f70"
      },
      "execution_count": null,
      "outputs": [
        {
          "output_type": "execute_result",
          "data": {
            "text/plain": [
              "123"
            ]
          },
          "metadata": {},
          "execution_count": 45
        }
      ]
    },
    {
      "cell_type": "code",
      "source": [
        "my_dict['key3'][0].upper()"
      ],
      "metadata": {
        "colab": {
          "base_uri": "https://localhost:8080/",
          "height": 36
        },
        "id": "ijl4mRWiFIav",
        "outputId": "a458f0fd-4f93-4ab8-f586-8bd3ebba80ea"
      },
      "execution_count": null,
      "outputs": [
        {
          "output_type": "execute_result",
          "data": {
            "text/plain": [
              "'ITEM0'"
            ],
            "application/vnd.google.colaboratory.intrinsic+json": {
              "type": "string"
            }
          },
          "metadata": {},
          "execution_count": 52
        }
      ]
    },
    {
      "cell_type": "code",
      "source": [
        "my_dict['key1']=my_dict['key1']-95\n",
        "my_dict['key1']"
      ],
      "metadata": {
        "colab": {
          "base_uri": "https://localhost:8080/"
        },
        "id": "T1DmUqC8G5T3",
        "outputId": "ae48ab9a-21ea-4a89-a3ee-7dfdd49b1726"
      },
      "execution_count": null,
      "outputs": [
        {
          "output_type": "execute_result",
          "data": {
            "text/plain": [
              "28"
            ]
          },
          "metadata": {},
          "execution_count": 53
        }
      ]
    },
    {
      "cell_type": "code",
      "source": [
        "my_dict['key1']-=123\n",
        "my_dict['key1']"
      ],
      "metadata": {
        "colab": {
          "base_uri": "https://localhost:8080/"
        },
        "id": "EHOib8sRG5Qf",
        "outputId": "a674790b-7d3e-409d-f34e-72cb4015f66c"
      },
      "execution_count": null,
      "outputs": [
        {
          "output_type": "execute_result",
          "data": {
            "text/plain": [
              "-95"
            ]
          },
          "metadata": {},
          "execution_count": 54
        }
      ]
    },
    {
      "cell_type": "code",
      "source": [
        "dic={}\n",
        "dic['name']='Saran'\n",
        "dic['age']='42'\n",
        "dic"
      ],
      "metadata": {
        "colab": {
          "base_uri": "https://localhost:8080/"
        },
        "id": "DaX8098IG5LO",
        "outputId": "74f27087-fae4-4a68-87e2-5b77c1e4d4a2"
      },
      "execution_count": null,
      "outputs": [
        {
          "output_type": "execute_result",
          "data": {
            "text/plain": [
              "{'name': 'Saran', 'age': '42'}"
            ]
          },
          "metadata": {},
          "execution_count": 58
        }
      ]
    },
    {
      "cell_type": "code",
      "source": [
        "dic1={\"Car\":5, \"Auto\":25, \"Bike\":125}\n",
        "dic1"
      ],
      "metadata": {
        "colab": {
          "base_uri": "https://localhost:8080/"
        },
        "id": "w3X_uO1PG5Ig",
        "outputId": "46e626cd-2277-4f57-966c-3504a36106b4"
      },
      "execution_count": null,
      "outputs": [
        {
          "output_type": "execute_result",
          "data": {
            "text/plain": [
              "{'Car': 5, 'Auto': 25, 'Bike': 125}"
            ]
          },
          "metadata": {},
          "execution_count": 59
        }
      ]
    },
    {
      "cell_type": "code",
      "source": [
        "d={'age':42, 'height':6, 'weight':82}\n",
        "d.keys()\n"
      ],
      "metadata": {
        "colab": {
          "base_uri": "https://localhost:8080/"
        },
        "id": "HdZr8qkBG3d0",
        "outputId": "af233267-dfe5-499d-ba8a-c61ee7ff7da5"
      },
      "execution_count": null,
      "outputs": [
        {
          "output_type": "execute_result",
          "data": {
            "text/plain": [
              "dict_keys(['age', 'height', 'weight'])"
            ]
          },
          "metadata": {},
          "execution_count": 62
        }
      ]
    },
    {
      "cell_type": "code",
      "source": [
        "d.values()"
      ],
      "metadata": {
        "colab": {
          "base_uri": "https://localhost:8080/"
        },
        "id": "GCIMUAvmMDoa",
        "outputId": "09d56db4-b5d8-4cf6-8274-562629039c61"
      },
      "execution_count": null,
      "outputs": [
        {
          "output_type": "execute_result",
          "data": {
            "text/plain": [
              "dict_values([42, 6, 82])"
            ]
          },
          "metadata": {},
          "execution_count": 63
        }
      ]
    },
    {
      "cell_type": "code",
      "source": [
        "d.items()"
      ],
      "metadata": {
        "colab": {
          "base_uri": "https://localhost:8080/"
        },
        "id": "J6YsEq0rMRXE",
        "outputId": "e202976d-c7a8-486c-a82a-399a81310e09"
      },
      "execution_count": null,
      "outputs": [
        {
          "output_type": "execute_result",
          "data": {
            "text/plain": [
              "dict_items([('age', 42), ('height', 6), ('weight', 82)])"
            ]
          },
          "metadata": {},
          "execution_count": 64
        }
      ]
    },
    {
      "cell_type": "code",
      "source": [
        "#Tuples. Tuples are immutable, cant change, edit\n",
        "#Tuples are constant.\n",
        "t=(1,2,3)\n",
        "len(t)"
      ],
      "metadata": {
        "colab": {
          "base_uri": "https://localhost:8080/"
        },
        "id": "7g_xTFtDMUQU",
        "outputId": "19119d61-3e9a-404d-f8b7-9e97e247edbd"
      },
      "execution_count": null,
      "outputs": [
        {
          "output_type": "execute_result",
          "data": {
            "text/plain": [
              "3"
            ]
          },
          "metadata": {},
          "execution_count": 65
        }
      ]
    },
    {
      "cell_type": "code",
      "source": [
        "t=('one',2,'three','one')\n",
        "t"
      ],
      "metadata": {
        "colab": {
          "base_uri": "https://localhost:8080/"
        },
        "id": "b-HrTFcDMUM3",
        "outputId": "eff6346b-cf4b-41f5-986b-0718ee7a7b72"
      },
      "execution_count": null,
      "outputs": [
        {
          "output_type": "execute_result",
          "data": {
            "text/plain": [
              "('one', 2, 'three', 'one')"
            ]
          },
          "metadata": {},
          "execution_count": 74
        }
      ]
    },
    {
      "cell_type": "code",
      "source": [
        "t[1]"
      ],
      "metadata": {
        "colab": {
          "base_uri": "https://localhost:8080/"
        },
        "id": "30euw_0zMUJ4",
        "outputId": "d45225af-4cbc-4712-dfa6-d0de0448ea5e"
      },
      "execution_count": null,
      "outputs": [
        {
          "output_type": "execute_result",
          "data": {
            "text/plain": [
              "2"
            ]
          },
          "metadata": {},
          "execution_count": 75
        }
      ]
    },
    {
      "cell_type": "code",
      "source": [
        "t[-1]"
      ],
      "metadata": {
        "colab": {
          "base_uri": "https://localhost:8080/",
          "height": 36
        },
        "id": "SICI_5irMUHd",
        "outputId": "5246076d-baa4-4013-f3ed-2408cbbb930e"
      },
      "execution_count": null,
      "outputs": [
        {
          "output_type": "execute_result",
          "data": {
            "text/plain": [
              "'one'"
            ],
            "application/vnd.google.colaboratory.intrinsic+json": {
              "type": "string"
            }
          },
          "metadata": {},
          "execution_count": 76
        }
      ]
    },
    {
      "cell_type": "code",
      "source": [
        "t.index('one')"
      ],
      "metadata": {
        "colab": {
          "base_uri": "https://localhost:8080/"
        },
        "id": "xV4Mm6-yOl9C",
        "outputId": "bfcab148-9f48-4281-e89b-c80b830b83b7"
      },
      "execution_count": null,
      "outputs": [
        {
          "output_type": "execute_result",
          "data": {
            "text/plain": [
              "0"
            ]
          },
          "metadata": {},
          "execution_count": 77
        }
      ]
    },
    {
      "cell_type": "code",
      "source": [
        "t.count('one')"
      ],
      "metadata": {
        "colab": {
          "base_uri": "https://localhost:8080/"
        },
        "id": "e398lWfEOl4T",
        "outputId": "9ef6d64e-0c31-4f47-8d7a-af9acf06daf2"
      },
      "execution_count": null,
      "outputs": [
        {
          "output_type": "execute_result",
          "data": {
            "text/plain": [
              "2"
            ]
          },
          "metadata": {},
          "execution_count": 78
        }
      ]
    },
    {
      "cell_type": "code",
      "source": [
        "# SETS. we add to sets with add() method. unordered"
      ],
      "metadata": {
        "id": "vvElm7ExOlzq"
      },
      "execution_count": null,
      "outputs": []
    },
    {
      "cell_type": "code",
      "source": [
        "x=set()\n",
        "x.add(1)\n",
        "x"
      ],
      "metadata": {
        "id": "dcu1V6XgOloV",
        "colab": {
          "base_uri": "https://localhost:8080/"
        },
        "outputId": "9ea01efd-0d44-41f5-d891-c6a2d7100e84"
      },
      "execution_count": 1,
      "outputs": [
        {
          "output_type": "execute_result",
          "data": {
            "text/plain": [
              "{1}"
            ]
          },
          "metadata": {},
          "execution_count": 1
        }
      ]
    },
    {
      "cell_type": "code",
      "source": [
        "x.add(2)\n",
        "x"
      ],
      "metadata": {
        "id": "82__uvKiOlk7",
        "colab": {
          "base_uri": "https://localhost:8080/"
        },
        "outputId": "050500bc-9517-4476-ee9a-fc6af22d7cc4"
      },
      "execution_count": 3,
      "outputs": [
        {
          "output_type": "execute_result",
          "data": {
            "text/plain": [
              "{1, 2}"
            ]
          },
          "metadata": {},
          "execution_count": 3
        }
      ]
    },
    {
      "cell_type": "code",
      "source": [
        "#try to add the same element\n",
        "x.add(2)\n",
        "x"
      ],
      "metadata": {
        "colab": {
          "base_uri": "https://localhost:8080/"
        },
        "id": "48NQ_gxcz1L6",
        "outputId": "90a310d7-2d2f-449d-c4ad-7ed9d9416809"
      },
      "execution_count": 4,
      "outputs": [
        {
          "output_type": "execute_result",
          "data": {
            "text/plain": [
              "{1, 2}"
            ]
          },
          "metadata": {},
          "execution_count": 4
        }
      ]
    },
    {
      "cell_type": "code",
      "source": [
        "list1=[1,1,2,2,3,3,4,5,5,6,7,7]\n",
        "set(list1)\n"
      ],
      "metadata": {
        "colab": {
          "base_uri": "https://localhost:8080/"
        },
        "id": "XVYYNTrQz1IX",
        "outputId": "58da3344-cbfd-48e1-ed2d-2fc7e7bb062b"
      },
      "execution_count": 5,
      "outputs": [
        {
          "output_type": "execute_result",
          "data": {
            "text/plain": [
              "{1, 2, 3, 4, 5, 6, 7}"
            ]
          },
          "metadata": {},
          "execution_count": 5
        }
      ]
    },
    {
      "cell_type": "code",
      "source": [
        "#If function\n",
        "\n",
        "a=True\n",
        "a"
      ],
      "metadata": {
        "colab": {
          "base_uri": "https://localhost:8080/"
        },
        "id": "ehrY6Q1Lz1Eq",
        "outputId": "2989fdfb-877a-4f97-c0a9-7109b558140c"
      },
      "execution_count": 6,
      "outputs": [
        {
          "output_type": "execute_result",
          "data": {
            "text/plain": [
              "True"
            ]
          },
          "metadata": {},
          "execution_count": 6
        }
      ]
    },
    {
      "cell_type": "code",
      "source": [
        "b=None\n",
        "print(b)"
      ],
      "metadata": {
        "colab": {
          "base_uri": "https://localhost:8080/"
        },
        "id": "qTJTH7jb1YpP",
        "outputId": "cc903276-bbcd-4812-a84f-dcdd1dd426ca"
      },
      "execution_count": 9,
      "outputs": [
        {
          "output_type": "stream",
          "name": "stdout",
          "text": [
            "None\n"
          ]
        }
      ]
    },
    {
      "cell_type": "code",
      "source": [
        "if True:\n",
        "  print(\"It was True\")"
      ],
      "metadata": {
        "colab": {
          "base_uri": "https://localhost:8080/"
        },
        "id": "wGItUQZl1Z_B",
        "outputId": "8787d6c3-22cc-4324-c89d-223b64695650"
      },
      "execution_count": 10,
      "outputs": [
        {
          "output_type": "stream",
          "name": "stdout",
          "text": [
            "It was True\n"
          ]
        }
      ]
    },
    {
      "cell_type": "code",
      "source": [
        "x=False\n",
        "if x:\n",
        "  print(\"X Was True\")\n",
        "else:\n",
        "  print(\"i will be printed in any case where x is not true\")"
      ],
      "metadata": {
        "colab": {
          "base_uri": "https://localhost:8080/"
        },
        "id": "RctrnXPI1Z8d",
        "outputId": "2c7fd545-d539-47d6-b221-8bd3b97e35a2"
      },
      "execution_count": 12,
      "outputs": [
        {
          "output_type": "stream",
          "name": "stdout",
          "text": [
            "i will be printed in any case where x is not true\n"
          ]
        }
      ]
    },
    {
      "cell_type": "code",
      "source": [
        "loc=\"Fuel Station\"\n",
        "if loc==\"Bank\":\n",
        "  print(\"Welcome to the Bank\")\n",
        "elif loc==\"Fuel Station\":\n",
        "  print(\"Welcome to fuel station\")\n",
        "else:\n",
        "  print(\"Where are you\")"
      ],
      "metadata": {
        "colab": {
          "base_uri": "https://localhost:8080/"
        },
        "id": "RSEGcNa01Z56",
        "outputId": "7dc7ed9d-19f2-42c9-a747-760ea99da459"
      },
      "execution_count": 14,
      "outputs": [
        {
          "output_type": "stream",
          "name": "stdout",
          "text": [
            "Welcome to fuel station\n"
          ]
        }
      ]
    },
    {
      "cell_type": "code",
      "source": [
        "person=\"Rohit\"\n",
        "if person==\"Kohli\":\n",
        "  print(\"Captain is Kohli\")\n",
        "elif person==\"Rohit\":\n",
        "  print(\"Captain is Rohit\")\n",
        "else:\n",
        "  print(\"Who is the next captain?\")"
      ],
      "metadata": {
        "colab": {
          "base_uri": "https://localhost:8080/"
        },
        "id": "-vZ2IYiG1Z3f",
        "outputId": "1749f061-4173-481c-8e8e-d032fb832dd9"
      },
      "execution_count": 16,
      "outputs": [
        {
          "output_type": "stream",
          "name": "stdout",
          "text": [
            "Captain is Rohit\n"
          ]
        }
      ]
    },
    {
      "cell_type": "code",
      "source": [
        "# For loop\n",
        "list1=[2,1,3,4,6,5] #it will print only the order it has\n",
        "for num in list1:\n",
        "  print(num)"
      ],
      "metadata": {
        "colab": {
          "base_uri": "https://localhost:8080/"
        },
        "id": "2PklghZ1DD2g",
        "outputId": "8c1bf1b5-3bb5-446a-c1ec-b100aab9d53b"
      },
      "execution_count": 21,
      "outputs": [
        {
          "output_type": "stream",
          "name": "stdout",
          "text": [
            "2\n",
            "1\n",
            "3\n",
            "4\n",
            "6\n",
            "5\n"
          ]
        }
      ]
    },
    {
      "cell_type": "code",
      "source": [
        "for num in list1:\n",
        "  if num%2==0:\n",
        "    print(num)"
      ],
      "metadata": {
        "colab": {
          "base_uri": "https://localhost:8080/"
        },
        "id": "egzXTz-qDDzD",
        "outputId": "13ad1111-f616-42bd-da71-2d6d9029c198"
      },
      "execution_count": 22,
      "outputs": [
        {
          "output_type": "stream",
          "name": "stdout",
          "text": [
            "2\n",
            "4\n",
            "6\n"
          ]
        }
      ]
    },
    {
      "cell_type": "code",
      "source": [
        "list2=[1,2,3,4,5,6,7]\n",
        "for numb in list2:\n",
        "  if numb % 2==0:\n",
        "    print(\"Even numbers:\",numb)\n",
        "  else:\n",
        "    print(\"Odd Numbers:\",numb)"
      ],
      "metadata": {
        "colab": {
          "base_uri": "https://localhost:8080/"
        },
        "id": "-uzni26UDDwR",
        "outputId": "916fdaa4-73d5-447e-c1ef-1035eff9318f"
      },
      "execution_count": 34,
      "outputs": [
        {
          "output_type": "stream",
          "name": "stdout",
          "text": [
            "Odd Numbers: 1\n",
            "Even numbers: 2\n",
            "Odd Numbers: 3\n",
            "Even numbers: 4\n",
            "Odd Numbers: 5\n",
            "Even numbers: 6\n",
            "Odd Numbers: 7\n"
          ]
        }
      ]
    },
    {
      "cell_type": "code",
      "source": [
        "list_sum=0\n",
        "for numb in list2:\n",
        "  list_sum=list_sum+numb #(Alternatively list_sum+=numb)\n",
        "print(list_sum)"
      ],
      "metadata": {
        "colab": {
          "base_uri": "https://localhost:8080/"
        },
        "id": "lEYs8fbKDDq6",
        "outputId": "e7534f53-cdf0-456e-82eb-2445d73026d2"
      },
      "execution_count": 33,
      "outputs": [
        {
          "output_type": "stream",
          "name": "stdout",
          "text": [
            "28\n"
          ]
        }
      ]
    },
    {
      "cell_type": "code",
      "source": [
        "for letter in \"This is the sentence\":\n",
        "  print(letter)"
      ],
      "metadata": {
        "colab": {
          "base_uri": "https://localhost:8080/"
        },
        "id": "6NabzR4n1Z0z",
        "outputId": "eb67e9f3-9d76-4d86-aa04-ab077748d3ac"
      },
      "execution_count": 35,
      "outputs": [
        {
          "output_type": "stream",
          "name": "stdout",
          "text": [
            "T\n",
            "h\n",
            "i\n",
            "s\n",
            " \n",
            "i\n",
            "s\n",
            " \n",
            "t\n",
            "h\n",
            "e\n",
            " \n",
            "s\n",
            "e\n",
            "n\n",
            "t\n",
            "e\n",
            "n\n",
            "c\n",
            "e\n"
          ]
        }
      ]
    },
    {
      "cell_type": "code",
      "source": [
        "list2=[(2,4),(6,8),(10,12)]\n",
        "for tup in list2:\n",
        "  print(tup)"
      ],
      "metadata": {
        "colab": {
          "base_uri": "https://localhost:8080/"
        },
        "id": "SvV688qCG5eo",
        "outputId": "2aa075c0-30a5-4cf5-cefe-a1e3312782bd"
      },
      "execution_count": 36,
      "outputs": [
        {
          "output_type": "stream",
          "name": "stdout",
          "text": [
            "(2, 4)\n",
            "(6, 8)\n",
            "(10, 12)\n"
          ]
        }
      ]
    },
    {
      "cell_type": "code",
      "source": [
        "for (s1,s2) in list2:\n",
        "  print(s1)"
      ],
      "metadata": {
        "colab": {
          "base_uri": "https://localhost:8080/"
        },
        "id": "WcR76RC_G5bQ",
        "outputId": "43030c00-94bc-4bff-feb1-e10cf34df675"
      },
      "execution_count": 38,
      "outputs": [
        {
          "output_type": "stream",
          "name": "stdout",
          "text": [
            "2\n",
            "6\n",
            "10\n"
          ]
        }
      ]
    },
    {
      "cell_type": "code",
      "source": [
        "d={'t1':2, 't2':3, 't3':4}\n",
        "for values in d:\n",
        "  print(values)"
      ],
      "metadata": {
        "colab": {
          "base_uri": "https://localhost:8080/"
        },
        "id": "BpWLfgZ1G5Vb",
        "outputId": "96f38679-e451-4e9a-86f2-e6537cb00afb"
      },
      "execution_count": 42,
      "outputs": [
        {
          "output_type": "stream",
          "name": "stdout",
          "text": [
            "t1\n",
            "t2\n",
            "t3\n"
          ]
        }
      ]
    },
    {
      "cell_type": "code",
      "source": [
        "d.items()\n"
      ],
      "metadata": {
        "colab": {
          "base_uri": "https://localhost:8080/"
        },
        "id": "yfgkGVoUG5Py",
        "outputId": "fc1c2358-1d5b-4157-ff46-a87f6127bd0c"
      },
      "execution_count": 43,
      "outputs": [
        {
          "output_type": "execute_result",
          "data": {
            "text/plain": [
              "dict_items([('t1', 2), ('t2', 3), ('t3', 4)])"
            ]
          },
          "metadata": {},
          "execution_count": 43
        }
      ]
    },
    {
      "cell_type": "code",
      "source": [
        "for t,s in d.items():\n",
        "  print(t)\n",
        "  print(s)"
      ],
      "metadata": {
        "colab": {
          "base_uri": "https://localhost:8080/"
        },
        "id": "UAG5NXjhG5Mv",
        "outputId": "d4f658e7-5b26-4ceb-b96a-19819765f295"
      },
      "execution_count": 44,
      "outputs": [
        {
          "output_type": "stream",
          "name": "stdout",
          "text": [
            "t1\n",
            "2\n",
            "t2\n",
            "3\n",
            "t3\n",
            "4\n"
          ]
        }
      ]
    },
    {
      "cell_type": "code",
      "source": [
        "list(d.keys())"
      ],
      "metadata": {
        "colab": {
          "base_uri": "https://localhost:8080/"
        },
        "id": "W7mk7eGTG5Jf",
        "outputId": "3d7cf743-e372-49d0-8c0c-82ba1765de38"
      },
      "execution_count": 45,
      "outputs": [
        {
          "output_type": "execute_result",
          "data": {
            "text/plain": [
              "['t1', 't2', 't3']"
            ]
          },
          "metadata": {},
          "execution_count": 45
        }
      ]
    },
    {
      "cell_type": "code",
      "source": [
        "sorted(d.values())"
      ],
      "metadata": {
        "colab": {
          "base_uri": "https://localhost:8080/"
        },
        "id": "UghMfNCuG4_J",
        "outputId": "5f891406-acf9-4d8f-af43-444fbb7f92bf"
      },
      "execution_count": 47,
      "outputs": [
        {
          "output_type": "execute_result",
          "data": {
            "text/plain": [
              "[2, 3, 4]"
            ]
          },
          "metadata": {},
          "execution_count": 47
        }
      ]
    },
    {
      "cell_type": "code",
      "source": [
        "#Oops Object Oriented Programs\n",
        "#Class = Blueprint of an object\n",
        "#Lists, Strings, Dictionary = Objects"
      ],
      "metadata": {
        "id": "3vVYPDDQOmHd"
      },
      "execution_count": null,
      "outputs": []
    },
    {
      "cell_type": "code",
      "source": [
        "#Classes\n",
        "#Empty class\n",
        "class Person:\n",
        "  pass"
      ],
      "metadata": {
        "id": "ctXp31KROmEC"
      },
      "execution_count": null,
      "outputs": []
    },
    {
      "cell_type": "code",
      "source": [
        "person1=person()\n",
        "print(person1)"
      ],
      "metadata": {
        "colab": {
          "base_uri": "https://localhost:8080/",
          "height": 192
        },
        "id": "a8SwOczkOmBe",
        "outputId": "03cc20e4-3a48-4426-8d55-824b6fc34b8c"
      },
      "execution_count": 49,
      "outputs": [
        {
          "output_type": "error",
          "ename": "TypeError",
          "evalue": "ignored",
          "traceback": [
            "\u001b[0;31m---------------------------------------------------------------------------\u001b[0m",
            "\u001b[0;31mTypeError\u001b[0m                                 Traceback (most recent call last)",
            "\u001b[0;32m<ipython-input-49-5991397f7058>\u001b[0m in \u001b[0;36m<cell line: 1>\u001b[0;34m()\u001b[0m\n\u001b[0;32m----> 1\u001b[0;31m \u001b[0mperson1\u001b[0m\u001b[0;34m=\u001b[0m\u001b[0mperson\u001b[0m\u001b[0;34m(\u001b[0m\u001b[0;34m)\u001b[0m\u001b[0;34m\u001b[0m\u001b[0;34m\u001b[0m\u001b[0m\n\u001b[0m\u001b[1;32m      2\u001b[0m \u001b[0mprint\u001b[0m\u001b[0;34m(\u001b[0m\u001b[0mperson1\u001b[0m\u001b[0;34m)\u001b[0m\u001b[0;34m\u001b[0m\u001b[0;34m\u001b[0m\u001b[0m\n",
            "\u001b[0;31mTypeError\u001b[0m: 'str' object is not callable"
          ]
        }
      ]
    },
    {
      "cell_type": "code",
      "source": [
        "person1.name=(\"Sara\")\n",
        "print(person1.name)"
      ],
      "metadata": {
        "colab": {
          "base_uri": "https://localhost:8080/",
          "height": 192
        },
        "id": "szB7b1bgOl_K",
        "outputId": "cf841f0c-b183-4271-cc3c-acf0411c0f47"
      },
      "execution_count": 51,
      "outputs": [
        {
          "output_type": "error",
          "ename": "NameError",
          "evalue": "ignored",
          "traceback": [
            "\u001b[0;31m---------------------------------------------------------------------------\u001b[0m",
            "\u001b[0;31mNameError\u001b[0m                                 Traceback (most recent call last)",
            "\u001b[0;32m<ipython-input-51-f45bc016a939>\u001b[0m in \u001b[0;36m<cell line: 1>\u001b[0;34m()\u001b[0m\n\u001b[0;32m----> 1\u001b[0;31m \u001b[0mperson1\u001b[0m\u001b[0;34m.\u001b[0m\u001b[0mname\u001b[0m\u001b[0;34m=\u001b[0m\u001b[0;34m(\u001b[0m\u001b[0;34m\"Sara\"\u001b[0m\u001b[0;34m)\u001b[0m\u001b[0;34m\u001b[0m\u001b[0;34m\u001b[0m\u001b[0m\n\u001b[0m\u001b[1;32m      2\u001b[0m \u001b[0mprint\u001b[0m\u001b[0;34m(\u001b[0m\u001b[0mperson1\u001b[0m\u001b[0;34m.\u001b[0m\u001b[0mname\u001b[0m\u001b[0;34m)\u001b[0m\u001b[0;34m\u001b[0m\u001b[0;34m\u001b[0m\u001b[0m\n",
            "\u001b[0;31mNameError\u001b[0m: name 'person1' is not defined"
          ]
        }
      ]
    },
    {
      "cell_type": "code",
      "source": [
        "dir(person1)"
      ],
      "metadata": {
        "colab": {
          "base_uri": "https://localhost:8080/",
          "height": 175
        },
        "id": "z4_nNlTjOl8e",
        "outputId": "58d0cf07-326c-40a4-d91b-cbe2a624d276"
      },
      "execution_count": 52,
      "outputs": [
        {
          "output_type": "error",
          "ename": "NameError",
          "evalue": "ignored",
          "traceback": [
            "\u001b[0;31m---------------------------------------------------------------------------\u001b[0m",
            "\u001b[0;31mNameError\u001b[0m                                 Traceback (most recent call last)",
            "\u001b[0;32m<ipython-input-52-3f210c19a46f>\u001b[0m in \u001b[0;36m<cell line: 1>\u001b[0;34m()\u001b[0m\n\u001b[0;32m----> 1\u001b[0;31m \u001b[0mdir\u001b[0m\u001b[0;34m(\u001b[0m\u001b[0mperson1\u001b[0m\u001b[0;34m)\u001b[0m\u001b[0;34m\u001b[0m\u001b[0;34m\u001b[0m\u001b[0m\n\u001b[0m",
            "\u001b[0;31mNameError\u001b[0m: name 'person1' is not defined"
          ]
        }
      ]
    },
    {
      "cell_type": "code",
      "source": [
        "class person:\n",
        "  def __init__(self,name1,lastname1):\n",
        "    self.name=name1\n",
        "    self.lastname=lastname1\n",
        "person=person(\"Sara\",\"Vanan\")\n",
        "print(person.lastname)"
      ],
      "metadata": {
        "colab": {
          "base_uri": "https://localhost:8080/"
        },
        "id": "iwwed2W2Ol5q",
        "outputId": "32903f31-8e62-46ab-a330-0ed65cd04fbe"
      },
      "execution_count": 54,
      "outputs": [
        {
          "output_type": "stream",
          "name": "stdout",
          "text": [
            "Vanan\n"
          ]
        }
      ]
    },
    {
      "cell_type": "code",
      "source": [
        "class person:\n",
        "  def __init__(self,name1,lastname1):\n",
        "    self.name=name1\n",
        "    self.lastname=lastname1\n",
        "  def __str__(self):\n",
        "    return \"The First Name is {} and the Last name is {}\".format(self.name,self.lastname)\n",
        "person1=person(\"Saravanan\",\"Nachiappan\")\n",
        "print(person1)\n",
        ""
      ],
      "metadata": {
        "colab": {
          "base_uri": "https://localhost:8080/"
        },
        "id": "CK9nQ1YhMg7k",
        "outputId": "542ad4af-81e9-49cc-f590-c5a3c5209368"
      },
      "execution_count": 62,
      "outputs": [
        {
          "output_type": "stream",
          "name": "stdout",
          "text": [
            "The First Name is Saravanan and the Last name is Nachiappan\n"
          ]
        }
      ]
    },
    {
      "cell_type": "code",
      "source": [
        "class person:\n",
        "  def __init__(self,name1,lastname1):\n",
        "    self.name=name1\n",
        "    self.lastname=lastname1\n",
        "  def __str__(self):\n",
        "    return f\"The First Name is {self.name} and the Last name is {self.lastname}\"\n",
        "person1=person(\"Saravanan\",\"Nachiappan\")\n",
        "print(person1)"
      ],
      "metadata": {
        "colab": {
          "base_uri": "https://localhost:8080/"
        },
        "id": "G-zaM6jDYxWi",
        "outputId": "4035a29e-b827-4df3-ea0a-80b3fe43c654"
      },
      "execution_count": 64,
      "outputs": [
        {
          "output_type": "stream",
          "name": "stdout",
          "text": [
            "The First Name is Saravanan and the Last name is Nachiappan\n"
          ]
        }
      ]
    },
    {
      "cell_type": "code",
      "source": [
        "\"Hello how are you{}\".format(\" Sara\")"
      ],
      "metadata": {
        "colab": {
          "base_uri": "https://localhost:8080/",
          "height": 36
        },
        "id": "oF_8uSPxZSaR",
        "outputId": "3643bd7f-6c9e-449e-8338-eb0fac2afe2c"
      },
      "execution_count": 66,
      "outputs": [
        {
          "output_type": "execute_result",
          "data": {
            "text/plain": [
              "'Hello how are you Sara'"
            ],
            "application/vnd.google.colaboratory.intrinsic+json": {
              "type": "string"
            }
          },
          "metadata": {},
          "execution_count": 66
        }
      ]
    },
    {
      "cell_type": "code",
      "source": [
        "class bank:\n",
        "  def __init__(self,accname,accnum,balance=0):\n",
        "    self.accname=accname\n",
        "    self.accnum=accnum\n",
        "    self.balance=balance\n",
        "  def __str__(self):\n",
        "    return f\"Account Holder Name: {self.accname} Account Number: {self.accnum} Balance :{self.balance}\"\n",
        "detail=bank(\"Saravanan.N\",\"00821140000671\",\"25000\")\n",
        "\n",
        "  def deposit(self,amount):\n",
        "    self.balance+=amount\n",
        "  def withdraw(self,withdraw):\n",
        "    if withdraw<=self.balance:\n",
        "      self.balance=self.balance-withdraw\n",
        "    else:\n",
        "      print(\"The balance is less\")\n"
      ],
      "metadata": {
        "id": "Oa-SRJqWZSWu"
      },
      "execution_count": 76,
      "outputs": []
    },
    {
      "cell_type": "code",
      "source": [
        "class bank:\n",
        "  def __init__(self,accname,accnum,balance):\n",
        "    self.accname=accname\n",
        "    self.accnum=accnum\n",
        "    self.balance=balance\n",
        "\n",
        "  def __str__(self):\n",
        "    return f\"Account Holder Name: {self.accname} Account Number: {self.accnum} Balance :{self.balance}\"\n",
        "  def deposit(self,deposit):\n",
        "    self.balance+=deposit\n",
        "\n",
        "  def withdrawal(self,withdrawal):\n",
        "    if withdrawal<=self.balance:\n",
        "      self.balance-=withdrawal\n",
        "    else:\n",
        "      print(\"The balance is less and ur acc balance is \",self.balance)\n",
        "\n",
        "\n",
        "\n",
        "\n",
        "detail=bank(\"Saravanan.N\",\"00821140000671\",0)\n",
        "\n",
        "print(detail)"
      ],
      "metadata": {
        "colab": {
          "base_uri": "https://localhost:8080/"
        },
        "id": "Agqd0MC5ZSR-",
        "outputId": "2038d96c-69ee-4513-c26d-998476703962"
      },
      "execution_count": 26,
      "outputs": [
        {
          "output_type": "stream",
          "name": "stdout",
          "text": [
            "Account Holder Name: Saravanan.N Account Number: 00821140000671 Balance :0\n"
          ]
        }
      ]
    },
    {
      "cell_type": "code",
      "source": [
        "detail.deposit(10000)\n",
        "print(detail.balance)"
      ],
      "metadata": {
        "colab": {
          "base_uri": "https://localhost:8080/"
        },
        "id": "o5wGd2OAZSNG",
        "outputId": "3e2527a9-7ba7-4ca0-ca2e-10af5418d539"
      },
      "execution_count": 27,
      "outputs": [
        {
          "output_type": "stream",
          "name": "stdout",
          "text": [
            "10000\n"
          ]
        }
      ]
    },
    {
      "cell_type": "code",
      "source": [
        "print(detail)\n"
      ],
      "metadata": {
        "colab": {
          "base_uri": "https://localhost:8080/"
        },
        "id": "GZ6FvE8qZSKf",
        "outputId": "30dbdca3-6f83-4866-cf19-7ab8a4235f28"
      },
      "execution_count": 28,
      "outputs": [
        {
          "output_type": "stream",
          "name": "stdout",
          "text": [
            "Account Holder Name: Saravanan.N Account Number: 00821140000671 Balance :10000\n"
          ]
        }
      ]
    },
    {
      "cell_type": "code",
      "source": [
        "detail.withdrawal(11000)\n",
        "print(detail.balance)\n",
        "print(detail)"
      ],
      "metadata": {
        "colab": {
          "base_uri": "https://localhost:8080/"
        },
        "id": "9war24MaZR-5",
        "outputId": "3102d260-d8f2-4138-bef8-6b7b6b03967c"
      },
      "execution_count": 30,
      "outputs": [
        {
          "output_type": "stream",
          "name": "stdout",
          "text": [
            "The balance is less and ur acc balance is  5000\n",
            "5000\n",
            "Account Holder Name: Saravanan.N Account Number: 00821140000671 Balance :5000\n"
          ]
        }
      ]
    },
    {
      "cell_type": "code",
      "source": [
        "dir(detail)"
      ],
      "metadata": {
        "colab": {
          "base_uri": "https://localhost:8080/"
        },
        "id": "oMMPoFg1MPPx",
        "outputId": "84d16085-dfc9-4f6c-ec35-a9370594f969"
      },
      "execution_count": 25,
      "outputs": [
        {
          "output_type": "execute_result",
          "data": {
            "text/plain": [
              "['__class__',\n",
              " '__delattr__',\n",
              " '__dict__',\n",
              " '__dir__',\n",
              " '__doc__',\n",
              " '__eq__',\n",
              " '__format__',\n",
              " '__ge__',\n",
              " '__getattribute__',\n",
              " '__gt__',\n",
              " '__hash__',\n",
              " '__init__',\n",
              " '__init_subclass__',\n",
              " '__le__',\n",
              " '__lt__',\n",
              " '__module__',\n",
              " '__ne__',\n",
              " '__new__',\n",
              " '__reduce__',\n",
              " '__reduce_ex__',\n",
              " '__repr__',\n",
              " '__setattr__',\n",
              " '__sizeof__',\n",
              " '__str__',\n",
              " '__subclasshook__',\n",
              " '__weakref__',\n",
              " 'accname',\n",
              " 'accnum',\n",
              " 'balance',\n",
              " 'deposit',\n",
              " 'withdrawal']"
            ]
          },
          "metadata": {},
          "execution_count": 25
        }
      ]
    },
    {
      "cell_type": "code",
      "source": [
        "#To do list\n",
        "class Todolist:\n",
        "  def __init__(self,owner): #Constructor\n",
        "    self.owner=owner\n",
        "    self.task=[]\n",
        "\n",
        "  def add_task(self,task):\n",
        "    self.task.append(task)\n",
        "\n",
        "  def complete_task(self,task):\n",
        "    if task in self.task:\n",
        "      self.task.remove(task)\n",
        "      print(f\"Task '{task}' is completed\")\n",
        "    else:\n",
        "      print(\"The task is not found\")\n",
        "\n",
        "  def display_task(self):\n",
        "    print(f\"The to do task of {self.owner}:\")\n",
        "    for task in self.task:\n",
        "      print(task)\n",
        "\n"
      ],
      "metadata": {
        "id": "md-4P6_8MPMX"
      },
      "execution_count": 42,
      "outputs": []
    },
    {
      "cell_type": "code",
      "source": [
        "sara=Todolist(\"Reliance Meeting\")\n",
        "sara.add_task(\"Welcome speech at 9 am\")\n",
        "sara.display_task()"
      ],
      "metadata": {
        "colab": {
          "base_uri": "https://localhost:8080/"
        },
        "id": "GSorDdlIMPEG",
        "outputId": "bc13a466-8c67-441b-b239-66bef70317af"
      },
      "execution_count": 49,
      "outputs": [
        {
          "output_type": "stream",
          "name": "stdout",
          "text": [
            "The to do task of Reliance Meeting:\n",
            "Welcome speech at 9 am\n"
          ]
        }
      ]
    },
    {
      "cell_type": "code",
      "source": [
        "sara.add_task(\"Presentation at 10 am\")\n",
        "sara.add_task(\"Coffee Break at 11 am\")\n",
        "sara.add_task(\"Individual PPT at 11.15 am\")\n",
        "sara.add_task(\"Lunch at 2 pm\")\n",
        "sara.display_task()"
      ],
      "metadata": {
        "colab": {
          "base_uri": "https://localhost:8080/"
        },
        "id": "0OKeAaKfTvNT",
        "outputId": "2a3f4568-fb93-4d79-ada4-f0d8186b9243"
      },
      "execution_count": 50,
      "outputs": [
        {
          "output_type": "stream",
          "name": "stdout",
          "text": [
            "The to do task of Reliance Meeting:\n",
            "Welcome speech at 9 am\n",
            "Presentation at 10 am\n",
            "Coffee Break at 11 am\n",
            "Individual PPT at 11.15 am\n",
            "Lunch at 2 pm\n"
          ]
        }
      ]
    },
    {
      "cell_type": "code",
      "source": [
        "sara.complete_task(\"Welcome speech at 9 am\")\n",
        "sara.display_task()"
      ],
      "metadata": {
        "colab": {
          "base_uri": "https://localhost:8080/"
        },
        "id": "YgQvn30sTvK0",
        "outputId": "29df861d-1203-43d5-ccf5-c8e032d73ece"
      },
      "execution_count": 51,
      "outputs": [
        {
          "output_type": "stream",
          "name": "stdout",
          "text": [
            "Task 'Welcome speech at 9 am' is completed\n",
            "The to do task of Reliance Meeting:\n",
            "Presentation at 10 am\n",
            "Coffee Break at 11 am\n",
            "Individual PPT at 11.15 am\n",
            "Lunch at 2 pm\n"
          ]
        }
      ]
    },
    {
      "cell_type": "code",
      "source": [
        "sara.complete_task(\"Presentation at 10 am\")\n",
        "sara.display_task()"
      ],
      "metadata": {
        "colab": {
          "base_uri": "https://localhost:8080/"
        },
        "id": "jPw_M7JQTvIJ",
        "outputId": "d69c3761-d406-4553-e649-542aec12d696"
      },
      "execution_count": 53,
      "outputs": [
        {
          "output_type": "stream",
          "name": "stdout",
          "text": [
            "Task 'Presentation at 10 am' is completed\n",
            "The to do task of Reliance Meeting:\n",
            "Coffee Break at 11 am\n",
            "Individual PPT at 11.15 am\n",
            "Lunch at 2 pm\n"
          ]
        }
      ]
    },
    {
      "cell_type": "code",
      "source": [
        "#Water Board management\n",
        "# street 1 to 5 water release and water close update\n",
        "class Watermgmt:\n",
        "  def __init__(self,owner): #Constructor\n",
        "    self.owner=owner\n",
        "    self.tasks=[]\n",
        "\n",
        "  def release(self,tasks):\n",
        "    self.tasks.append(tasks)\n",
        "\n",
        "  def drop(self,tasks):\n",
        "    if tasks in self.tasks:\n",
        "      self.tasks.remove(tasks)\n",
        "      print(f\"Tasks '{tasks}' is completed\")\n",
        "    else:\n",
        "      print(\"The tasks is not found\")\n",
        "\n",
        "  def schedule(self):\n",
        "    print(f\"The to do task of {self.owner}:\")\n",
        "    for tasks in self.tasks:\n",
        "      print(tasks)\n",
        "\n",
        "saran=Watermgmt(\"Water Release\")\n"
      ],
      "metadata": {
        "id": "0DhgCdeRYEdQ"
      },
      "execution_count": 59,
      "outputs": []
    },
    {
      "cell_type": "code",
      "source": [
        "saran.release(\"Bharathiar street at 9 am\")\n",
        "saran.schedule()"
      ],
      "metadata": {
        "colab": {
          "base_uri": "https://localhost:8080/"
        },
        "id": "_ReRdeLZYEZ7",
        "outputId": "6aeca2c8-28f8-44b5-cd54-3b201203a380"
      },
      "execution_count": 60,
      "outputs": [
        {
          "output_type": "stream",
          "name": "stdout",
          "text": [
            "The to do task of Water Release:\n",
            "Bharathiar street at 9 am\n"
          ]
        }
      ]
    },
    {
      "cell_type": "code",
      "source": [
        "saran.release(\"Kumarappa street at 10 am\")\n",
        "saran.release(\"Sathyamurthy street at 11 am\")\n",
        "saran.release(\"Kamatchiamman Steet at 12 am\")\n",
        "saran.release(\"Sivalinga street at 1 am\")\n",
        "saran.schedule()"
      ],
      "metadata": {
        "colab": {
          "base_uri": "https://localhost:8080/"
        },
        "id": "ZexS4bW2YEWd",
        "outputId": "862729a5-bb45-408c-d940-0b6c886d65ee"
      },
      "execution_count": 61,
      "outputs": [
        {
          "output_type": "stream",
          "name": "stdout",
          "text": [
            "The to do task of Water Release:\n",
            "Bharathiar street at 9 am\n",
            "Kumarappa street at 10 am\n",
            "Sathyamurthy street at 11 am\n",
            "Kamatchiamman Steet at 12 am\n",
            "Sivalinga street at 1 am\n"
          ]
        }
      ]
    },
    {
      "cell_type": "code",
      "source": [
        "saran.drop(\"Bharathiar street at 9 am\")\n",
        "saran.drop(\"Kumarappa street at 10 am\")\n",
        "saran.drop(\"Sathyamurthy street at 11 am\")\n",
        "saran.schedule()"
      ],
      "metadata": {
        "colab": {
          "base_uri": "https://localhost:8080/"
        },
        "id": "u4rMvzAUYEQ2",
        "outputId": "f0493adf-457c-4451-e1da-63219c6fc40f"
      },
      "execution_count": 64,
      "outputs": [
        {
          "output_type": "stream",
          "name": "stdout",
          "text": [
            "The tasks is not found\n",
            "The tasks is not found\n",
            "Tasks 'Sathyamurthy street at 11 am' is completed\n",
            "The to do task of Water Release:\n",
            "Kamatchiamman Steet at 12 am\n",
            "Sivalinga street at 1 am\n"
          ]
        }
      ]
    },
    {
      "cell_type": "code",
      "source": [
        "Class Stadium:\n",
        "  def __init__(self,gates,audience=0):\n",
        "    self.gates=gates\n",
        "    self.audience=audience\n",
        "  def audience(self,audience):\n",
        "    self.audience+=audience\n",
        "  def agenda(self):\n",
        "    print(f\"Gate opening schedule {self.Stadium}:\")\n",
        "    for gates in self.gates:\n",
        "      print(gates)\n",
        "\n",
        "Roch=Stadium(\"Sports day attendance\")"
      ],
      "metadata": {
        "id": "0RF44w8lYELl"
      },
      "execution_count": null,
      "outputs": []
    },
    {
      "cell_type": "code",
      "source": [
        "Roch.gates(\"Gate 1 opened\")\n",
        "Roch.agenda()"
      ],
      "metadata": {
        "colab": {
          "base_uri": "https://localhost:8080/",
          "height": 192
        },
        "id": "VNxUEc4HYEG5",
        "outputId": "52937186-c45a-401a-ac15-ee939c78f68c"
      },
      "execution_count": 4,
      "outputs": [
        {
          "output_type": "error",
          "ename": "NameError",
          "evalue": "ignored",
          "traceback": [
            "\u001b[0;31m---------------------------------------------------------------------------\u001b[0m",
            "\u001b[0;31mNameError\u001b[0m                                 Traceback (most recent call last)",
            "\u001b[0;32m<ipython-input-4-d66cb5baaf00>\u001b[0m in \u001b[0;36m<cell line: 1>\u001b[0;34m()\u001b[0m\n\u001b[0;32m----> 1\u001b[0;31m \u001b[0mRoch\u001b[0m\u001b[0;34m.\u001b[0m\u001b[0mgates\u001b[0m\u001b[0;34m(\u001b[0m\u001b[0;34m\"Gate 1 opened\"\u001b[0m\u001b[0;34m)\u001b[0m\u001b[0;34m\u001b[0m\u001b[0;34m\u001b[0m\u001b[0m\n\u001b[0m\u001b[1;32m      2\u001b[0m \u001b[0mRoch\u001b[0m\u001b[0;34m.\u001b[0m\u001b[0magenda\u001b[0m\u001b[0;34m(\u001b[0m\u001b[0;34m)\u001b[0m\u001b[0;34m\u001b[0m\u001b[0;34m\u001b[0m\u001b[0m\n",
            "\u001b[0;31mNameError\u001b[0m: name 'Roch' is not defined"
          ]
        }
      ]
    },
    {
      "cell_type": "code",
      "source": [
        "Report.Sales(3)\n",
        "print(Report.Stock)\n",
        "print(Report)"
      ],
      "metadata": {
        "colab": {
          "base_uri": "https://localhost:8080/",
          "height": 210
        },
        "id": "xDMYDy56OtSc",
        "outputId": "61f2d805-ec17-46e5-e41b-d67075c2b7a2"
      },
      "execution_count": 36,
      "outputs": [
        {
          "output_type": "error",
          "ename": "TypeError",
          "evalue": "ignored",
          "traceback": [
            "\u001b[0;31m---------------------------------------------------------------------------\u001b[0m",
            "\u001b[0;31mTypeError\u001b[0m                                 Traceback (most recent call last)",
            "\u001b[0;32m<ipython-input-36-cb25eaf7060b>\u001b[0m in \u001b[0;36m<cell line: 1>\u001b[0;34m()\u001b[0m\n\u001b[0;32m----> 1\u001b[0;31m \u001b[0mReport\u001b[0m\u001b[0;34m.\u001b[0m\u001b[0mSales\u001b[0m\u001b[0;34m(\u001b[0m\u001b[0;36m3\u001b[0m\u001b[0;34m)\u001b[0m\u001b[0;34m\u001b[0m\u001b[0;34m\u001b[0m\u001b[0m\n\u001b[0m\u001b[1;32m      2\u001b[0m \u001b[0mprint\u001b[0m\u001b[0;34m(\u001b[0m\u001b[0mReport\u001b[0m\u001b[0;34m.\u001b[0m\u001b[0mStock\u001b[0m\u001b[0;34m)\u001b[0m\u001b[0;34m\u001b[0m\u001b[0;34m\u001b[0m\u001b[0m\n\u001b[1;32m      3\u001b[0m \u001b[0mprint\u001b[0m\u001b[0;34m(\u001b[0m\u001b[0mReport\u001b[0m\u001b[0;34m)\u001b[0m\u001b[0;34m\u001b[0m\u001b[0;34m\u001b[0m\u001b[0m\n",
            "\u001b[0;31mTypeError\u001b[0m: 'int' object is not callable"
          ]
        }
      ]
    },
    {
      "cell_type": "code",
      "source": [
        "class MobilePhone:\n",
        "  def __init__ (self,brand,model,processor,price):\n",
        "    self.brand=brand\n",
        "    self.model=model\n",
        "    self.processor=processor\n",
        "    self.price=price\n",
        "  def make_calls(self,number):\n",
        "    print(f\"calling {number} with {self.brand} and {self.model}\")\n",
        "  def send_messages(self,number,message):\n",
        "    print(f\"sending messages to {number} : {message}\")\n",
        "  def end_call(self,number):\n",
        "    print(f\"Call is disconnected with{number}\")\n"
      ],
      "metadata": {
        "id": "Wj9KFidrOtQB"
      },
      "execution_count": 46,
      "outputs": []
    },
    {
      "cell_type": "code",
      "source": [
        "mobile=MobilePhone(\"Oneplus\",\"Node3\",\"8GB\",19500)\n",
        "mobile.make_calls(9840994987)"
      ],
      "metadata": {
        "colab": {
          "base_uri": "https://localhost:8080/"
        },
        "id": "uiIUrwd7OtNt",
        "outputId": "e8980fb6-a8d6-447e-d8b7-ed2444e63e6d"
      },
      "execution_count": 47,
      "outputs": [
        {
          "output_type": "stream",
          "name": "stdout",
          "text": [
            "calling 9840994987 with Oneplus and Node3\n"
          ]
        }
      ]
    },
    {
      "cell_type": "code",
      "source": [
        "mobile.send_messages(9840994987,\"Hi Everyone\")"
      ],
      "metadata": {
        "colab": {
          "base_uri": "https://localhost:8080/"
        },
        "id": "t2785LzNihHl",
        "outputId": "9697cbc9-4d00-44f4-e8d0-7e463c2c2ffa"
      },
      "execution_count": 49,
      "outputs": [
        {
          "output_type": "stream",
          "name": "stdout",
          "text": [
            "sending messages to 9840994987 : Hi Everyone\n"
          ]
        }
      ]
    },
    {
      "cell_type": "code",
      "source": [
        "class Student:\n",
        "  def __init(self,name,standard,section):\n",
        "    self.name=name\n",
        "    self.standard=standard\n",
        "    self.section=section\n",
        "  def\n",
        "\n"
      ],
      "metadata": {
        "id": "Hi_AJpWwOtK6"
      },
      "execution_count": null,
      "outputs": []
    },
    {
      "cell_type": "code",
      "source": [
        "Report1=Student(\"Saravanan\",\"10th std\",\"C Sec\")\n",
        "Report1."
      ],
      "metadata": {
        "id": "clnKOVO0ruQP"
      },
      "execution_count": null,
      "outputs": []
    },
    {
      "cell_type": "code",
      "source": [
        "#Collections : List[]\n",
        "a=[\"sara\",\"roch\",\"vinu\"]\n",
        "print(a)\n",
        "a.insert(1,\"Roch\")\n",
        "print(a)\n"
      ],
      "metadata": {
        "colab": {
          "base_uri": "https://localhost:8080/"
        },
        "id": "tdLHoUoUruM-",
        "outputId": "9e37bdd8-3bdf-4ff7-d980-ffbcfd86fda6"
      },
      "execution_count": 69,
      "outputs": [
        {
          "output_type": "stream",
          "name": "stdout",
          "text": [
            "['sara', 'roch', 'vinu']\n",
            "['sara', 'Roch', 'roch', 'vinu']\n"
          ]
        }
      ]
    },
    {
      "cell_type": "code",
      "source": [
        "a.pop(2)\n",
        "print(a)"
      ],
      "metadata": {
        "colab": {
          "base_uri": "https://localhost:8080/"
        },
        "id": "1DOY6hBOruKJ",
        "outputId": "6788a858-7d1c-43b7-817d-89dd9797f4d5"
      },
      "execution_count": 72,
      "outputs": [
        {
          "output_type": "stream",
          "name": "stdout",
          "text": [
            "['sara', 'Roch', 'vinu']\n"
          ]
        }
      ]
    },
    {
      "cell_type": "code",
      "source": [
        "a.append(1)\n",
        "print(a)"
      ],
      "metadata": {
        "colab": {
          "base_uri": "https://localhost:8080/"
        },
        "id": "YHTHd0eAruHq",
        "outputId": "0ca3207d-e1c7-43cc-a7b0-332b6cce5203"
      },
      "execution_count": 75,
      "outputs": [
        {
          "output_type": "stream",
          "name": "stdout",
          "text": [
            "['sara', 'Roch', 'vinu', 1, 1]\n"
          ]
        }
      ]
    },
    {
      "cell_type": "code",
      "source": [
        "  b=[\"Krishni\",\"Prasath\",\"Siva\"]\n",
        "  a.extend(b)\n",
        "  print(a)"
      ],
      "metadata": {
        "colab": {
          "base_uri": "https://localhost:8080/"
        },
        "id": "MI7rAgytruE_",
        "outputId": "1cc78fa3-a089-4e5a-8bd8-f15d5c58b2f6"
      },
      "execution_count": 76,
      "outputs": [
        {
          "output_type": "stream",
          "name": "stdout",
          "text": [
            "['sara', 'Roch', 'vinu', 1, 1, 'Krishni', 'Prasath', 'Siva']\n"
          ]
        }
      ]
    },
    {
      "cell_type": "code",
      "source": [
        "#Collections : Tuples()\n",
        "\n",
        "a=(1,2,3,4)\n",
        "a[0]=10 #Cannot modify\n",
        "print(a)"
      ],
      "metadata": {
        "colab": {
          "base_uri": "https://localhost:8080/",
          "height": 227
        },
        "id": "W5EAvKd91sNT",
        "outputId": "605b9560-e18a-42e2-a776-d6d837b9606a"
      },
      "execution_count": 77,
      "outputs": [
        {
          "output_type": "error",
          "ename": "TypeError",
          "evalue": "ignored",
          "traceback": [
            "\u001b[0;31m---------------------------------------------------------------------------\u001b[0m",
            "\u001b[0;31mTypeError\u001b[0m                                 Traceback (most recent call last)",
            "\u001b[0;32m<ipython-input-77-7ec5a367b45f>\u001b[0m in \u001b[0;36m<cell line: 3>\u001b[0;34m()\u001b[0m\n\u001b[1;32m      1\u001b[0m \u001b[0;31m#Collections : Tuples()\u001b[0m\u001b[0;34m\u001b[0m\u001b[0;34m\u001b[0m\u001b[0m\n\u001b[1;32m      2\u001b[0m \u001b[0ma\u001b[0m\u001b[0;34m=\u001b[0m\u001b[0;34m(\u001b[0m\u001b[0;36m1\u001b[0m\u001b[0;34m,\u001b[0m\u001b[0;36m2\u001b[0m\u001b[0;34m,\u001b[0m\u001b[0;36m3\u001b[0m\u001b[0;34m,\u001b[0m\u001b[0;36m4\u001b[0m\u001b[0;34m)\u001b[0m\u001b[0;34m\u001b[0m\u001b[0;34m\u001b[0m\u001b[0m\n\u001b[0;32m----> 3\u001b[0;31m \u001b[0ma\u001b[0m\u001b[0;34m[\u001b[0m\u001b[0;36m0\u001b[0m\u001b[0;34m]\u001b[0m\u001b[0;34m=\u001b[0m\u001b[0;36m10\u001b[0m\u001b[0;34m\u001b[0m\u001b[0;34m\u001b[0m\u001b[0m\n\u001b[0m\u001b[1;32m      4\u001b[0m \u001b[0mprint\u001b[0m\u001b[0;34m(\u001b[0m\u001b[0ma\u001b[0m\u001b[0;34m)\u001b[0m\u001b[0;34m\u001b[0m\u001b[0;34m\u001b[0m\u001b[0m\n",
            "\u001b[0;31mTypeError\u001b[0m: 'tuple' object does not support item assignment"
          ]
        }
      ]
    },
    {
      "cell_type": "code",
      "source": [
        "a=(1,2,3,4)\n",
        "b=list(a) #we can convert Tuple into list\n",
        "print(a)\n",
        "print(b)"
      ],
      "metadata": {
        "colab": {
          "base_uri": "https://localhost:8080/"
        },
        "id": "NOJsEEYf1sJ0",
        "outputId": "4aa47e6f-8965-41d1-97ae-fbc26c52c217"
      },
      "execution_count": 78,
      "outputs": [
        {
          "output_type": "stream",
          "name": "stdout",
          "text": [
            "(1, 2, 3, 4)\n",
            "[1, 2, 3, 4]\n"
          ]
        }
      ]
    },
    {
      "cell_type": "code",
      "source": [
        "#Sets\n",
        "a={1,2,3,4}\n",
        "print(a)"
      ],
      "metadata": {
        "colab": {
          "base_uri": "https://localhost:8080/"
        },
        "id": "lyGEk8Hs1sGr",
        "outputId": "aa87dabb-7e47-450b-84a4-c8e649430e5b"
      },
      "execution_count": 79,
      "outputs": [
        {
          "output_type": "stream",
          "name": "stdout",
          "text": [
            "{1, 2, 3, 4}\n"
          ]
        }
      ]
    },
    {
      "cell_type": "code",
      "source": [
        "a[0]=12 #cannnot assign\n",
        "print(a)"
      ],
      "metadata": {
        "colab": {
          "base_uri": "https://localhost:8080/",
          "height": 192
        },
        "id": "qxGAjqtD1sDg",
        "outputId": "4d55cb51-0ffd-433d-c3e6-7be09e12c1ce"
      },
      "execution_count": 80,
      "outputs": [
        {
          "output_type": "error",
          "ename": "TypeError",
          "evalue": "ignored",
          "traceback": [
            "\u001b[0;31m---------------------------------------------------------------------------\u001b[0m",
            "\u001b[0;31mTypeError\u001b[0m                                 Traceback (most recent call last)",
            "\u001b[0;32m<ipython-input-80-87df500d9ff2>\u001b[0m in \u001b[0;36m<cell line: 1>\u001b[0;34m()\u001b[0m\n\u001b[0;32m----> 1\u001b[0;31m \u001b[0ma\u001b[0m\u001b[0;34m[\u001b[0m\u001b[0;36m0\u001b[0m\u001b[0;34m]\u001b[0m\u001b[0;34m=\u001b[0m\u001b[0;36m12\u001b[0m\u001b[0;34m\u001b[0m\u001b[0;34m\u001b[0m\u001b[0m\n\u001b[0m\u001b[1;32m      2\u001b[0m \u001b[0mprint\u001b[0m\u001b[0;34m(\u001b[0m\u001b[0ma\u001b[0m\u001b[0;34m)\u001b[0m\u001b[0;34m\u001b[0m\u001b[0;34m\u001b[0m\u001b[0m\n",
            "\u001b[0;31mTypeError\u001b[0m: 'set' object does not support item assignment"
          ]
        }
      ]
    },
    {
      "cell_type": "code",
      "source": [
        "a.add(45)\n",
        "print(a)"
      ],
      "metadata": {
        "colab": {
          "base_uri": "https://localhost:8080/"
        },
        "id": "iAXzWjx51sAd",
        "outputId": "1d88ad39-69aa-47b6-8c5e-3d174180f0cf"
      },
      "execution_count": 81,
      "outputs": [
        {
          "output_type": "stream",
          "name": "stdout",
          "text": [
            "{1, 2, 3, 4, 45}\n"
          ]
        }
      ]
    },
    {
      "cell_type": "code",
      "source": [
        "a.remove(3)\n",
        "print(a)"
      ],
      "metadata": {
        "colab": {
          "base_uri": "https://localhost:8080/"
        },
        "id": "UPxuztjt1r9r",
        "outputId": "66a8e3f5-fcf6-435b-a7d2-1bb51087d86a"
      },
      "execution_count": 82,
      "outputs": [
        {
          "output_type": "stream",
          "name": "stdout",
          "text": [
            "{1, 2, 4, 45}\n"
          ]
        }
      ]
    },
    {
      "cell_type": "code",
      "source": [
        "a.pop() #it will delete the first element.  sets are unordered\n",
        "print(a)"
      ],
      "metadata": {
        "colab": {
          "base_uri": "https://localhost:8080/"
        },
        "id": "xsMvnEZi1r69",
        "outputId": "42e97127-a313-47fc-88e2-122fea3cb694"
      },
      "execution_count": 83,
      "outputs": [
        {
          "output_type": "stream",
          "name": "stdout",
          "text": [
            "{2, 4, 45}\n"
          ]
        }
      ]
    },
    {
      "cell_type": "code",
      "source": [
        "a.remove(1)\n",
        "print(a)"
      ],
      "metadata": {
        "colab": {
          "base_uri": "https://localhost:8080/",
          "height": 192
        },
        "id": "MlZUW46n1r45",
        "outputId": "e574534c-de2f-4669-f15e-82d313bc73c5"
      },
      "execution_count": 85,
      "outputs": [
        {
          "output_type": "error",
          "ename": "KeyError",
          "evalue": "ignored",
          "traceback": [
            "\u001b[0;31m---------------------------------------------------------------------------\u001b[0m",
            "\u001b[0;31mKeyError\u001b[0m                                  Traceback (most recent call last)",
            "\u001b[0;32m<ipython-input-85-20ed3522be92>\u001b[0m in \u001b[0;36m<cell line: 1>\u001b[0;34m()\u001b[0m\n\u001b[0;32m----> 1\u001b[0;31m \u001b[0ma\u001b[0m\u001b[0;34m.\u001b[0m\u001b[0mremove\u001b[0m\u001b[0;34m(\u001b[0m\u001b[0;36m1\u001b[0m\u001b[0;34m)\u001b[0m\u001b[0;34m\u001b[0m\u001b[0;34m\u001b[0m\u001b[0m\n\u001b[0m\u001b[1;32m      2\u001b[0m \u001b[0mprint\u001b[0m\u001b[0;34m(\u001b[0m\u001b[0ma\u001b[0m\u001b[0;34m)\u001b[0m\u001b[0;34m\u001b[0m\u001b[0;34m\u001b[0m\u001b[0m\n",
            "\u001b[0;31mKeyError\u001b[0m: 1"
          ]
        }
      ]
    },
    {
      "cell_type": "code",
      "source": [
        "#Dictionaries{} Can MODIFY\n",
        "#DO NOT ALLOW DUPLICATE, duplicate value will overwrite existing value,\n",
        "#Any type of data can be stored\n",
        "\n",
        "a={\"name\":\"Sara\", \"age\":\"42\",\"height\":175,\"Weight\":80}\n",
        "print(a)"
      ],
      "metadata": {
        "colab": {
          "base_uri": "https://localhost:8080/"
        },
        "id": "-xqy94u-1r3J",
        "outputId": "c2929eec-717c-44e3-f5fb-f302204ef521"
      },
      "execution_count": 86,
      "outputs": [
        {
          "output_type": "stream",
          "name": "stdout",
          "text": [
            "{'name': 'Sara', 'age': '42', 'height': 175, 'Weight': 80}\n"
          ]
        }
      ]
    },
    {
      "cell_type": "code",
      "source": [
        "print(a.keys())\n",
        "print(a.values())"
      ],
      "metadata": {
        "colab": {
          "base_uri": "https://localhost:8080/"
        },
        "id": "HgqqS2zX1r0I",
        "outputId": "71df73b9-8c07-4a54-84ac-a76423b2e174"
      },
      "execution_count": 88,
      "outputs": [
        {
          "output_type": "stream",
          "name": "stdout",
          "text": [
            "dict_keys(['name', 'age', 'height', 'Weight'])\n",
            "dict_values(['Sara', '42', 175, 80])\n"
          ]
        }
      ]
    },
    {
      "cell_type": "code",
      "source": [
        "a.update({\"age\":43})\n",
        "print(a)"
      ],
      "metadata": {
        "colab": {
          "base_uri": "https://localhost:8080/"
        },
        "id": "t0VK6NgI1rxe",
        "outputId": "af3d7a13-97c2-4b8a-c18a-be71cea5ce28"
      },
      "execution_count": 92,
      "outputs": [
        {
          "output_type": "stream",
          "name": "stdout",
          "text": [
            "{'name': 'Sara', 'age': 43, 'height': 175, 'Weight': 80}\n"
          ]
        }
      ]
    },
    {
      "cell_type": "code",
      "source": [
        "a[\"Color\"]=\"White\"\n",
        "print(a)"
      ],
      "metadata": {
        "colab": {
          "base_uri": "https://localhost:8080/"
        },
        "id": "H_baefin1ru0",
        "outputId": "f7d55240-2848-4531-9cf3-adf8ef3e0af9"
      },
      "execution_count": 95,
      "outputs": [
        {
          "output_type": "stream",
          "name": "stdout",
          "text": [
            "{'name': 'Sara', 'age': 43, 'height': 175, 'Weight': 80, 'Color': 'White'}\n"
          ]
        }
      ]
    },
    {
      "cell_type": "code",
      "source": [
        "a.pop(\"Color\")\n",
        "print(a)"
      ],
      "metadata": {
        "colab": {
          "base_uri": "https://localhost:8080/"
        },
        "id": "puhpVm2i7MZq",
        "outputId": "d6ff553c-7400-4c4c-b0c9-80e6efce06db"
      },
      "execution_count": 96,
      "outputs": [
        {
          "output_type": "stream",
          "name": "stdout",
          "text": [
            "{'name': 'Sara', 'age': 43, 'height': 175, 'Weight': 80}\n"
          ]
        }
      ]
    },
    {
      "cell_type": "code",
      "source": [
        "del a[\"age\"]\n",
        "print(a)"
      ],
      "metadata": {
        "colab": {
          "base_uri": "https://localhost:8080/"
        },
        "id": "WrEFfGYz7MT4",
        "outputId": "a5abbaf7-152d-43c4-aa61-afc6ee8b06d2"
      },
      "execution_count": 97,
      "outputs": [
        {
          "output_type": "stream",
          "name": "stdout",
          "text": [
            "{'name': 'Sara', 'height': 175, 'Weight': 80}\n"
          ]
        }
      ]
    },
    {
      "cell_type": "code",
      "source": [
        "# LIST is a collection which is ordered, and changeable. Allows duplicate members\n",
        "# TYPLE is a collection which is ordered and UNchangeable. Allows duplicate members\n",
        "# SET is a collection which is unordered and UNchangeable. and unindexed, No Duplicate members.\n",
        "# Dictionary is a collection which is ordered and changeable. No Duplicate memebers.\n"
      ],
      "metadata": {
        "id": "ieNbguzg7MQk"
      },
      "execution_count": null,
      "outputs": []
    },
    {
      "cell_type": "code",
      "source": [
        "#FUNCTIONS\n",
        "# def is important for defining\n",
        "def printer():\n",
        "  print(\"printing\")\n",
        "printer()"
      ],
      "metadata": {
        "colab": {
          "base_uri": "https://localhost:8080/"
        },
        "id": "3ufxeQ9f7MNi",
        "outputId": "56cf8a26-3e72-41b6-bdb0-a069f8309e7c"
      },
      "execution_count": 98,
      "outputs": [
        {
          "output_type": "stream",
          "name": "stdout",
          "text": [
            "printing\n"
          ]
        }
      ]
    },
    {
      "cell_type": "code",
      "source": [
        "def add():\n",
        "  print(\"Addition:\")\n",
        "  a=int(input(\"Enter a:\"))\n",
        "  b=int(input(\"Enter b:\"))\n",
        "  print(\"Addition Result:\",(a+b))\n",
        "add()"
      ],
      "metadata": {
        "colab": {
          "base_uri": "https://localhost:8080/"
        },
        "id": "b07ZKnvk-uFb",
        "outputId": "9596c374-2e9b-40b9-80a3-2f02d9270caa"
      },
      "execution_count": 104,
      "outputs": [
        {
          "output_type": "stream",
          "name": "stdout",
          "text": [
            "Addition:\n",
            "Enter a:25\n",
            "Enter b:15\n",
            "Addition Result: 40\n"
          ]
        }
      ]
    },
    {
      "cell_type": "code",
      "source": [
        "def sub():\n",
        "  print(\"Subtraction:\")\n",
        "  a=int(input(\"A value:\"))\n",
        "  b=int(input(\"B value:\"))\n",
        "  print(\"Subtraction Result is:\",(a-b))\n",
        "\n",
        "sub()"
      ],
      "metadata": {
        "colab": {
          "base_uri": "https://localhost:8080/"
        },
        "id": "cYenIx1g-uCA",
        "outputId": "0178f987-ef5a-4ffc-dffb-089d31be9bff"
      },
      "execution_count": 105,
      "outputs": [
        {
          "output_type": "stream",
          "name": "stdout",
          "text": [
            "Subtraction:\n",
            "A value:25\n",
            "B value:15\n",
            "Subtraction Result is: 10\n"
          ]
        }
      ]
    },
    {
      "cell_type": "code",
      "source": [
        "def mult():\n",
        "  print(\"Multiplication:\")\n",
        "  a=int(input(\"A value:\"))\n",
        "  b=int(input(\"B value:\"))\n",
        "  print(\"Multiplication Result is:\",(a*b))\n",
        "mult()"
      ],
      "metadata": {
        "colab": {
          "base_uri": "https://localhost:8080/"
        },
        "id": "MgGJGJZP-t_W",
        "outputId": "d0965a51-b1e5-49fe-ef65-157bd0f5e006"
      },
      "execution_count": 106,
      "outputs": [
        {
          "output_type": "stream",
          "name": "stdout",
          "text": [
            "Multiplication:\n",
            "A value:5\n",
            "B value:6\n",
            "Multiplication Result is: 30\n"
          ]
        }
      ]
    },
    {
      "cell_type": "code",
      "source": [
        "def evenorodd(a):\n",
        "  print(a)\n",
        "b=10\n",
        "evenorodd(b)"
      ],
      "metadata": {
        "colab": {
          "base_uri": "https://localhost:8080/"
        },
        "id": "rpj9bpJ4-t8x",
        "outputId": "e7ce8af8-2cdd-4339-b81f-51dca92a0cb2"
      },
      "execution_count": 108,
      "outputs": [
        {
          "output_type": "stream",
          "name": "stdout",
          "text": [
            "10\n"
          ]
        }
      ]
    },
    {
      "cell_type": "code",
      "source": [
        "def findevenorodd(a):\n",
        "  if(a%2==0):\n",
        "    print(\"EVEN\")\n",
        "  else:\n",
        "    print(\"ODD\")\n",
        "b=int(input(\"Enter num:\"))\n",
        "findevenorodd(b)"
      ],
      "metadata": {
        "colab": {
          "base_uri": "https://localhost:8080/"
        },
        "id": "2qzuv4Lq7MKr",
        "outputId": "4d325fb1-12a8-49ee-95b8-32cc706d710a"
      },
      "execution_count": 111,
      "outputs": [
        {
          "output_type": "stream",
          "name": "stdout",
          "text": [
            "Enter num:15\n",
            "ODD\n"
          ]
        }
      ]
    },
    {
      "cell_type": "code",
      "source": [
        "def findpassorfail(a):\n",
        "  if(a>=35):\n",
        "    print(\"PASS\")\n",
        "  else:\n",
        "    print(\"FAIL\")\n",
        "  b=int(input(\"Enter marks:\"))\n",
        "findpassorfail(b)"
      ],
      "metadata": {
        "colab": {
          "base_uri": "https://localhost:8080/"
        },
        "id": "h2FQSH_NKEdY",
        "outputId": "e5dc9138-b87f-4ec5-e4b2-59392d7ed00a"
      },
      "execution_count": 115,
      "outputs": [
        {
          "output_type": "stream",
          "name": "stdout",
          "text": [
            "Enter marks:35\n",
            "PASS\n"
          ]
        }
      ]
    },
    {
      "cell_type": "code",
      "source": [
        "def printrange():\n",
        "  for i in range(1,11):\n",
        "    print(i)\n",
        "printrange()"
      ],
      "metadata": {
        "colab": {
          "base_uri": "https://localhost:8080/"
        },
        "id": "UV9uyK2dKEaB",
        "outputId": "e5e12ef8-70da-4383-a317-8d0ca2409987"
      },
      "execution_count": 119,
      "outputs": [
        {
          "output_type": "stream",
          "name": "stdout",
          "text": [
            "1\n",
            "2\n",
            "3\n",
            "4\n",
            "5\n",
            "6\n",
            "7\n",
            "8\n",
            "9\n",
            "10\n"
          ]
        }
      ]
    },
    {
      "cell_type": "code",
      "source": [
        "def printrange(r1,r2):\n",
        "  for i in range(r1,r2):\n",
        "    print(i)\n",
        "printrange(5,10)"
      ],
      "metadata": {
        "id": "jmDdSErpKESs"
      },
      "execution_count": null,
      "outputs": []
    },
    {
      "cell_type": "code",
      "source": [
        "def printrange(r1,r2):\n",
        "  for i in range(r1,r2):\n",
        "    print(i)\n",
        "a=int(input(\"Enter a:\"))\n",
        "b=int(input(\"Enter b:\"))\n",
        "print(\"print num between a and b\")\n",
        "printrange( a , b)"
      ],
      "metadata": {
        "colab": {
          "base_uri": "https://localhost:8080/"
        },
        "id": "5VIH_dDXKEKY",
        "outputId": "ddd2c0ac-dd4b-4cad-b9ad-1056d5c1dd80"
      },
      "execution_count": 124,
      "outputs": [
        {
          "output_type": "stream",
          "name": "stdout",
          "text": [
            "Enter a:25\n",
            "Enter b:35\n",
            "print num between a and b\n",
            "25\n",
            "26\n",
            "27\n",
            "28\n",
            "29\n",
            "30\n",
            "31\n",
            "32\n",
            "33\n",
            "34\n"
          ]
        }
      ]
    },
    {
      "cell_type": "code",
      "source": [
        "#Return in functions\n",
        "def painter():\n",
        "  print(\"i am painter\")\n",
        "painter()"
      ],
      "metadata": {
        "colab": {
          "base_uri": "https://localhost:8080/"
        },
        "id": "hDOnZhZzZA3H",
        "outputId": "fa152335-22e8-4692-b652-2cdc10f83992"
      },
      "execution_count": 125,
      "outputs": [
        {
          "output_type": "stream",
          "name": "stdout",
          "text": [
            "i am painter\n"
          ]
        }
      ]
    },
    {
      "cell_type": "code",
      "source": [
        "def painter():\n",
        "  return \"i am painter\"\n",
        "print(painter())"
      ],
      "metadata": {
        "colab": {
          "base_uri": "https://localhost:8080/"
        },
        "id": "zq2LKzdCZAzz",
        "outputId": "785bfbc0-eaf2-44b3-c406-23a3fee1b359"
      },
      "execution_count": 127,
      "outputs": [
        {
          "output_type": "stream",
          "name": "stdout",
          "text": [
            "i am painter\n"
          ]
        }
      ]
    },
    {
      "cell_type": "code",
      "source": [
        "def painter():\n",
        "  return \"I am paint\"\n",
        "msg=painter()\n",
        "print(msg)"
      ],
      "metadata": {
        "colab": {
          "base_uri": "https://localhost:8080/"
        },
        "id": "9gAGNmV8ZAol",
        "outputId": "a9288ddb-6d23-496c-cc51-3a585b2b9807"
      },
      "execution_count": 128,
      "outputs": [
        {
          "output_type": "stream",
          "name": "stdout",
          "text": [
            "I am paint\n"
          ]
        }
      ]
    },
    {
      "cell_type": "code",
      "source": [
        "def valueofa():\n",
        "  return 10\n",
        "a=valueofa()\n",
        "print(a)"
      ],
      "metadata": {
        "colab": {
          "base_uri": "https://localhost:8080/"
        },
        "id": "hvUu6JdhZAk7",
        "outputId": "5097270f-e2fb-4ceb-839a-6cfc79446a7f"
      },
      "execution_count": 129,
      "outputs": [
        {
          "output_type": "stream",
          "name": "stdout",
          "text": [
            "10\n"
          ]
        }
      ]
    },
    {
      "cell_type": "code",
      "source": [
        "s_username=\"EMC\"\n",
        "s_password=\"123\"\n",
        "\n",
        "#Using print function\n",
        "uname=input(\"Enter value for username\")\n",
        "password=input(\"Enter value for password\")\n",
        "\n",
        "def validate():\n",
        "  if (s_username==uname and s_password==password):\n",
        "    print(\"Correct\")\n",
        "  else:\n",
        "    print(\"Wrong\")\n",
        "validate()"
      ],
      "metadata": {
        "colab": {
          "base_uri": "https://localhost:8080/"
        },
        "id": "NlSuDro_ZAiP",
        "outputId": "04536058-a48c-462f-9d8b-5013b99eddaf"
      },
      "execution_count": 135,
      "outputs": [
        {
          "output_type": "stream",
          "name": "stdout",
          "text": [
            "Enter value for usernameEMC\n",
            "Enter value for password123\n",
            "Correct\n"
          ]
        }
      ]
    },
    {
      "cell_type": "code",
      "source": [
        "#Using return function\n",
        "s_username=\"EMC\"\n",
        "s_password=\"123\"\n",
        "\n",
        "uname=input(\"Enter value for username\")\n",
        "password=input(\"Enter value for password\")\n",
        "\n",
        "def validate():\n",
        "  if (s_username==uname and s_password==password):\n",
        "    return True\n",
        "  else:\n",
        "    return False\n",
        "a=validate()\n",
        "print(a)"
      ],
      "metadata": {
        "colab": {
          "base_uri": "https://localhost:8080/"
        },
        "id": "5bpWsHRIZAcm",
        "outputId": "1fedce5f-a581-4820-f70d-29e255b8fd09"
      },
      "execution_count": 136,
      "outputs": [
        {
          "output_type": "stream",
          "name": "stdout",
          "text": [
            "Enter value for usernameEMC\n",
            "Enter value for password123\n",
            "True\n"
          ]
        }
      ]
    },
    {
      "cell_type": "code",
      "source": [
        "def add():\n",
        "  a=int(input(\"Value of A: \"))\n",
        "  b=int(input(\"Value of B: \"))\n",
        "  c=int(input(\"Value of C: \"))\n",
        "  return (a+b)*c\n",
        "result=add()\n",
        "print(result)\n"
      ],
      "metadata": {
        "colab": {
          "base_uri": "https://localhost:8080/"
        },
        "id": "6qOGqROhZATh",
        "outputId": "52bfa384-1a36-421d-f9b1-17089778b4ad"
      },
      "execution_count": 137,
      "outputs": [
        {
          "output_type": "stream",
          "name": "stdout",
          "text": [
            "Value of A: 10\n",
            "Value of B: 5\n",
            "Value of C: 2\n",
            "30\n"
          ]
        }
      ]
    },
    {
      "cell_type": "markdown",
      "source": [],
      "metadata": {
        "id": "j3HqQdHMYxGP"
      }
    },
    {
      "cell_type": "code",
      "source": [
        "def add(n1,n2):\n",
        "  return n1+n2\n",
        "a=int(input(\"Value of A: \"))\n",
        "b=int(input(\"Value of B: \"))\n",
        "c=int(input(\"Value of C: \"))\n",
        "added=add(a,b)\n",
        "output=(added*c)\n",
        "print(output)\n"
      ],
      "metadata": {
        "colab": {
          "base_uri": "https://localhost:8080/"
        },
        "id": "JgR-09jAdyet",
        "outputId": "ed7a56f6-c1e7-4bba-ac4e-6aa4bd50f8af"
      },
      "execution_count": 144,
      "outputs": [
        {
          "output_type": "stream",
          "name": "stdout",
          "text": [
            "Value of A: 15\n",
            "Value of B: 10\n",
            "Value of C: 2\n",
            "50\n"
          ]
        }
      ]
    },
    {
      "cell_type": "code",
      "source": [
        "#Classes and Objects\n",
        "\n",
        "class goa:\n",
        "  name=\"\"\n",
        "  drink=\"\"\n",
        "\n",
        "  def party():\n",
        "    print(\"Lets party\")\n",
        "  def beach():\n",
        "    print(\"Enjoy the beach\")\n",
        "sara=goa()\n",
        "siva=goa()\n",
        "\n",
        "sara.name=\"Sara\"\n",
        "siva.name=\"Siva\"\n",
        "\n",
        "sara.drink=\"No\"\n",
        "siva.drink=\"Yes\"\n",
        "\n",
        "print(sara.name)\n",
        "print(\"Drink:\",sara.drink)\n",
        "print(siva.name)\n",
        "print(\"Drink:\",siva.drink)\n"
      ],
      "metadata": {
        "colab": {
          "base_uri": "https://localhost:8080/"
        },
        "id": "E3cNf35FdybY",
        "outputId": "acd6f2b8-9ddd-4528-c08e-64e1ca6f2e90"
      },
      "execution_count": 147,
      "outputs": [
        {
          "output_type": "stream",
          "name": "stdout",
          "text": [
            "Sara\n",
            "Drink: No\n",
            "Siva\n",
            "Drink: Yes\n"
          ]
        }
      ]
    },
    {
      "cell_type": "code",
      "source": [
        "class laptop():\n",
        "  price=0\n",
        "  processor=\"\"\n",
        "  ram=\"\"\n",
        "hp=laptop()\n",
        "dell=laptop()\n",
        "\n",
        "hp.price=50000\n",
        "hp.processor=\"i3\"\n",
        "hp.ram=\"8GB\"\n",
        "\n",
        "dell.price=60000\n",
        "dell.processor=\"i5\"\n",
        "dell.ram=\"16GB\"\n",
        "\n",
        "print(hp.price)\n"
      ],
      "metadata": {
        "colab": {
          "base_uri": "https://localhost:8080/"
        },
        "id": "0WLyhckidyY1",
        "outputId": "aff3e911-b4e7-4902-b7aa-e1ae6b57c840"
      },
      "execution_count": 148,
      "outputs": [
        {
          "output_type": "stream",
          "name": "stdout",
          "text": [
            "50000\n"
          ]
        }
      ]
    },
    {
      "cell_type": "code",
      "source": [
        "#init function\n",
        "class laptop():\n",
        "  def __init__(self):\n",
        "    print(\"Demo\")\n",
        "  def display(self):\n",
        "    print(\"Display\")\n",
        "hp=laptop()"
      ],
      "metadata": {
        "colab": {
          "base_uri": "https://localhost:8080/"
        },
        "id": "PoKKlqIVdyWN",
        "outputId": "49d783d4-5d41-4f53-f26a-e895347709f1"
      },
      "execution_count": 149,
      "outputs": [
        {
          "output_type": "stream",
          "name": "stdout",
          "text": [
            "Demo\n"
          ]
        }
      ]
    },
    {
      "cell_type": "code",
      "source": [
        "class laptop():\n",
        "  def __init__(self):\n",
        "    self.price=0\n",
        "    self.processor=\"\"\n",
        "    self.ram=\"\"\n",
        "  def display(self):\n",
        "    print(\"Display\")\n",
        "hp=laptop()\n",
        "hp.price=50000\n",
        "hp.processor=\"i5\"\n",
        "hp.ram=\"8GB\"\n",
        "print(\"hp ram:\",hp.ram)\n",
        "print(\"hp processor:\",hp.processor)\n",
        "print(\"hp price:\",hp.price)"
      ],
      "metadata": {
        "colab": {
          "base_uri": "https://localhost:8080/"
        },
        "id": "yaEpMnBzdyTd",
        "outputId": "b0dcf6ac-edb2-4378-e8c1-24a45f2c224a"
      },
      "execution_count": 152,
      "outputs": [
        {
          "output_type": "stream",
          "name": "stdout",
          "text": [
            "hp ram: 8GB\n",
            "hp processor: i5\n",
            "hp price: 50000\n"
          ]
        }
      ]
    },
    {
      "cell_type": "code",
      "source": [
        "class laptop():\n",
        "  def __init__(self):\n",
        "    self.ram=\"\"\n",
        "    self.processor=\"\"\n",
        "  def display(self):\n",
        "    print(\"ram:\",self.ram)\n",
        "    print(\"processor:\",self.processor)\n",
        "hp=laptop()\n",
        "dell=laptop()\n",
        "hp.ram=\"8GB\"\n",
        "hp.processor=\"i3\"\n",
        "dell.ram=\"16GB\"\n",
        "dell.processor=\"i5\"\n",
        "\n",
        "hp.display()\n",
        "dell.display()"
      ],
      "metadata": {
        "colab": {
          "base_uri": "https://localhost:8080/"
        },
        "id": "I76LsnhvdyQw",
        "outputId": "a2936bc0-346d-49da-d6da-9688cf7d6924"
      },
      "execution_count": 154,
      "outputs": [
        {
          "output_type": "stream",
          "name": "stdout",
          "text": [
            "ram: 8GB\n",
            "processor: i3\n",
            "ram: 16GB\n",
            "processor: i5\n"
          ]
        }
      ]
    },
    {
      "cell_type": "code",
      "source": [
        "class student:\n",
        "  def __init__(self): #single argument\n",
        "    self.name=\"\"\n",
        "    self.regnumber=\"\"\n",
        "  def display(self):\n",
        "    print(\"name:\",self.name)\n",
        "    print(\"reg num:\",self.regnum)\n",
        "s1=student()\n",
        "s2=student()\n",
        "s1.name='Saravanan.N'\n",
        "s1.regnum=1680\n",
        "s2.name='Roshni.S'\n",
        "s2.regnum=1926\n",
        "s1.display()\n",
        "s2.display()"
      ],
      "metadata": {
        "colab": {
          "base_uri": "https://localhost:8080/"
        },
        "id": "BSNkFEAudyNo",
        "outputId": "5feb975d-6cd7-407e-d351-1eb909ff97e1"
      },
      "execution_count": 158,
      "outputs": [
        {
          "output_type": "stream",
          "name": "stdout",
          "text": [
            "name: Saravanan.N\n",
            "reg num: 1680\n",
            "name: Roshni.S\n",
            "reg num: 1926\n"
          ]
        }
      ]
    },
    {
      "cell_type": "code",
      "source": [
        "class Fruit:\n",
        "  def __init__(self,col): #single argument\n",
        "    self.color=col\n",
        "apple=Fruit(\"red\")\n",
        "print(apple.color)"
      ],
      "metadata": {
        "colab": {
          "base_uri": "https://localhost:8080/"
        },
        "id": "1RnBOdNG0omT",
        "outputId": "33fa9682-976a-4cb3-f7b0-0a1f4a3f229f"
      },
      "execution_count": 169,
      "outputs": [
        {
          "output_type": "stream",
          "name": "stdout",
          "text": [
            "red\n"
          ]
        }
      ]
    },
    {
      "cell_type": "code",
      "source": [
        "class teacher:\n",
        "  def __init__(self,name,regnum): #two arguments\n",
        "    self.name=name\n",
        "    self.regnum=regnum\n",
        "  def display(self):\n",
        "    print(\"Teacher Name:\",self.name)\n",
        "    print(\"Teacher Regnum:\",self.regnum)\n",
        "t1=teacher(\"Anitha\",2659)\n",
        "t2=teacher(\"Saranya\",2660)\n",
        "t1.display()\n",
        "t2.display()"
      ],
      "metadata": {
        "colab": {
          "base_uri": "https://localhost:8080/"
        },
        "id": "k6UQaANz0oia",
        "outputId": "8dfbc8ce-e1cc-4bff-8dce-6d28d55309f0"
      },
      "execution_count": 176,
      "outputs": [
        {
          "output_type": "stream",
          "name": "stdout",
          "text": [
            "Teacher Name: Anitha\n",
            "Teacher Regnum: 2659\n",
            "Teacher Name: Saranya\n",
            "Teacher Regnum: 2660\n"
          ]
        }
      ]
    },
    {
      "cell_type": "code",
      "source": [
        "class calculator:\n",
        "  def __init__(self,a,b):\n",
        "    self.num1=a\n",
        "    self.num2=b\n",
        "  def add(self):\n",
        "    print(\"Addition is:\",self.num1+self.num2)\n",
        "  def sub(self):\n",
        "    print(\"Subtraction of:\",self.num1-self.num2)\n",
        "  def mul(self):\n",
        "    print(\"Multiplication is:\",self.num1*self.num2)\n",
        "  def div(self):\n",
        "    print(\"Division is:\", self.num1/self.num2)\n",
        "\n",
        "obj1=calculator(10,5)\n",
        "obj1.add()\n",
        "obj1.sub()\n",
        "obj1.mul()\n",
        "obj1.div()"
      ],
      "metadata": {
        "colab": {
          "base_uri": "https://localhost:8080/"
        },
        "id": "is-ktYPo0ofy",
        "outputId": "ed66dfdd-9c79-443f-b986-bd7814e5edb2"
      },
      "execution_count": 200,
      "outputs": [
        {
          "output_type": "stream",
          "name": "stdout",
          "text": [
            "Addition is: 15\n",
            "Subtraction of: 5\n",
            "Multiplication is: 50\n",
            "Division is: 2.0\n"
          ]
        }
      ]
    },
    {
      "cell_type": "code",
      "source": [
        "class calc: #Without a constructor also can create like this.\n",
        "  def add(self,a,b):\n",
        "    print(\"add:\",a+b)\n",
        "obj=calc()\n",
        "obj.add(1.5,1.25)"
      ],
      "metadata": {
        "colab": {
          "base_uri": "https://localhost:8080/"
        },
        "id": "_vCkLvRD0odU",
        "outputId": "38572044-33da-49b8-d862-0a659edcf136"
      },
      "execution_count": 1,
      "outputs": [
        {
          "output_type": "stream",
          "name": "stdout",
          "text": [
            "add: 2.75\n"
          ]
        }
      ]
    },
    {
      "cell_type": "code",
      "source": [
        "class mobile:\n",
        "  def __init__(self,brand,price,ram):\n",
        "    self.brand=brand\n",
        "    self.price=price\n",
        "    self.ram=ram\n",
        "  def display(self):\n",
        "    print(\"Mobile brand=\",self.brand)\n",
        "    print(\"Mobile price=\",self.price)\n",
        "    print(\"Mobile ram=\",self.ram)\n",
        "spec=mobile(\"Oneplus\",19500,\"8GB\")\n",
        "spec.display()"
      ],
      "metadata": {
        "colab": {
          "base_uri": "https://localhost:8080/"
        },
        "id": "xaEhCFLTvfHc",
        "outputId": "254074cc-d344-49b0-9d1b-37cd0f650979"
      },
      "execution_count": 2,
      "outputs": [
        {
          "output_type": "stream",
          "name": "stdout",
          "text": [
            "Mobile brand= Oneplus\n",
            "Mobile price= 19500\n",
            "Mobile ram= 8GB\n"
          ]
        }
      ]
    },
    {
      "cell_type": "code",
      "source": [
        "class earphone:\n",
        "  def __init__(self,brand,price,battery):\n",
        "    self.brand=brand\n",
        "    self.price=price\n",
        "    self.battery=battery\n",
        "  def display(self):\n",
        "    print(\"Earphone Brand:\",self.brand)\n",
        "    print(\"Earphone Price:\",self.price)\n",
        "    print(\"Earphone Battery backup:\",self.battery)\n",
        "specs=earphone(\"Oneplus\",1999,\"5000 MAH\")\n",
        "specs.display()"
      ],
      "metadata": {
        "colab": {
          "base_uri": "https://localhost:8080/"
        },
        "id": "cWcmID14vfCN",
        "outputId": "0080a0c2-f79d-4503-f342-f3b1582dd84e"
      },
      "execution_count": 3,
      "outputs": [
        {
          "output_type": "stream",
          "name": "stdout",
          "text": [
            "Earphone Brand: Oneplus\n",
            "Earphone Price: 1999\n",
            "Earphone Battery backup: 5000 MAH\n"
          ]
        }
      ]
    },
    {
      "cell_type": "code",
      "source": [
        "#Different type of variables\n",
        "class moto:\n",
        "  chargertype=\"C-Type\" #No need to print everytime if the variable is common\n",
        "  def __init__(self,model,price):\n",
        "    self.model=model\n",
        "    self.price=price\n",
        "  def display(self):\n",
        "    print(\"Mobile model:\",self.model)\n",
        "    print(\"Mobile charger:\",self.chargertype)\n",
        "    print(\"Mobile price:\",self.price)\n",
        "\n",
        "moto.chargertype=\"B-Type\" #We can change the charger type from ctype to btype here\n",
        "\n",
        "Motorola=moto(\"Motoc3\",17500)\n",
        "Motorola.display()\n",
        "\n",
        "Redmi=moto(\"Redmi\",16500)\n",
        "Redmi.display()\n",
        "\n",
        "Google=moto(\"Google pixel\",24500)\n",
        "Google.display()"
      ],
      "metadata": {
        "colab": {
          "base_uri": "https://localhost:8080/"
        },
        "id": "VcyMLLHJve-v",
        "outputId": "de857ab6-c47b-425f-dbab-fb40c9ab16ef"
      },
      "execution_count": 14,
      "outputs": [
        {
          "output_type": "stream",
          "name": "stdout",
          "text": [
            "Mobile model: Motoc3\n",
            "Mobile charger: B-Type\n",
            "Mobile price: 17500\n",
            "Mobile model: Redmi\n",
            "Mobile charger: B-Type\n",
            "Mobile price: 16500\n",
            "Mobile model: Google pixel\n",
            "Mobile charger: B-Type\n",
            "Mobile price: 24500\n"
          ]
        }
      ]
    },
    {
      "cell_type": "code",
      "source": [
        "#Different type of class methods. Instance method, class method, static method\n",
        "class laptop():\n",
        "  chargertype=\"C-Type\"\n",
        "\n",
        "  def __init__(self):\n",
        "    self.brand=\"\"\n",
        "    self.price=34\n",
        "  def setprice(self,price):\n",
        "    self.price=price\n",
        "  def getprice(self):\n",
        "    print(self.price)\n",
        "\n",
        "  @classmethod\n",
        "  def changechargertype(cls):\n",
        "    cls.chargertype=\"B-Type\"\n",
        "    print(\"Charger type changed to B-Type\")\n",
        "\n",
        "  @staticmethod\n",
        "  def info():\n",
        "    print(\"This is laptop class\")\n",
        "\n",
        "hp.laptop()\n",
        "hp.setprice(20000)\n",
        "hp.getprice()\n",
        "laptop.changechargertype()\n",
        "hp.info()\n"
      ],
      "metadata": {
        "colab": {
          "base_uri": "https://localhost:8080/",
          "height": 227
        },
        "id": "tUcnXuZ0ve7-",
        "outputId": "5de902fb-eaaa-4659-c4a1-f3785ec4ab13"
      },
      "execution_count": 18,
      "outputs": [
        {
          "output_type": "error",
          "ename": "NameError",
          "evalue": "ignored",
          "traceback": [
            "\u001b[0;31m---------------------------------------------------------------------------\u001b[0m",
            "\u001b[0;31mNameError\u001b[0m                                 Traceback (most recent call last)",
            "\u001b[0;32m<ipython-input-18-fac5b2f0dd20>\u001b[0m in \u001b[0;36m<cell line: 22>\u001b[0;34m()\u001b[0m\n\u001b[1;32m     20\u001b[0m     \u001b[0mprint\u001b[0m\u001b[0;34m(\u001b[0m\u001b[0;34m\"This is laptop class\"\u001b[0m\u001b[0;34m)\u001b[0m\u001b[0;34m\u001b[0m\u001b[0;34m\u001b[0m\u001b[0m\n\u001b[1;32m     21\u001b[0m \u001b[0;34m\u001b[0m\u001b[0m\n\u001b[0;32m---> 22\u001b[0;31m \u001b[0mhp\u001b[0m\u001b[0;34m.\u001b[0m\u001b[0mlaptop\u001b[0m\u001b[0;34m(\u001b[0m\u001b[0;34m)\u001b[0m\u001b[0;34m\u001b[0m\u001b[0;34m\u001b[0m\u001b[0m\n\u001b[0m\u001b[1;32m     23\u001b[0m \u001b[0mhp\u001b[0m\u001b[0;34m.\u001b[0m\u001b[0msetprice\u001b[0m\u001b[0;34m(\u001b[0m\u001b[0;36m20000\u001b[0m\u001b[0;34m)\u001b[0m\u001b[0;34m\u001b[0m\u001b[0;34m\u001b[0m\u001b[0m\n",
            "\u001b[0;31mNameError\u001b[0m: name 'hp' is not defined"
          ]
        }
      ]
    },
    {
      "cell_type": "code",
      "source": [
        "class Ebbill:\n",
        "  def __init__ (self,month,amount,unit):\n",
        "    self.month=month\n",
        "    self.amount=amount\n",
        "    self.unit=unit\n",
        "  def display(self):\n",
        "    print(\"Month:\", self.month)\n",
        "    print(\"Amount:\",self.amount)\n",
        "    print(\"Unit:\",self.unit)\n",
        "April=Ebbill(\"April\",1200,120)\n",
        "April.display()\n",
        "May=Ebbill(\"May\",1100,110)\n",
        "May.display()\n",
        "June=Ebbill(\"June\",1000,100)\n",
        "June.display()\n",
        "Avg="
      ],
      "metadata": {
        "colab": {
          "base_uri": "https://localhost:8080/"
        },
        "id": "5AsoOozYc_1f",
        "outputId": "bcda629c-ce6e-4cea-c736-45177baf8227"
      },
      "execution_count": 7,
      "outputs": [
        {
          "output_type": "stream",
          "name": "stdout",
          "text": [
            "Month: April\n",
            "Amount: 1200\n",
            "Unit: 120\n",
            "Month: May\n",
            "Amount: 1100\n",
            "Unit: 110\n",
            "Month: June\n",
            "Amount: 1000\n",
            "Unit: 100\n"
          ]
        }
      ]
    },
    {
      "cell_type": "code",
      "source": [
        "#Inheritence and its objects\n",
        "class saran():\n",
        "  def phone(self):\n",
        "    print(\"Sarans Phone\")\n",
        "class vinu():\n",
        "  def gametoys(self):\n",
        "    print(\"Vinus toys\")\n",
        "son=vinu() #so vinu cant access sarans object\n",
        "son.phone()"
      ],
      "metadata": {
        "colab": {
          "base_uri": "https://localhost:8080/",
          "height": 210
        },
        "id": "PZLQdSteve5F",
        "outputId": "1c9cc2a0-412e-404f-b4e5-9a4960a7179f"
      },
      "execution_count": 8,
      "outputs": [
        {
          "output_type": "error",
          "ename": "AttributeError",
          "evalue": "ignored",
          "traceback": [
            "\u001b[0;31m---------------------------------------------------------------------------\u001b[0m",
            "\u001b[0;31mAttributeError\u001b[0m                            Traceback (most recent call last)",
            "\u001b[0;32m<ipython-input-8-80548eb91291>\u001b[0m in \u001b[0;36m<cell line: 9>\u001b[0;34m()\u001b[0m\n\u001b[1;32m      7\u001b[0m     \u001b[0mprint\u001b[0m\u001b[0;34m(\u001b[0m\u001b[0;34m\"Vinus toys\"\u001b[0m\u001b[0;34m)\u001b[0m\u001b[0;34m\u001b[0m\u001b[0;34m\u001b[0m\u001b[0m\n\u001b[1;32m      8\u001b[0m \u001b[0mson\u001b[0m\u001b[0;34m=\u001b[0m\u001b[0mvinu\u001b[0m\u001b[0;34m(\u001b[0m\u001b[0;34m)\u001b[0m\u001b[0;34m\u001b[0m\u001b[0;34m\u001b[0m\u001b[0m\n\u001b[0;32m----> 9\u001b[0;31m \u001b[0mson\u001b[0m\u001b[0;34m.\u001b[0m\u001b[0mphone\u001b[0m\u001b[0;34m(\u001b[0m\u001b[0;34m)\u001b[0m\u001b[0;34m\u001b[0m\u001b[0;34m\u001b[0m\u001b[0m\n\u001b[0m",
            "\u001b[0;31mAttributeError\u001b[0m: 'vinu' object has no attribute 'phone'"
          ]
        }
      ]
    },
    {
      "cell_type": "code",
      "source": [
        "class saran(): #can define one class into another class\n",
        "  def phone(self):\n",
        "    print(\"Sarans Phone\")\n",
        "\n",
        "class rochu(saran):\n",
        "  def watch(self):\n",
        "    print(\"Rochus watch\")\n",
        "\n",
        "class vinu(rochu,saran):\n",
        "  def gametoys(self):\n",
        "    print(\"Vinus toys\")\n",
        "\n",
        "son=vinu() #so one object can access multiple class\n",
        "son.gametoys()\n",
        "son.phone()\n",
        "son.watch()\n",
        "daught=rochu()\n",
        "daught.phone()"
      ],
      "metadata": {
        "colab": {
          "base_uri": "https://localhost:8080/"
        },
        "id": "Dp-ORqxJveyQ",
        "outputId": "dd218dcc-77be-48fd-93e8-7bdb0843bae2"
      },
      "execution_count": 30,
      "outputs": [
        {
          "output_type": "stream",
          "name": "stdout",
          "text": [
            "Vinus toys\n",
            "Sarans Phone\n",
            "Rochus watch\n",
            "Sarans Phone\n"
          ]
        }
      ]
    },
    {
      "cell_type": "code",
      "source": [
        "class dad():\n",
        "  def money(self):\n",
        "    print(\"Dads Money\")\n",
        "\n",
        "class asset():\n",
        "  def mainland(self):\n",
        "    print(\"main asset\")\n",
        "\n",
        "class son1(dad, asset):\n",
        "  pass #Can create empty class with pass comment\n",
        "\n",
        "class son2(dad):\n",
        "  pass\n",
        "\n",
        "class sone3(dad):\n",
        "  pass\n",
        "\n",
        "s1=son1()\n",
        "s1.money()\n",
        "s1.mainland()"
      ],
      "metadata": {
        "colab": {
          "base_uri": "https://localhost:8080/"
        },
        "id": "0w_XhIw0iCdF",
        "outputId": "b9769a89-b6e7-4423-8e06-4ca86fa2f422"
      },
      "execution_count": 35,
      "outputs": [
        {
          "output_type": "stream",
          "name": "stdout",
          "text": [
            "Dads Money\n",
            "main asset\n"
          ]
        }
      ]
    },
    {
      "cell_type": "code",
      "source": [
        "class a():\n",
        "  def __init__ (self):\n",
        "    print(\"A\")\n",
        "  def display(self):\n",
        "    print(\"You are in class A\")\n",
        "class b(a):\n",
        "  def display(self):\n",
        "    print(\"You are in class B\")\n",
        "\n",
        "obj1=b() #since class b doesnt have constructor, it is inheriting class a\n",
        "obj1.display()"
      ],
      "metadata": {
        "colab": {
          "base_uri": "https://localhost:8080/"
        },
        "id": "MTTFm2sgsHrL",
        "outputId": "69f0503d-5b8f-46cf-d86e-aa2808b6ade8"
      },
      "execution_count": 37,
      "outputs": [
        {
          "output_type": "stream",
          "name": "stdout",
          "text": [
            "A\n",
            "You are in class B\n"
          ]
        }
      ]
    },
    {
      "cell_type": "code",
      "source": [
        "class a():\n",
        "  def __init__ (self):\n",
        "    print(\"A\")\n",
        "  def display(self):\n",
        "    print(\"You are in class A\")\n",
        "class b(a):\n",
        "  def __init__(self): #since b is also having constructing, though it is inheriting a class, but it will print only b\n",
        "    print(\"B\")\n",
        "  def display(self):\n",
        "    print({\"You are in class B\"})\n",
        "obj=b()v\n"
      ],
      "metadata": {
        "colab": {
          "base_uri": "https://localhost:8080/"
        },
        "id": "ljOeFOjPsHl2",
        "outputId": "86ce72d3-98b1-44b2-9fa7-0cb7806da4c0"
      },
      "execution_count": 38,
      "outputs": [
        {
          "output_type": "stream",
          "name": "stdout",
          "text": [
            "B\n"
          ]
        }
      ]
    },
    {
      "cell_type": "code",
      "source": [
        "class a():\n",
        "  def __init__ (self):\n",
        "    print(\"A\")\n",
        "  def display(self):\n",
        "    print(\"You are in class A\")\n",
        "class b():\n",
        "  def __init__(self):\n",
        "    super().__init__() #super keyword will help accessing previous class\n",
        "    print(\"B\")\n",
        "  def display(self):\n",
        "    print({\"You are in class B\"})\n",
        "class c(b,a):\n",
        "  def __init__(self):\n",
        "    super().__init__()\n",
        "    print(\"C\")\n",
        "  def display(self):\n",
        "    print(\"You are in class C\")\n",
        "\n",
        "obj=c()"
      ],
      "metadata": {
        "colab": {
          "base_uri": "https://localhost:8080/"
        },
        "id": "9h0DOT3_sHd6",
        "outputId": "cd28f774-3fa1-48b6-a9f4-216ce4b0f677"
      },
      "execution_count": 47,
      "outputs": [
        {
          "output_type": "stream",
          "name": "stdout",
          "text": [
            "A\n",
            "B\n",
            "C\n"
          ]
        }
      ]
    },
    {
      "cell_type": "code",
      "source": [
        "class person: #parent class\n",
        "  def __init__(self,name):\n",
        "    self.name=name\n",
        "  def display(self):\n",
        "    print(f\"Name is:{self.name}\")\n",
        "\n",
        "class student(person): #Child class, parent class cant access child class\n",
        "  def __init__(self,name,grade):\n",
        "    super().__init__(name)\n",
        "    self.grade=grade\n",
        "  def display(self):\n",
        "    super().display()\n",
        "    print(f\"The Grade is:{self.grade}\")\n",
        "\n",
        "s1=student(\"Sara\",\"A+\")\n",
        "s1.display()\n",
        ""
      ],
      "metadata": {
        "colab": {
          "base_uri": "https://localhost:8080/"
        },
        "id": "DYgVcw2LsHPY",
        "outputId": "2d8ded26-72e3-4bf4-af98-d6ed9e2b8465"
      },
      "execution_count": 51,
      "outputs": [
        {
          "output_type": "stream",
          "name": "stdout",
          "text": [
            "Name is:Sara\n",
            "The Grade is:A+\n"
          ]
        }
      ]
    },
    {
      "cell_type": "code",
      "source": [
        "class teacher(person):\n",
        "  def __init__(self,name,subject):\n",
        "    super().__init__(name)\n",
        "    self.subject=subject\n",
        "  def display(self):\n",
        "    super().display()\n",
        "    print(f\"The Subject is:{self.subject}\")\n",
        "te1=teacher(\"krish\",\"python\")\n",
        "te1.display()"
      ],
      "metadata": {
        "colab": {
          "base_uri": "https://localhost:8080/"
        },
        "id": "L34J_zyhiDKr",
        "outputId": "57fde920-1a0a-448b-b9ef-31ae2c86b363"
      },
      "execution_count": 50,
      "outputs": [
        {
          "output_type": "stream",
          "name": "stdout",
          "text": [
            "Name is:krish\n",
            "The Subject is:python\n"
          ]
        }
      ]
    },
    {
      "cell_type": "code",
      "source": [
        "class vehicle():\n",
        "  def __init__(self,Model,Brand):\n",
        "    self.Model=Model\n",
        "    self.Brand=Brand\n",
        "  def display(self):\n",
        "    print(f\"The Model is:{self.Model}\")\n",
        "    print(f\"The Brand is:{self.Brand}\")\n",
        "  def start(self):\n",
        "    print(f\"the {self.Brand} {self.Model} is starting\")\n",
        "\n",
        "class bicycle(vehicle):\n",
        "  def __init__(self,Model,Brand):\n",
        "    super().__init__(Model,Brand)\n",
        "  def display(self):\n",
        "    super().display()\n",
        "  def start(self):\n",
        "    super().start()\n",
        "    print(f\"the {self.Brand} {self.Model} is ready to go\")\n",
        "\n",
        "vehicle=vehicle(\"Figo\",\"Ford\")\n",
        "vehicle.display()\n",
        "vehicle.start()\n",
        "bicycle=bicycle(\"Feather\",\"Hercules\")\n",
        "bicycle.display()\n",
        "bicycle.start()"
      ],
      "metadata": {
        "colab": {
          "base_uri": "https://localhost:8080/"
        },
        "id": "0Abb9JdZ7TH2",
        "outputId": "92d28ac8-1088-4a1c-e540-fa2b67015e13"
      },
      "execution_count": 57,
      "outputs": [
        {
          "output_type": "stream",
          "name": "stdout",
          "text": [
            "The Model is:Figo\n",
            "The Brand is:Ford\n",
            "the Ford Figo is starting\n",
            "The Model is:Feather\n",
            "The Brand is:Hercules\n",
            "the Hercules Feather is starting\n",
            "the Hercules Feather is ready to go\n"
          ]
        }
      ]
    },
    {
      "cell_type": "code",
      "source": [
        "class animal():\n",
        "  def __init__(self,name):\n",
        "    self.name=name\n",
        "  def display(self):\n",
        "    print(f\"The Name  of animal:{self.name}\")\n",
        "class cat(animal):\n",
        "  def __init__(self,name):\n",
        "    super().__init__(name)\n",
        "  def display(self):\n",
        "    super().display()\n",
        "  def sound(self):\n",
        "    print(f\"The {self.name} barks\" )\n",
        "class dog(animal):\n",
        "  def __init__(self,name):\n",
        "    super().__init__(name)\n",
        "\n",
        "animal=animal(\"elephant\")\n",
        "animal.display()\n",
        "cat=cat(\"Tom\")\n",
        "cat.display()\n",
        "cat.sound()"
      ],
      "metadata": {
        "colab": {
          "base_uri": "https://localhost:8080/"
        },
        "id": "923JEso57TEr",
        "outputId": "50ad1be8-642c-43e5-f0df-7ed40673b1e4"
      },
      "execution_count": 69,
      "outputs": [
        {
          "output_type": "stream",
          "name": "stdout",
          "text": [
            "The Name  of animal:elephant\n",
            "The Name  of animal:Tom\n",
            "The Tom barks\n"
          ]
        }
      ]
    },
    {
      "cell_type": "code",
      "source": [
        "#POLYMORPHISM\n",
        "def add(a,b,c=0): #same function name being used for different types\n",
        "  print(a+b+c)\n",
        "add(1,2)\n",
        "add(1,2,3)"
      ],
      "metadata": {
        "colab": {
          "base_uri": "https://localhost:8080/"
        },
        "id": "tqQCY8Fn7TA1",
        "outputId": "9e5f5be5-70ca-4e5e-c75e-23524ccc7a21"
      },
      "execution_count": 2,
      "outputs": [
        {
          "output_type": "stream",
          "name": "stdout",
          "text": [
            "3\n",
            "6\n"
          ]
        }
      ]
    },
    {
      "cell_type": "code",
      "source": [
        "class animal():\n",
        "  def sound(self):\n",
        "    print(\"Animal makes sound\")\n",
        "class dog(animal):\n",
        "  def sound(self): #method overriding, polymorphism\n",
        "    print(\"Dog barks\")\n",
        "class bird(animal):\n",
        "  def sound(self):\n",
        "    print(\"Bird sings\")\n",
        "b1=bird()\n",
        "b1.sound()"
      ],
      "metadata": {
        "colab": {
          "base_uri": "https://localhost:8080/"
        },
        "id": "8tk3DtoL7S7F",
        "outputId": "42759803-294c-4a90-c985-0f783b7cbc4f"
      },
      "execution_count": 8,
      "outputs": [
        {
          "output_type": "stream",
          "name": "stdout",
          "text": [
            "Bird sings\n"
          ]
        }
      ]
    },
    {
      "cell_type": "code",
      "source": [
        "class shape():\n",
        "  def area(self):\n",
        "    return 0\n",
        "\n",
        "class rectangle(shape):\n",
        "  def area(self):\n",
        "    len=10\n",
        "    bred=20\n",
        "    print(len*bred)\n",
        "s1=shape()\n",
        "print(s1.area())\n",
        "r1=rectangle()\n",
        "r1.area()"
      ],
      "metadata": {
        "colab": {
          "base_uri": "https://localhost:8080/"
        },
        "id": "uDVxQ9G5yLq2",
        "outputId": "86de64e5-49b9-4cda-8d86-463204098e76"
      },
      "execution_count": 13,
      "outputs": [
        {
          "output_type": "stream",
          "name": "stdout",
          "text": [
            "0\n",
            "200\n"
          ]
        }
      ]
    },
    {
      "cell_type": "code",
      "source": [
        "class person():\n",
        "  def __init__(self,name):\n",
        "    self.name=name\n",
        "  def display(self):\n",
        "    print(f\"Name of the person is:{self.name}\")\n",
        "class student(person): #derived or child class\n",
        "  def __init__(self,name,grade): #__ constructor\n",
        "    super(). __init__(name)\n",
        "    self.grade=grade\n",
        "  def display(self):\n",
        "    super().display()\n",
        "    print(f\"Grade:{self.grade}\")\n",
        "s1=student(\"sara\",\"A\")\n",
        "s1.display()\n",
        "\n"
      ],
      "metadata": {
        "colab": {
          "base_uri": "https://localhost:8080/"
        },
        "id": "RRLbCrdiyLlP",
        "outputId": "5e21cbff-7dcb-4e39-ae15-f5249948377b"
      },
      "execution_count": 53,
      "outputs": [
        {
          "output_type": "stream",
          "name": "stdout",
          "text": [
            "Name of the person is:sara\n",
            "Grade:A\n"
          ]
        }
      ]
    },
    {
      "cell_type": "code",
      "source": [
        "class vehicle():\n",
        "  def __init__(self,start):\n",
        "    self.start=start\n",
        "  def display(self):\n",
        "    print(\"vehicle started\")\n",
        "class car(vehicle):\n",
        "  def __init__(self,start):\n",
        "    super().__init__(start)\n",
        "\n",
        "  def display(self):\n",
        "    super().display()\n",
        "    print(\"Car is started\")\n",
        "\n",
        "c1=car(car)\n",
        "c1.display()"
      ],
      "metadata": {
        "colab": {
          "base_uri": "https://localhost:8080/"
        },
        "id": "PCq0bF7gyLhi",
        "outputId": "edeae5db-c67a-43b2-af63-6230af1015b0"
      },
      "execution_count": 46,
      "outputs": [
        {
          "output_type": "stream",
          "name": "stdout",
          "text": [
            "vehicle started\n",
            "Car is started\n"
          ]
        }
      ]
    },
    {
      "cell_type": "code",
      "source": [
        "class employee():\n",
        "  def __init__(self,name,salary):\n",
        "    self.name=name\n",
        "    self.salary=salary\n",
        "  def display(self):\n",
        "    print(f\"Name of the employee:{self.name}\")\n",
        "    print(f\"Salary :{self.salary}\")\n",
        "class manager(employee):\n",
        "  def __init__(self,name,salary,department):\n",
        "    super().__init__(name,salary)\n",
        "    self.department=department\n",
        "  def display(self):\n",
        "    super().display()\n",
        "    print(f\"Department is:{self.department}\")\n",
        "\n",
        "m1=manager(\"Sara\",25000,\"Science\")\n",
        "m1.display()"
      ],
      "metadata": {
        "colab": {
          "base_uri": "https://localhost:8080/"
        },
        "id": "haD15h46yLba",
        "outputId": "3b9d315e-7d58-44a0-8792-d7c9844d109f"
      },
      "execution_count": 62,
      "outputs": [
        {
          "output_type": "stream",
          "name": "stdout",
          "text": [
            "Name of the employee:Sara\n",
            "Salary :25000\n",
            "Department is:Science\n"
          ]
        }
      ]
    },
    {
      "cell_type": "code",
      "source": [
        "class car():\n",
        "  def __init__(self,brand):\n",
        "    self.brand=brand\n",
        "  def start(self):\n",
        "    print(f\"brand of the car:{self.brand}\")\n",
        "class lorry(car):\n",
        "  def __init__(self,brand,tyre):\n",
        "    super().__init__(brand)\n",
        "    self.tyre=tyre\n",
        "  def start(self):\n",
        "    super().start()\n",
        "    print(f\"the brand is {self.brand} and has {self.tyre} tyres\")\n",
        "c1=car(\"Figo\")\n",
        "c1.start()\n",
        "l1=lorry(\"mahindra\",4)\n",
        "l1.start()"
      ],
      "metadata": {
        "colab": {
          "base_uri": "https://localhost:8080/"
        },
        "id": "e9WokoXz7SxK",
        "outputId": "38a5b381-50a8-4578-9f39-4dd7af3d643e"
      },
      "execution_count": 66,
      "outputs": [
        {
          "output_type": "stream",
          "name": "stdout",
          "text": [
            "brand of the car:Figo\n",
            "brand of the car:mahindra\n",
            "the brand is mahindra and has 4 tyres\n"
          ]
        }
      ]
    },
    {
      "cell_type": "code",
      "source": [
        "class vegetables():\n",
        "  def __init__(self,name):\n",
        "    self.name=name\n",
        "  def display(self):\n",
        "    print(f\"The vegetable name is {self.name}\")\n",
        "class potato(vegetables):\n",
        "  def __init__(self,name,color):\n",
        "    super().__init__(name)\n",
        "    self.color=color\n",
        "  def display(self):\n",
        "    super().display()\n",
        "    print(f\"and {self.name}  color is {self.color}\")\n",
        "v1=vegetables(\"Tomato\")\n",
        "v1.display()\n",
        "p1=potato(\"Potato\",\"grey\")\n",
        "p1.display()"
      ],
      "metadata": {
        "colab": {
          "base_uri": "https://localhost:8080/"
        },
        "id": "c8x5bG7qMnCv",
        "outputId": "e379b419-9b3c-4780-f102-2b452f1bd6e1"
      },
      "execution_count": 75,
      "outputs": [
        {
          "output_type": "stream",
          "name": "stdout",
          "text": [
            "The vegetable name is Tomato\n",
            "The vegetable name is Potato\n",
            "and Potato  color is grey\n"
          ]
        }
      ]
    },
    {
      "cell_type": "code",
      "source": [
        "class furniture():\n",
        "  def __init__(self,name):\n",
        "    self.name=name\n",
        "  def display(self):\n",
        "    print(f\"The shop name is:{self.name}\")\n",
        "class steelcot(furniture):\n",
        "  def __init__(self,name,size):\n",
        "    super().__init__(name)\n",
        "    self.size=size\n",
        "  def display(self):\n",
        "    super().display()\n",
        "    print(f\"{self.name} and Size of the is{self.size}\")\n",
        "f1=furniture(\"Royaloak\")\n",
        "f1.display()\n",
        "s1=steelcot(\"RMN\",6.5)\n",
        "s1.display()"
      ],
      "metadata": {
        "colab": {
          "base_uri": "https://localhost:8080/"
        },
        "id": "3ztrLgg5MjAT",
        "outputId": "a51e54b4-4357-4477-c9fe-e69b34c67f45"
      },
      "execution_count": 81,
      "outputs": [
        {
          "output_type": "stream",
          "name": "stdout",
          "text": [
            "The shop name is:Royaloak\n",
            "The shop name is:RMN\n",
            "RMN and Size of the is6.5\n"
          ]
        }
      ]
    },
    {
      "cell_type": "code",
      "source": [
        "# public access\n",
        "class person():\n",
        "  def __init__(self,firstname,lastname):\n",
        "    self.firstname=firstname\n",
        "    self.lastname=lastname\n",
        "  def display(self):\n",
        "    print(f\"The first name is {self.firstname} and the last name is {self.lastname}\")\n",
        "\n",
        "p1=person(\"Sara\",\"Nach\")\n",
        "p1.display()"
      ],
      "metadata": {
        "colab": {
          "base_uri": "https://localhost:8080/"
        },
        "id": "kwTP3wSGMin0",
        "outputId": "dd091e5e-37a7-4fbd-9a24-ff1b108eae0d"
      },
      "execution_count": 82,
      "outputs": [
        {
          "output_type": "stream",
          "name": "stdout",
          "text": [
            "The first name is Sara and the last name is Nach\n"
          ]
        }
      ]
    },
    {
      "cell_type": "code",
      "source": [
        "#protected access modifiers, private\n",
        "class student():\n",
        "  def __init__(self,name,rollno):\n",
        "    self._name=name #_(one underscore can be used for protected access modifiers)\n",
        "    self._rollno=rollno\n",
        "  def _display(self):\n",
        "    print(f\"The name is {self._name} and Roll no is {self._rollno}\")\n",
        "s1=student(\"Sara\",1680)\n",
        "s1._display()"
      ],
      "metadata": {
        "colab": {
          "base_uri": "https://localhost:8080/"
        },
        "id": "j1KMo335MikP",
        "outputId": "88013da3-f99e-4483-ea44-0b42259a1f8a"
      },
      "execution_count": 85,
      "outputs": [
        {
          "output_type": "stream",
          "name": "stdout",
          "text": [
            "The name is Sara and Roll no is 1680\n"
          ]
        }
      ]
    },
    {
      "cell_type": "code",
      "source": [
        "class genius(student):\n",
        "  def __init__(self,name,rollno):\n",
        "    super().__init__(name,rollno)\n",
        "  def displays(self):\n",
        "    print(f\"name is {self._name} and rollno{self._rollno}\")\n",
        "    self._display()\n",
        "g1=genius(\"saro\",123)\n",
        "g1.displays()"
      ],
      "metadata": {
        "colab": {
          "base_uri": "https://localhost:8080/"
        },
        "id": "pQf1U1WQMihD",
        "outputId": "9dffaa75-9059-4867-c700-cfb2406d2137"
      },
      "execution_count": 88,
      "outputs": [
        {
          "output_type": "stream",
          "name": "stdout",
          "text": [
            "name is saro and rollno123\n",
            "The name is saro and Roll no is 123\n"
          ]
        }
      ]
    },
    {
      "cell_type": "code",
      "source": [
        "class animal():\n",
        "  def __init__(self,name):\n",
        "    self.name=name\n",
        "  def make_sound(self):\n",
        "    return \"generic voice\"\n",
        "class dog(animal):\n",
        "  def make_sound(self):\n",
        "    return\"woof\"\n",
        "class cat(animal):\n",
        "  super().make_sound(self)\n",
        "\n",
        "cat=cat(\"Tom\")\n",
        "cat.make_sound()"
      ],
      "metadata": {
        "colab": {
          "base_uri": "https://localhost:8080/",
          "height": 366
        },
        "id": "xsKJnbRLMide",
        "outputId": "8a20812d-6b1b-43e3-c70d-4819d9bbc027"
      },
      "execution_count": 1,
      "outputs": [
        {
          "output_type": "error",
          "ename": "RuntimeError",
          "evalue": "ignored",
          "traceback": [
            "\u001b[0;31m---------------------------------------------------------------------------\u001b[0m",
            "\u001b[0;31mRuntimeError\u001b[0m                              Traceback (most recent call last)",
            "\u001b[0;32m<ipython-input-1-86725e39d1bb>\u001b[0m in \u001b[0;36m<cell line: 9>\u001b[0;34m()\u001b[0m\n\u001b[1;32m      7\u001b[0m   \u001b[0;32mdef\u001b[0m \u001b[0mmake_sound\u001b[0m\u001b[0;34m(\u001b[0m\u001b[0mself\u001b[0m\u001b[0;34m)\u001b[0m\u001b[0;34m:\u001b[0m\u001b[0;34m\u001b[0m\u001b[0;34m\u001b[0m\u001b[0m\n\u001b[1;32m      8\u001b[0m     \u001b[0;32mreturn\u001b[0m\u001b[0;34m\"woof\"\u001b[0m\u001b[0;34m\u001b[0m\u001b[0;34m\u001b[0m\u001b[0m\n\u001b[0;32m----> 9\u001b[0;31m \u001b[0;32mclass\u001b[0m \u001b[0mcat\u001b[0m\u001b[0;34m(\u001b[0m\u001b[0manimal\u001b[0m\u001b[0;34m)\u001b[0m\u001b[0;34m:\u001b[0m\u001b[0;34m\u001b[0m\u001b[0;34m\u001b[0m\u001b[0m\n\u001b[0m\u001b[1;32m     10\u001b[0m   \u001b[0msuper\u001b[0m\u001b[0;34m(\u001b[0m\u001b[0;34m)\u001b[0m\u001b[0;34m.\u001b[0m\u001b[0mmake_sound\u001b[0m\u001b[0;34m(\u001b[0m\u001b[0mself\u001b[0m\u001b[0;34m)\u001b[0m\u001b[0;34m\u001b[0m\u001b[0;34m\u001b[0m\u001b[0m\n\u001b[1;32m     11\u001b[0m \u001b[0;34m\u001b[0m\u001b[0m\n",
            "\u001b[0;32m<ipython-input-1-86725e39d1bb>\u001b[0m in \u001b[0;36mcat\u001b[0;34m()\u001b[0m\n\u001b[1;32m      8\u001b[0m     \u001b[0;32mreturn\u001b[0m\u001b[0;34m\"woof\"\u001b[0m\u001b[0;34m\u001b[0m\u001b[0;34m\u001b[0m\u001b[0m\n\u001b[1;32m      9\u001b[0m \u001b[0;32mclass\u001b[0m \u001b[0mcat\u001b[0m\u001b[0;34m(\u001b[0m\u001b[0manimal\u001b[0m\u001b[0;34m)\u001b[0m\u001b[0;34m:\u001b[0m\u001b[0;34m\u001b[0m\u001b[0;34m\u001b[0m\u001b[0m\n\u001b[0;32m---> 10\u001b[0;31m   \u001b[0msuper\u001b[0m\u001b[0;34m(\u001b[0m\u001b[0;34m)\u001b[0m\u001b[0;34m.\u001b[0m\u001b[0mmake_sound\u001b[0m\u001b[0;34m(\u001b[0m\u001b[0mself\u001b[0m\u001b[0;34m)\u001b[0m\u001b[0;34m\u001b[0m\u001b[0;34m\u001b[0m\u001b[0m\n\u001b[0m\u001b[1;32m     11\u001b[0m \u001b[0;34m\u001b[0m\u001b[0m\n\u001b[1;32m     12\u001b[0m \u001b[0mcat\u001b[0m\u001b[0;34m=\u001b[0m\u001b[0mcat\u001b[0m\u001b[0;34m(\u001b[0m\u001b[0;34m\"Tom\"\u001b[0m\u001b[0;34m)\u001b[0m\u001b[0;34m\u001b[0m\u001b[0;34m\u001b[0m\u001b[0m\n",
            "\u001b[0;31mRuntimeError\u001b[0m: super(): no arguments"
          ]
        }
      ]
    },
    {
      "cell_type": "code",
      "source": [
        "class person():\n",
        "  company_name=\"Tataplay\" #Class variables, it can be shared by all the instances of class\n",
        "  def __init__(self,Firstname,Lastname):\n",
        "    self.Firstname=Firstname #instance variable\n",
        "    self.Lastname=Lastname\n",
        "  @classmethod\n",
        "  def change_company(cls,company_name):\n",
        "    cls.company_name=company_name\n",
        "\n",
        "p1=person(\"Sara\",\"Nach\")\n",
        "p1.company_name\n",
        "person.change_company(\"iNeuron\")#we can change the class variables in\n",
        "person.company_name"
      ],
      "metadata": {
        "colab": {
          "base_uri": "https://localhost:8080/",
          "height": 36
        },
        "id": "KB_0kiynNKZW",
        "outputId": "06e6033a-6f15-41ac-bec5-8aacd2c07ebc"
      },
      "execution_count": 8,
      "outputs": [
        {
          "output_type": "execute_result",
          "data": {
            "text/plain": [
              "'iNeuron'"
            ],
            "application/vnd.google.colaboratory.intrinsic+json": {
              "type": "string"
            }
          },
          "metadata": {},
          "execution_count": 8
        }
      ]
    },
    {
      "cell_type": "code",
      "source": [
        "class car():\n",
        "  base_price=100000 #class variable can be updated in the car itself.\n",
        "  def __init__(self,model,brand):\n",
        "    self.model=model\n",
        "    self.brand=brand\n",
        "  def display(self):\n",
        "    print(f\"The base price is{self.base_price}\")\n",
        "\n",
        "  @classmethod\n",
        "  def change_price(cls,base_price):\n",
        "    cls.base_price=base_price\n",
        "\n",
        "  @staticmethod #utility method\n",
        "  def check_year(year):\n",
        "    if year==2024:\n",
        "      return True\n",
        "    else:\n",
        "      return False\n",
        "\n",
        "car.change_price(125000) #(instead of creating an another name, we can call from class itself.)\n",
        "car.base_price\n"
      ],
      "metadata": {
        "colab": {
          "base_uri": "https://localhost:8080/"
        },
        "id": "ePmOdm-vNKQJ",
        "outputId": "547bcc67-486d-47ae-f098-0cfc30d97f1e"
      },
      "execution_count": 6,
      "outputs": [
        {
          "output_type": "execute_result",
          "data": {
            "text/plain": [
              "125000"
            ]
          },
          "metadata": {},
          "execution_count": 6
        }
      ]
    },
    {
      "cell_type": "code",
      "source": [
        "car1=car(\"bmw\",\"ev\")\n",
        "car1.base_price"
      ],
      "metadata": {
        "colab": {
          "base_uri": "https://localhost:8080/"
        },
        "id": "QyejeYRkNKJT",
        "outputId": "b7a6197c-d028-4099-a76c-9ce78c330c24"
      },
      "execution_count": 7,
      "outputs": [
        {
          "output_type": "execute_result",
          "data": {
            "text/plain": [
              "125000"
            ]
          },
          "metadata": {},
          "execution_count": 7
        }
      ]
    },
    {
      "cell_type": "code",
      "source": [
        "car.check_year(2024)"
      ],
      "metadata": {
        "colab": {
          "base_uri": "https://localhost:8080/"
        },
        "id": "O1vHtFQKcpsz",
        "outputId": "05cf79fb-ecdf-459a-8adb-2748fcf36789"
      },
      "execution_count": 8,
      "outputs": [
        {
          "output_type": "execute_result",
          "data": {
            "text/plain": [
              "True"
            ]
          },
          "metadata": {},
          "execution_count": 8
        }
      ]
    },
    {
      "cell_type": "code",
      "source": [
        "#Data class\n",
        "from dataclasses import dataclass\n",
        "@dataclass\n",
        "class person():\n",
        "  firstname:str\n",
        "  lastname:str\n",
        "person=person(\"Sara\",\"Nach\")\n",
        "person.firstname\n"
      ],
      "metadata": {
        "colab": {
          "base_uri": "https://localhost:8080/",
          "height": 36
        },
        "id": "VjSuXEblcpm0",
        "outputId": "004f63da-2692-4a80-9a13-b88478edbeea"
      },
      "execution_count": 10,
      "outputs": [
        {
          "output_type": "execute_result",
          "data": {
            "text/plain": [
              "'Sara'"
            ],
            "application/vnd.google.colaboratory.intrinsic+json": {
              "type": "string"
            }
          },
          "metadata": {},
          "execution_count": 10
        }
      ]
    },
    {
      "cell_type": "code",
      "source": [
        "class demo():\n",
        "  def __init__(self):\n",
        "    print(\"Good morning\")\n",
        "  def __new__(self):\n",
        "    print(\"Good afternoon\")\n",
        "obj=demo()"
      ],
      "metadata": {
        "colab": {
          "base_uri": "https://localhost:8080/"
        },
        "id": "wuGWwnt5cpCZ",
        "outputId": "f2779209-875b-4edc-9081-539c3b4e29c9"
      },
      "execution_count": 2,
      "outputs": [
        {
          "output_type": "stream",
          "name": "stdout",
          "text": [
            "Good afternoon\n"
          ]
        }
      ]
    },
    {
      "cell_type": "code",
      "source": [
        "class emp:\n",
        "  def __init__(self):\n",
        "    print(\"Object created\")\n",
        "  def test(Sara):\n",
        "    print(\"Python is cool\")\n",
        "  def demo(self):\n",
        "    print(\"Python rocks\")\n",
        "saran=emp() #object creation, can create n number of objects in a class, calling the object,\n",
        "saran.test() #accessing the function dot method,\n",
        "saran.demo()"
      ],
      "metadata": {
        "colab": {
          "base_uri": "https://localhost:8080/"
        },
        "id": "LI3qGFL22LrW",
        "outputId": "3cfa5fe9-e4ea-4240-bc13-d184c4acca02"
      },
      "execution_count": 7,
      "outputs": [
        {
          "output_type": "stream",
          "name": "stdout",
          "text": [
            "Object created\n",
            "Python is cool\n",
            "Python rocks\n"
          ]
        }
      ]
    },
    {
      "cell_type": "code",
      "source": [
        "saran=demo()\n"
      ],
      "metadata": {
        "colab": {
          "base_uri": "https://localhost:8080/",
          "height": 175
        },
        "id": "HZlBy15y2Lll",
        "outputId": "f3b8f282-4c4b-4c13-8868-5a2ede09872e"
      },
      "execution_count": 4,
      "outputs": [
        {
          "output_type": "error",
          "ename": "NameError",
          "evalue": "ignored",
          "traceback": [
            "\u001b[0;31m---------------------------------------------------------------------------\u001b[0m",
            "\u001b[0;31mNameError\u001b[0m                                 Traceback (most recent call last)",
            "\u001b[0;32m<ipython-input-4-2b4094fb0d1c>\u001b[0m in \u001b[0;36m<cell line: 1>\u001b[0;34m()\u001b[0m\n\u001b[0;32m----> 1\u001b[0;31m \u001b[0msaran\u001b[0m\u001b[0;34m=\u001b[0m\u001b[0mdemo\u001b[0m\u001b[0;34m(\u001b[0m\u001b[0;34m)\u001b[0m\u001b[0;34m\u001b[0m\u001b[0;34m\u001b[0m\u001b[0m\n\u001b[0m",
            "\u001b[0;31mNameError\u001b[0m: name 'demo' is not defined"
          ]
        }
      ]
    },
    {
      "cell_type": "code",
      "source": [
        "class emp:\n",
        "  def __init__(self):\n",
        "    print(\"Object created\")\n",
        "  def test(self):\n",
        "    print(f\"Python is cool {id(self)}\")\n",
        "  def demo(self):\n",
        "    print(\"Python rocks\")\n",
        "obj=emp()\n",
        "obj.test()"
      ],
      "metadata": {
        "colab": {
          "base_uri": "https://localhost:8080/"
        },
        "id": "gw5_ombH2Lgy",
        "outputId": "1b8fc794-7388-4bd2-ae63-332ce6fb78e4"
      },
      "execution_count": 11,
      "outputs": [
        {
          "output_type": "stream",
          "name": "stdout",
          "text": [
            "Object created\n",
            "Python is cool 134486501853408\n"
          ]
        }
      ]
    },
    {
      "cell_type": "code",
      "source": [
        "#Encapsulation\n",
        "class cinema:\n",
        "  def __init__(self,movie,rate):\n",
        "    self.movie=movie #instance variable, we can access this variable thru self\n",
        "    self.rate=rate #self is a reference and memory address\n",
        "  def display(self):\n",
        "    print(f\"The movie name is: {self.movie}\")\n",
        "    print(f\"The ticket rate is: {self.rate}\")\n",
        "movie=cinema(\"Billa\",150)\n",
        "movie.display()"
      ],
      "metadata": {
        "colab": {
          "base_uri": "https://localhost:8080/"
        },
        "id": "onWmaUvG2LXh",
        "outputId": "8b028e1a-4e8b-48c4-ce45-d7e3289a4338"
      },
      "execution_count": 13,
      "outputs": [
        {
          "output_type": "stream",
          "name": "stdout",
          "text": [
            "The movie name is: Billa\n",
            "The ticket rate is: 150\n"
          ]
        }
      ]
    },
    {
      "cell_type": "code",
      "source": [
        "import math #math is a package\n",
        "class circle:\n",
        "  def __init__(self,r): #r is a instance variable and constructor\n",
        "    self.radius=r\n",
        "    print(self.radius)\n",
        "  def cal_area(self): #instance method\n",
        "    self.area=math.pi*(self.radius**2) #functions\n",
        "  def cal_circumference(self):\n",
        "    self.cir=2*math.pi*self.radius\n",
        "  def display(self):\n",
        "    print(f\"area {self.area}\")\n",
        "    print(f\"cir {self.cir}\")\n",
        "r=int(input(\"Enter radius:\"))\n",
        "obj=circle(r)"
      ],
      "metadata": {
        "colab": {
          "base_uri": "https://localhost:8080/"
        },
        "id": "jXq7CFfr2LO3",
        "outputId": "d8766db5-b1b4-4918-b469-b4edacd914d7"
      },
      "execution_count": 15,
      "outputs": [
        {
          "output_type": "stream",
          "name": "stdout",
          "text": [
            "Enter radius:100\n",
            "100\n"
          ]
        }
      ]
    },
    {
      "cell_type": "code",
      "source": [
        "obj.cal_area()\n",
        "obj.cal_circumference()\n",
        "obj.display()"
      ],
      "metadata": {
        "colab": {
          "base_uri": "https://localhost:8080/"
        },
        "id": "YbpfEvXqMiN0",
        "outputId": "4261541e-8201-4866-8e6f-7a0994af6c48"
      },
      "execution_count": 17,
      "outputs": [
        {
          "output_type": "stream",
          "name": "stdout",
          "text": [
            "area 31415.926535897932\n",
            "cir 628.3185307179587\n"
          ]
        }
      ]
    },
    {
      "cell_type": "code",
      "source": [
        "import math\n",
        "class circle:\n",
        "  def __init__(self,a): #instance variable\n",
        "    self.x=a #local variable\n",
        "    print(self.x)\n",
        "  def CalcArea(self):\n",
        "    (self.x**2)*math.pi\n",
        "\n",
        "  def calcCircum(self):\n",
        "    2*math.pi*self.x\n",
        "\n",
        "\n",
        "obj1=circle(100)\n",
        "obj1.CalcArea()\n",
        "obj1.calcCircum()\n"
      ],
      "metadata": {
        "colab": {
          "base_uri": "https://localhost:8080/"
        },
        "id": "hI0bt9Wmr749",
        "outputId": "a27c0460-6ab5-4b5e-8cd7-365ea1f2fb82"
      },
      "execution_count": 32,
      "outputs": [
        {
          "output_type": "stream",
          "name": "stdout",
          "text": [
            "100\n"
          ]
        }
      ]
    },
    {
      "cell_type": "code",
      "source": [
        "class Compstudent:\n",
        "  stream='cse' #Class variable\n",
        "  def __init__(self,name,role):\n",
        "    self.name=name\n",
        "    self.role=role\n",
        "obj1=Compstudent(\"Sara\",1680)\n"
      ],
      "metadata": {
        "id": "pmXzy2SMr7z2"
      },
      "execution_count": 1,
      "outputs": []
    },
    {
      "cell_type": "code",
      "source": [
        "print(obj1.name)\n",
        "print(obj1.role)"
      ],
      "metadata": {
        "colab": {
          "base_uri": "https://localhost:8080/"
        },
        "id": "rJ2MW86br7qw",
        "outputId": "0c92de02-4ed8-47f1-c3db-0174c13e4a76"
      },
      "execution_count": 3,
      "outputs": [
        {
          "output_type": "stream",
          "name": "stdout",
          "text": [
            "Sara\n",
            "1680\n"
          ]
        }
      ]
    },
    {
      "cell_type": "code",
      "source": [
        "print(obj1.stream) #we can run with the help of object"
      ],
      "metadata": {
        "colab": {
          "base_uri": "https://localhost:8080/"
        },
        "id": "dZ4FhIror7hC",
        "outputId": "1125748f-6676-483a-973c-3d5524986623"
      },
      "execution_count": 4,
      "outputs": [
        {
          "output_type": "stream",
          "name": "stdout",
          "text": [
            "cse\n"
          ]
        }
      ]
    },
    {
      "cell_type": "code",
      "source": [
        "print(Compstudent.stream) #We can use class"
      ],
      "metadata": {
        "colab": {
          "base_uri": "https://localhost:8080/"
        },
        "id": "UKH-5sqmr7bH",
        "outputId": "aa598fac-c44e-4907-cfee-5e32fd1a8dfe"
      },
      "execution_count": 5,
      "outputs": [
        {
          "output_type": "stream",
          "name": "stdout",
          "text": [
            "cse\n"
          ]
        }
      ]
    },
    {
      "cell_type": "code",
      "source": [
        "class demo():\n",
        "  branch=\"commerce\" #Global variable\n",
        "  def __init__(self):\n",
        "    self.name=\"sara\" #instance variable\n",
        "    self.age=42 #instance variable\n",
        "    rollno=1680 #Local variable"
      ],
      "metadata": {
        "id": "jmsHjn3bHUbP"
      },
      "execution_count": 7,
      "outputs": []
    },
    {
      "cell_type": "code",
      "source": [
        "obj1=demo()"
      ],
      "metadata": {
        "id": "L7dvxeY4HUWI"
      },
      "execution_count": 8,
      "outputs": []
    },
    {
      "cell_type": "code",
      "source": [
        "obj1.name"
      ],
      "metadata": {
        "colab": {
          "base_uri": "https://localhost:8080/",
          "height": 36
        },
        "id": "9gy3GxxBHURR",
        "outputId": "6d1d0e91-ef8d-4cde-952a-14897010f19f"
      },
      "execution_count": 9,
      "outputs": [
        {
          "output_type": "execute_result",
          "data": {
            "text/plain": [
              "'sara'"
            ],
            "application/vnd.google.colaboratory.intrinsic+json": {
              "type": "string"
            }
          },
          "metadata": {},
          "execution_count": 9
        }
      ]
    },
    {
      "cell_type": "code",
      "source": [
        "obj1.branch"
      ],
      "metadata": {
        "colab": {
          "base_uri": "https://localhost:8080/",
          "height": 36
        },
        "id": "KoScnFCwHUMQ",
        "outputId": "036b3962-3620-41e5-c426-01c6b0fe3d58"
      },
      "execution_count": 10,
      "outputs": [
        {
          "output_type": "execute_result",
          "data": {
            "text/plain": [
              "'commerce'"
            ],
            "application/vnd.google.colaboratory.intrinsic+json": {
              "type": "string"
            }
          },
          "metadata": {},
          "execution_count": 10
        }
      ]
    },
    {
      "cell_type": "code",
      "source": [
        "obj2=demo()\n",
        "obj2.branch"
      ],
      "metadata": {
        "colab": {
          "base_uri": "https://localhost:8080/",
          "height": 36
        },
        "id": "ci7zhXJnHUG1",
        "outputId": "a196e52e-5737-4cbd-cf51-6fabdda65277"
      },
      "execution_count": 11,
      "outputs": [
        {
          "output_type": "execute_result",
          "data": {
            "text/plain": [
              "'commerce'"
            ],
            "application/vnd.google.colaboratory.intrinsic+json": {
              "type": "string"
            }
          },
          "metadata": {},
          "execution_count": 11
        }
      ]
    },
    {
      "cell_type": "code",
      "source": [
        "class circle():\n",
        "  pi=3.14 #class variable\n",
        "  def __init__(self,r): #constructor\n",
        "    self.rad=r\n",
        "  def cal_area(self): #instance method\n",
        "    return pi*self.rad**2\n",
        "  def cal_circumference(self): #instance method\n",
        "    return 2*pi*self.rad\n",
        "rad=circle(10)\n",
        "print(rad.cal_area())\n",
        "print(rad.cal_circumreference)"
      ],
      "metadata": {
        "colab": {
          "base_uri": "https://localhost:8080/",
          "height": 349
        },
        "id": "XskLQ6HbHUB0",
        "outputId": "c07bd796-82b0-4f44-83e6-bee4d0297467"
      },
      "execution_count": 14,
      "outputs": [
        {
          "output_type": "error",
          "ename": "NameError",
          "evalue": "ignored",
          "traceback": [
            "\u001b[0;31m---------------------------------------------------------------------------\u001b[0m",
            "\u001b[0;31mNameError\u001b[0m                                 Traceback (most recent call last)",
            "\u001b[0;32m<ipython-input-14-b8826522e0ba>\u001b[0m in \u001b[0;36m<cell line: 10>\u001b[0;34m()\u001b[0m\n\u001b[1;32m      8\u001b[0m     \u001b[0;32mreturn\u001b[0m \u001b[0;36m2\u001b[0m\u001b[0;34m*\u001b[0m\u001b[0mpi\u001b[0m\u001b[0;34m*\u001b[0m\u001b[0mself\u001b[0m\u001b[0;34m.\u001b[0m\u001b[0mrad\u001b[0m\u001b[0;34m\u001b[0m\u001b[0;34m\u001b[0m\u001b[0m\n\u001b[1;32m      9\u001b[0m \u001b[0mrad\u001b[0m\u001b[0;34m=\u001b[0m\u001b[0mcircle\u001b[0m\u001b[0;34m(\u001b[0m\u001b[0;36m10\u001b[0m\u001b[0;34m)\u001b[0m\u001b[0;34m\u001b[0m\u001b[0;34m\u001b[0m\u001b[0m\n\u001b[0;32m---> 10\u001b[0;31m \u001b[0mprint\u001b[0m\u001b[0;34m(\u001b[0m\u001b[0mrad\u001b[0m\u001b[0;34m.\u001b[0m\u001b[0mcal_area\u001b[0m\u001b[0;34m(\u001b[0m\u001b[0;34m)\u001b[0m\u001b[0;34m)\u001b[0m\u001b[0;34m\u001b[0m\u001b[0;34m\u001b[0m\u001b[0m\n\u001b[0m\u001b[1;32m     11\u001b[0m \u001b[0mprint\u001b[0m\u001b[0;34m(\u001b[0m\u001b[0mrad\u001b[0m\u001b[0;34m.\u001b[0m\u001b[0mcal_circumreference\u001b[0m\u001b[0;34m)\u001b[0m\u001b[0;34m\u001b[0m\u001b[0;34m\u001b[0m\u001b[0m\n",
            "\u001b[0;32m<ipython-input-14-b8826522e0ba>\u001b[0m in \u001b[0;36mcal_area\u001b[0;34m(self)\u001b[0m\n\u001b[1;32m      4\u001b[0m     \u001b[0mself\u001b[0m\u001b[0;34m.\u001b[0m\u001b[0mrad\u001b[0m\u001b[0;34m=\u001b[0m\u001b[0mr\u001b[0m\u001b[0;34m\u001b[0m\u001b[0;34m\u001b[0m\u001b[0m\n\u001b[1;32m      5\u001b[0m   \u001b[0;32mdef\u001b[0m \u001b[0mcal_area\u001b[0m\u001b[0;34m(\u001b[0m\u001b[0mself\u001b[0m\u001b[0;34m)\u001b[0m\u001b[0;34m:\u001b[0m \u001b[0;31m#instance method\u001b[0m\u001b[0;34m\u001b[0m\u001b[0;34m\u001b[0m\u001b[0m\n\u001b[0;32m----> 6\u001b[0;31m     \u001b[0;32mreturn\u001b[0m \u001b[0mpi\u001b[0m\u001b[0;34m*\u001b[0m\u001b[0mself\u001b[0m\u001b[0;34m.\u001b[0m\u001b[0mrad\u001b[0m\u001b[0;34m**\u001b[0m\u001b[0;36m2\u001b[0m\u001b[0;34m\u001b[0m\u001b[0;34m\u001b[0m\u001b[0m\n\u001b[0m\u001b[1;32m      7\u001b[0m   \u001b[0;32mdef\u001b[0m \u001b[0mcal_circumference\u001b[0m\u001b[0;34m(\u001b[0m\u001b[0mself\u001b[0m\u001b[0;34m)\u001b[0m\u001b[0;34m:\u001b[0m \u001b[0;31m#instance method\u001b[0m\u001b[0;34m\u001b[0m\u001b[0;34m\u001b[0m\u001b[0m\n\u001b[1;32m      8\u001b[0m     \u001b[0;32mreturn\u001b[0m \u001b[0;36m2\u001b[0m\u001b[0;34m*\u001b[0m\u001b[0mpi\u001b[0m\u001b[0;34m*\u001b[0m\u001b[0mself\u001b[0m\u001b[0;34m.\u001b[0m\u001b[0mrad\u001b[0m\u001b[0;34m\u001b[0m\u001b[0;34m\u001b[0m\u001b[0m\n",
            "\u001b[0;31mNameError\u001b[0m: name 'pi' is not defined"
          ]
        }
      ]
    },
    {
      "cell_type": "code",
      "source": [
        "class emp():\n",
        "  increment=int(input(\"Enter the increment:\"))\n",
        "  def __init__(self,name,age,salary):\n",
        "    self.name=name\n",
        "    self.age=age\n",
        "    self.salary=salary\n",
        "  def incr_sal(self):\n",
        "    self.salary=self.salary+(self.salary*(self.increment/100))\n",
        "  def display(self):\n",
        "    print(f\"Employee name:{self.name} | Employee Age{self.age} | Employee Salary{self.salary}\")\n",
        ""
      ],
      "metadata": {
        "colab": {
          "base_uri": "https://localhost:8080/"
        },
        "id": "bVuTi_1RN4Mt",
        "outputId": "b7d49d70-b2ef-491f-ea02-521e67f78622"
      },
      "execution_count": 26,
      "outputs": [
        {
          "name": "stdout",
          "output_type": "stream",
          "text": [
            "Enter the increment:30\n"
          ]
        }
      ]
    },
    {
      "cell_type": "code",
      "source": [
        "obj=emp(\"Saravanan.N\",42,1750000)\n",
        "obj.display()\n"
      ],
      "metadata": {
        "colab": {
          "base_uri": "https://localhost:8080/"
        },
        "id": "1n0GqJ3WN4H-",
        "outputId": "e9b587e4-0139-465e-d6e7-7e0c75da27fc"
      },
      "execution_count": 28,
      "outputs": [
        {
          "output_type": "stream",
          "name": "stdout",
          "text": [
            "Employee name:Saravanan.N | Employee Age42 | Employee Salary1750000\n"
          ]
        }
      ]
    },
    {
      "cell_type": "code",
      "source": [
        "obj.incr_sal()\n",
        "obj.display()"
      ],
      "metadata": {
        "colab": {
          "base_uri": "https://localhost:8080/"
        },
        "id": "NlkvR_o8N4Cg",
        "outputId": "a26b2159-b180-45ba-b81d-1e6efe4b8d74"
      },
      "execution_count": 29,
      "outputs": [
        {
          "output_type": "stream",
          "name": "stdout",
          "text": [
            "Employee name:Saravanan.N | Employee Age42 | Employee Salary2275000.0\n"
          ]
        }
      ]
    },
    {
      "cell_type": "code",
      "source": [
        "class demo():\n",
        "  def __init__(self):\n",
        "    print(\"this is init function\")\n",
        "    print(f\"here is the value of self{id(self)}\")\n",
        "obj1=demo()"
      ],
      "metadata": {
        "colab": {
          "base_uri": "https://localhost:8080/"
        },
        "id": "i2OFC52KN39n",
        "outputId": "f68f7b39-c640-4180-f26f-dbc381adc774"
      },
      "execution_count": 2,
      "outputs": [
        {
          "output_type": "stream",
          "name": "stdout",
          "text": [
            "this is init function\n",
            "here is the value of self134671929258480\n"
          ]
        }
      ]
    },
    {
      "cell_type": "code",
      "source": [
        "class demo():\n",
        "  city=\"karur\"\n",
        "  def __init__(self,name):\n",
        "    self.name=name\n",
        "obj=demo(\"Sara\")\n",
        "obj.name\n"
      ],
      "metadata": {
        "colab": {
          "base_uri": "https://localhost:8080/",
          "height": 36
        },
        "id": "g1adYMshbzKn",
        "outputId": "30b2e16b-35db-4cbb-9751-f272dfecc951"
      },
      "execution_count": 6,
      "outputs": [
        {
          "output_type": "execute_result",
          "data": {
            "text/plain": [
              "'Sara'"
            ],
            "application/vnd.google.colaboratory.intrinsic+json": {
              "type": "string"
            }
          },
          "metadata": {},
          "execution_count": 6
        }
      ]
    },
    {
      "cell_type": "code",
      "source": [
        "obj.city"
      ],
      "metadata": {
        "colab": {
          "base_uri": "https://localhost:8080/",
          "height": 36
        },
        "id": "n43bThy_bzFW",
        "outputId": "4be4e126-684e-4ac7-b135-00d9246b8cb4"
      },
      "execution_count": 7,
      "outputs": [
        {
          "output_type": "execute_result",
          "data": {
            "text/plain": [
              "'karur'"
            ],
            "application/vnd.google.colaboratory.intrinsic+json": {
              "type": "string"
            }
          },
          "metadata": {},
          "execution_count": 7
        }
      ]
    },
    {
      "cell_type": "code",
      "source": [
        "obj1=demo(\"Ravi\")\n",
        "obj1.name"
      ],
      "metadata": {
        "colab": {
          "base_uri": "https://localhost:8080/",
          "height": 36
        },
        "id": "R5iKCrnpbzAM",
        "outputId": "fe27052b-0910-4d45-a2f5-566134b9de1e"
      },
      "execution_count": 8,
      "outputs": [
        {
          "output_type": "execute_result",
          "data": {
            "text/plain": [
              "'Ravi'"
            ],
            "application/vnd.google.colaboratory.intrinsic+json": {
              "type": "string"
            }
          },
          "metadata": {},
          "execution_count": 8
        }
      ]
    },
    {
      "cell_type": "code",
      "source": [
        "obj1.city"
      ],
      "metadata": {
        "colab": {
          "base_uri": "https://localhost:8080/",
          "height": 36
        },
        "id": "ZvR_cTYJby7D",
        "outputId": "86c053c8-a0ea-43ec-ab4d-6320c2a947eb"
      },
      "execution_count": 9,
      "outputs": [
        {
          "output_type": "execute_result",
          "data": {
            "text/plain": [
              "'karur'"
            ],
            "application/vnd.google.colaboratory.intrinsic+json": {
              "type": "string"
            }
          },
          "metadata": {},
          "execution_count": 9
        }
      ]
    },
    {
      "cell_type": "code",
      "source": [
        "id(obj.city)\n",
        "id(obj1.city) #both the ids are same."
      ],
      "metadata": {
        "colab": {
          "base_uri": "https://localhost:8080/"
        },
        "id": "WHhBoeRMby10",
        "outputId": "e3327c59-1ccf-4c64-9566-6306957ebdef"
      },
      "execution_count": 10,
      "outputs": [
        {
          "output_type": "execute_result",
          "data": {
            "text/plain": [
              "134671587932976"
            ]
          },
          "metadata": {},
          "execution_count": 10
        }
      ]
    },
    {
      "cell_type": "code",
      "source": [
        "#classmethod\n",
        "class demo():\n",
        "  city=\"karur\"\n",
        "\n",
        "  @classmethod\n",
        "  def test(cls):\n",
        "    print(\"I am working as a  class method\")\n",
        "    print(f\"here is a address of cls {id(cls)}\")\n",
        "  def __init__(self,name):\n",
        "    self.name=name\n",
        "obj=demo(\"Sara\")\n",
        "obj.test()\n"
      ],
      "metadata": {
        "colab": {
          "base_uri": "https://localhost:8080/"
        },
        "id": "F_7gmXfhbyw5",
        "outputId": "ca9eb5cb-2e41-4412-9d7d-b4a935c5005f"
      },
      "execution_count": 17,
      "outputs": [
        {
          "output_type": "stream",
          "name": "stdout",
          "text": [
            "I am working as a  class method\n",
            "here is a address of cls 98325289565904\n"
          ]
        }
      ]
    },
    {
      "cell_type": "code",
      "source": [
        "#staticmethod\n",
        "class demo():\n",
        "  city=\"karur\"\n",
        "\n",
        "  @staticmethod\n",
        "  def test1():\n",
        "    print(\"I am working with static method\")\n",
        "\n",
        "  def __init__(self,name):\n",
        "    self.name=name\n",
        "obj=demo(\"Sara\")\n",
        "obj.test1()\n"
      ],
      "metadata": {
        "colab": {
          "base_uri": "https://localhost:8080/"
        },
        "id": "5WFRv37hbyrk",
        "outputId": "6657f6b4-f7d0-4c0b-c5d5-7fa9bc08796b"
      },
      "execution_count": 19,
      "outputs": [
        {
          "output_type": "stream",
          "name": "stdout",
          "text": [
            "I am working with static method\n"
          ]
        }
      ]
    },
    {
      "cell_type": "code",
      "source": [
        "#Decorator\n",
        "def greet(text):\n",
        "  return text.upper()\n",
        "def shout(text):\n",
        "  return text.lower()\n",
        "def master(self):\n",
        "  output=self(\"hi this is Saravanan\")\n",
        "  print(output)"
      ],
      "metadata": {
        "id": "t-V-ijoKbymI"
      },
      "execution_count": 26,
      "outputs": []
    },
    {
      "cell_type": "code",
      "source": [
        "master(greet)\n",
        "master(shout)"
      ],
      "metadata": {
        "colab": {
          "base_uri": "https://localhost:8080/"
        },
        "id": "X8hKLt4fiTtj",
        "outputId": "6be85822-c33e-4c48-a838-cc389984fe2d"
      },
      "execution_count": 27,
      "outputs": [
        {
          "output_type": "stream",
          "name": "stdout",
          "text": [
            "HI THIS IS SARAVANAN\n",
            "hi this is saravanan\n"
          ]
        }
      ]
    },
    {
      "cell_type": "code",
      "source": [
        "def greet(text):\n",
        "  return text.upper()\n",
        "greet(\"usefull\")"
      ],
      "metadata": {
        "colab": {
          "base_uri": "https://localhost:8080/",
          "height": 36
        },
        "id": "B20VvDkQjO2Y",
        "outputId": "45d074c2-b1a5-4056-bebd-b39979025536"
      },
      "execution_count": 24,
      "outputs": [
        {
          "output_type": "execute_result",
          "data": {
            "text/plain": [
              "'USEFULL'"
            ],
            "application/vnd.google.colaboratory.intrinsic+json": {
              "type": "string"
            }
          },
          "metadata": {},
          "execution_count": 24
        }
      ]
    },
    {
      "cell_type": "code",
      "source": [
        "test=greet\n",
        "test(\"useless\")"
      ],
      "metadata": {
        "colab": {
          "base_uri": "https://localhost:8080/",
          "height": 36
        },
        "id": "UFN2HWSajOxP",
        "outputId": "ebf7b9b9-3054-40e5-b561-62c57b50a811"
      },
      "execution_count": 25,
      "outputs": [
        {
          "output_type": "execute_result",
          "data": {
            "text/plain": [
              "'USELESS'"
            ],
            "application/vnd.google.colaboratory.intrinsic+json": {
              "type": "string"
            }
          },
          "metadata": {},
          "execution_count": 25
        }
      ]
    },
    {
      "cell_type": "code",
      "source": [
        "def lower(text):\n",
        "  return text.lower()\n",
        "def upper(text):\n",
        "  return text.upper()\n",
        "def display(self):\n",
        "  output=self(\"make it lower or UPPER\")\n",
        "  print(output)\n",
        "display(lower)\n",
        "display(upper)"
      ],
      "metadata": {
        "colab": {
          "base_uri": "https://localhost:8080/"
        },
        "id": "GthQojDqjOr8",
        "outputId": "47aa50e1-677c-4cb4-96f5-7c27923304b1"
      },
      "execution_count": 31,
      "outputs": [
        {
          "output_type": "stream",
          "name": "stdout",
          "text": [
            "make it lower or upper\n",
            "MAKE IT LOWER OR UPPER\n"
          ]
        }
      ]
    },
    {
      "cell_type": "code",
      "source": [
        "def create_add(x):\n",
        "  def add(y):\n",
        "    return x+y\n",
        "  return add\n",
        "var=create_add(1)\n",
        "var(2)"
      ],
      "metadata": {
        "colab": {
          "base_uri": "https://localhost:8080/"
        },
        "id": "Ia4RzaT8jOnW",
        "outputId": "fc0b21a4-fb52-4699-9877-f9d9c02c7b8f"
      },
      "execution_count": 33,
      "outputs": [
        {
          "output_type": "execute_result",
          "data": {
            "text/plain": [
              "3"
            ]
          },
          "metadata": {},
          "execution_count": 33
        }
      ]
    },
    {
      "cell_type": "code",
      "source": [
        "def a(x):\n",
        "  def b(y):\n",
        "    return x+y\n",
        "  return b\n",
        "main=a(2)\n",
        "main(3)"
      ],
      "metadata": {
        "colab": {
          "base_uri": "https://localhost:8080/"
        },
        "id": "-n6coNaSjOcz",
        "outputId": "eb91a683-c193-4bb2-9fc2-d6f1f000c660"
      },
      "execution_count": 35,
      "outputs": [
        {
          "output_type": "execute_result",
          "data": {
            "text/plain": [
              "5"
            ]
          },
          "metadata": {},
          "execution_count": 35
        }
      ]
    },
    {
      "cell_type": "code",
      "source": [
        "#decorator\n",
        "def mainfunction(self):\n",
        "  def innerfunction(a,b):\n",
        "    print(\"before execution\")\n",
        "    value=self(a,b)\n",
        "    print(\"after execution\")\n",
        "    return value\n",
        "  return innerfunction\n"
      ],
      "metadata": {
        "id": "x-wbPEcLjOXZ"
      },
      "execution_count": 42,
      "outputs": []
    },
    {
      "cell_type": "code",
      "source": [
        "@mainfunction\n",
        "def sumtwo(a,b):\n",
        "  print(\"inside the function \")\n",
        "  return a+b"
      ],
      "metadata": {
        "id": "vY6bW3FXjORz"
      },
      "execution_count": 43,
      "outputs": []
    },
    {
      "cell_type": "code",
      "source": [
        "sumtwo(9,5)"
      ],
      "metadata": {
        "colab": {
          "base_uri": "https://localhost:8080/"
        },
        "id": "bxUfPi7ojOL9",
        "outputId": "b49e7647-8184-4b66-9351-2c415d46e464"
      },
      "execution_count": 44,
      "outputs": [
        {
          "output_type": "stream",
          "name": "stdout",
          "text": [
            "before execution\n",
            "inside the function \n",
            "after execution\n"
          ]
        },
        {
          "output_type": "execute_result",
          "data": {
            "text/plain": [
              "14"
            ]
          },
          "metadata": {},
          "execution_count": 44
        }
      ]
    },
    {
      "cell_type": "code",
      "source": [],
      "metadata": {
        "id": "BL9SdqhcjOF4"
      },
      "execution_count": null,
      "outputs": []
    },
    {
      "cell_type": "markdown",
      "source": [],
      "metadata": {
        "id": "SO2Sp_V3r7Kr"
      }
    }
  ]
}