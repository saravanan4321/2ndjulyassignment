{
  "nbformat": 4,
  "nbformat_minor": 0,
  "metadata": {
    "colab": {
      "provenance": []
    },
    "kernelspec": {
      "name": "python3",
      "display_name": "Python 3"
    },
    "language_info": {
      "name": "python"
    }
  },
  "cells": [
    {
      "cell_type": "code",
      "execution_count": null,
      "metadata": {
        "id": "ZbIzEtwqazAU"
      },
      "outputs": [],
      "source": [
        "# 1. In the below elements which of them are values or an expression? eg:- values can be\n",
        "# integer or string and expressions will be mathematical operators.\n",
        "# * = Mathematical operatiors\n",
        "# ‘hello’ = String\n",
        "# -87.8 = Integer\n",
        "# - = Mathematical Operators\n",
        "# / = Mathematical Operators\n",
        "# + = Mathematical Operators\n",
        "# 6 = Integer\n",
        "\n",
        "# 2. What is the difference between string and variable?\n",
        "# String is with text, the string or integer which is assigned to it is called variable.\n",
        "\n",
        "# 3. Describe three different data types.\n",
        "# String, Integer, & Float\n",
        "\n",
        "# 4. What is an expression made up of? What do all expressions do?\n",
        "# Expressions made up of variables, methods & Operators. Expressions represents any value.\n",
        "\n",
        "# 5. This assignment statements, like spam = 10. What is the difference between an\n",
        "# expression and a statement?\n",
        "# spam=10 is a Statement. Evaluation of a expression will always produce a result whereas statement may or may not produce a result.\n",
        "\n",
        "# 6. After running the following code, what does the variable bacon contain?\n",
        "# bacon = 22\n",
        "# bacon + 1\n",
        "# Result will be 23\n",
        "\n",
        "# 7. What should the values of the following two terms be?\n",
        "# 'spam'+'spamspam'\n",
        "# 'spam'*3\n",
        "# Result will be 'spamspamspam'\n",
        "\n",
        "# 8. Why is eggs a valid variable name while 100 is invalid?\n",
        "# Variable name cant begin with numbers. Underscore before number will be a valid variable.\n",
        "\n",
        "# 9. What three functions can be used to get the integer, floating-point number, or string\n",
        "# version of a value?\n",
        "# a=int(), b=float(), c=\"str\"\n",
        "\n",
        "# 10. Why does this expression cause an error? How can you fix it?\n",
        "# 'i have eaten'+99+'buriots'\n",
        "# Result is 'i have eaten'+'99'+'buriots', concatenate can only be done with strings"
      ]
    },
    {
      "cell_type": "code",
      "source": [
        "'i have eaten'+99+'buriots'"
      ],
      "metadata": {
        "colab": {
          "base_uri": "https://localhost:8080/",
          "height": 175
        },
        "id": "PQoSW2kLf34X",
        "outputId": "708a385b-8284-4845-82f0-67fdbc0daade"
      },
      "execution_count": 13,
      "outputs": [
        {
          "output_type": "error",
          "ename": "TypeError",
          "evalue": "ignored",
          "traceback": [
            "\u001b[0;31m---------------------------------------------------------------------------\u001b[0m",
            "\u001b[0;31mTypeError\u001b[0m                                 Traceback (most recent call last)",
            "\u001b[0;32m<ipython-input-13-9e5981460f41>\u001b[0m in \u001b[0;36m<cell line: 1>\u001b[0;34m()\u001b[0m\n\u001b[0;32m----> 1\u001b[0;31m \u001b[0;34m'i have eaten'\u001b[0m\u001b[0;34m+\u001b[0m\u001b[0;36m99\u001b[0m\u001b[0;34m+\u001b[0m\u001b[0;34m'buriots'\u001b[0m\u001b[0;34m\u001b[0m\u001b[0;34m\u001b[0m\u001b[0m\n\u001b[0m",
            "\u001b[0;31mTypeError\u001b[0m: can only concatenate str (not \"int\") to str"
          ]
        }
      ]
    }
  ]
}