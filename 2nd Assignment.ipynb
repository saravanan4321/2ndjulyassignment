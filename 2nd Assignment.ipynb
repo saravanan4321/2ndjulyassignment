{
  "nbformat": 4,
  "nbformat_minor": 0,
  "metadata": {
    "colab": {
      "provenance": []
    },
    "kernelspec": {
      "name": "python3",
      "display_name": "Python 3"
    },
    "language_info": {
      "name": "python"
    }
  },
  "cells": [
    {
      "cell_type": "code",
      "execution_count": null,
      "metadata": {
        "id": "n11d2Bsum1vY"
      },
      "outputs": [],
      "source": [
        "# 1.What are the two values of the Boolean data type? How do you write them?\n",
        "# True, False. First letter should be capital.\n",
        "\n",
        "# 2. What are the three different types of Boolean operators?\n",
        "# And, OR, Not\n",
        "\n",
        "# 3. Make a list of each Boolean operators truth tables (i.e. every possible combination of Boolean\n",
        "# values for the operator and what it evaluate ).\n",
        "True and True=True\n",
        "True or False=True\n",
        "False or True=True\n",
        "\n",
        "\n",
        "# 4. What are the values of the following expressions?\n",
        "# (5 > 4) and (3 == 5) = False\n",
        "# not (5 > 4) = False\n",
        "# (5 > 4) or (3 == 5) = True\n",
        "# not ((5 > 4) or (3 == 5)) = False\n",
        "# (True and True) and (True == False) = False\n",
        "# (not False) or (not True) = True\n",
        "\n",
        "# 5. What are the six comparison operators?\n",
        "1) == or equal to, 2) != or not equal to, 3) > or greater than, 4) >= or greater than or equal to, 5) < or less than, and 6) <= or less than or equal to.\n",
        "\n",
        "# 6. How do you tell the difference between the equal to and assignment operators?Describe a\n",
        "# condition and when you would use one.\n",
        "\"\"==\"\" compares two values and evaluate to a boolean. \"=\" value stored in variable\n",
        "\n",
        "7. Identify the three blocks in this code:\n",
        "spam = 0\n",
        "if spam == 10:\n",
        "print('eggs')\n",
        "if spam > 5:\n",
        "print('bacon')\n",
        "else:\n",
        "print('ham')\n",
        "print('spam')\n",
        "print('spam')\n",
        "\n",
        "spam = 0\n",
        "if spam == 10:\n",
        "  print('eggs')\n",
        "if spam > 5:\n",
        "  print('bacon')\n",
        "else:\n",
        "  print('ham')\n",
        "  print('spam')\n",
        "  print('spam')\n",
        "\n",
        "Indentation error\n",
        "\n",
        "8. Write code that prints Hello if 1 is stored in spam, prints Howdy if 2 is stored in spam, and prints\n",
        "Greetings! if anything else is stored in spam.\n",
        "\n",
        "spam=int(input(\"spam=\"))\n",
        "Howdy=int(input(\"Howdy=\"))\n",
        "if spam==1 and Howdy==2:\n",
        "  print(\"Hello\")\n",
        "else:\n",
        "  print(\"Greetings\")\n",
        "\n",
        "#result\n",
        "spam=1\n",
        "Howdy=2\n",
        "Hello\n",
        "\n",
        "9.If your programme is stuck in an endless loop, what keys you’ll press?\n",
        "Ctrl c\n",
        "\n",
        "10. How can you tell the difference between break and continue?\n",
        "\n",
        "Break stops the entire process before loop\n",
        "Continue stops the current iteration of the loop\n",
        "\n",
        "11. In a for loop, what is the difference between range(10), range(0, 10), and range(0, 10, 1)?\n",
        "range(10) prints from 0 to 9\n",
        "range(0,10) prints from 0 to 9\n",
        "range(0,10,1) prints from 0 to 9\n",
        "all are same.\n",
        "\n",
        "12. Write a short program that prints the numbers 1 to 10 using a for loop. Then write an equivalent\n",
        "program that prints the numbers 1 to 10 using a while loop.\n",
        "\n",
        "for i in range(1,11):\n",
        "  print (i)\n",
        "it will print from 1 to 10\n",
        "\n",
        "i=0\n",
        "while i < 10:\n",
        "  i+=1\n",
        "  print(i)\n",
        "\n",
        "13. If you had a function named bacon() inside a module named spam, how would you call it after importing spam?\n",
        "spam.bacon()"
      ]
    },
    {
      "cell_type": "code",
      "source": [
        "\n",
        "spam.bacon()\n"
      ],
      "metadata": {
        "colab": {
          "base_uri": "https://localhost:8080/",
          "height": 175
        },
        "id": "VJQfEUEipYko",
        "outputId": "c37f8a0f-e8dc-4224-89fb-04fadfcf4646"
      },
      "execution_count": 3,
      "outputs": [
        {
          "output_type": "error",
          "ename": "NameError",
          "evalue": "ignored",
          "traceback": [
            "\u001b[0;31m---------------------------------------------------------------------------\u001b[0m",
            "\u001b[0;31mNameError\u001b[0m                                 Traceback (most recent call last)",
            "\u001b[0;32m<ipython-input-3-82453a99dc27>\u001b[0m in \u001b[0;36m<cell line: 1>\u001b[0;34m()\u001b[0m\n\u001b[0;32m----> 1\u001b[0;31m \u001b[0mspam\u001b[0m\u001b[0;34m.\u001b[0m\u001b[0mbacon\u001b[0m\u001b[0;34m(\u001b[0m\u001b[0;34m)\u001b[0m\u001b[0;34m\u001b[0m\u001b[0;34m\u001b[0m\u001b[0m\n\u001b[0m",
            "\u001b[0;31mNameError\u001b[0m: name 'spam' is not defined"
          ]
        }
      ]
    }
  ]
}