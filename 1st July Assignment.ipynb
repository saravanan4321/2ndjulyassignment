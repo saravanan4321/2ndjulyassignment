{
  "nbformat": 4,
  "nbformat_minor": 0,
  "metadata": {
    "colab": {
      "provenance": []
    },
    "kernelspec": {
      "name": "python3",
      "display_name": "Python 3"
    },
    "language_info": {
      "name": "python"
    }
  },
  "cells": [
    {
      "cell_type": "code",
      "execution_count": null,
      "metadata": {
        "id": "wtn6HEuBVC8f"
      },
      "outputs": [],
      "source": [
        "#1.\tWhat is the primary goal of Object-Oriented Programming (OOP)?\n",
        "#Robustness, Adaptability, Resusability\n",
        "\n",
        "#2.\tWhat is an object in Python?\n",
        "#String, Integer, Float etc…\n",
        "\n",
        "#3.\tWhat is a class in Python?\n",
        "#Aggregate of data fields and defines the operations\n",
        "\n",
        "#4.\tWhat are attributes and methods in a class?\n",
        "#Any variable is bound in class are attributes and any function defined in class is methods\n",
        "\n",
        "#5.\tWhat is the difference between class variables and instance variables in Python?\n",
        "#Default values can be stored in class variables, object properties can be stored in instance variables\n",
        "\n",
        "#6.\tWhat is the purpose of the self parameter in Python class methods?\n",
        "#First parameter of any function\n",
        "\n"
      ]
    },
    {
      "cell_type": "code",
      "source": [
        "{7.For a library management system, you have to design the \"Book\" class with OOP principles in mind. The “Book” class will have following attributes:\n",
        "a.title: Represents the title of the book.\n",
        "b.author: Represents the author(s) of the book.\n",
        "c.isbn: Represents the ISBN (International Standard Book Number) of the book.\n",
        "d.publication_year: Represents the year of publication of the book.\n",
        "e.available_copies: Represents the number of copies available for checkout.\n",
        " The class will also include the following methods:\n",
        "a.check_out(self): Decrements the available copies by one if there are copies available for checkout.\n",
        "b.return_book(self): Increments the available copies by one when a book is returned.\n",
        "c.display_book_info(self): Displays the information about the book, including its attributes and the number of available copies.\n",
        "}\n"
      ],
      "metadata": {
        "id": "6qRBpKohWI33"
      },
      "execution_count": null,
      "outputs": []
    },
    {
      "cell_type": "code",
      "source": [
        "class Book():\n",
        "  def __init__(self,title,author,isbn,publication_year,available_copies):\n",
        "    self.title=title\n",
        "    self.author=author\n",
        "    self.isbn=isbn\n",
        "    self.publication_year=publication_year\n",
        "    self.available_copies=available_copies\n",
        "  def display(self):\n",
        "    print(f\"Book title:{self.title}\")\n",
        "    print(f\"Book Author:{self.author}\")\n",
        "    print(f\"ISBN number: {self.isbn}\")\n",
        "    print(f\"Available Copies: {self.available_copies}\")\n",
        "  def check_out(self):\n",
        "    checkout=int(input(\"How many books to checkout:\"))\n",
        "    self.remaining_copies=self.available_copies-checkout\n",
        "    if self.available_copies>=1:\n",
        "      print(\"Copies are available, you can take it\")\n",
        "\n",
        "    else:\n",
        "      print(\"Sorry copies are unavailable, will inform anyone returns\")\n",
        "  def return_book(self):\n",
        "    returnbook=int(input(\"How many books are returned today:\"))\n",
        "    self.balance_copies=self.remaining_copies+returnbook\n",
        "  def display_info(self):\n",
        "    print(f\"Books Available copies after checkout:{self.remaining_copies}\")\n",
        "    print(f\"Balance copies after book return:{self.balance_copies}\")\n",
        "\n",
        "obj1=Book(\"JK story\",\"Jayakanthan\",2121,2021,5)\n",
        "obj1.display()\n",
        "obj1.check_out()\n",
        "obj1.return_book()\n",
        "obj1.display_info()"
      ],
      "metadata": {
        "colab": {
          "base_uri": "https://localhost:8080/"
        },
        "id": "OvVQjbZbWRTB",
        "outputId": "d6bea943-2e26-42d1-faeb-eaf152d103f8"
      },
      "execution_count": 15,
      "outputs": [
        {
          "output_type": "stream",
          "name": "stdout",
          "text": [
            "Book title:JK story\n",
            "Book Author:Jayakanthan\n",
            "ISBN number: 2121\n",
            "Available Copies: 5\n",
            "How many books to checkout:2\n",
            "Copies are available, you can take it\n",
            "How many books are returned today:3\n",
            "Books Available copies after checkout:3\n",
            "Balance copies after book return:6\n"
          ]
        }
      ]
    },
    {
      "cell_type": "code",
      "source": [
        "{8.For a ticket booking system, you have to design the \"Ticket\" class with OOP principles in mind. The “Ticket” class should have the following attributes:\n",
        "a.ticket_id: Represents the unique identifier for the ticket.\n",
        "b.event_name: Represents the name of the event.\n",
        "c.event_date: Represents the date of the event.\n",
        "d.venue: Represents the venue of the event.\n",
        "e.seat_number: Represents the seat number associated with the ticket.\n",
        "f.price: Represents the price of the ticket.\n",
        "g.is_reserved: Represents the reservation status of the ticket. The class also includes the following methods:\n",
        "a.reserve_ticket(self): Marks the ticket as reserved if it is not already reserved.\n",
        "b.cancel_reservation(self): Cancels the reservation of the ticket if it is already reserved.\n",
        "c.display_ticket_info(self): Displays the information about the ticket, including its attributes and reservation status.\n",
        "}"
      ],
      "metadata": {
        "id": "aRwa9v50gDBN"
      },
      "execution_count": null,
      "outputs": []
    },
    {
      "cell_type": "code",
      "source": [
        "class Ticket():\n",
        "  def __init__(self,ticket_id,event_name,event_date,venue,seat_number,price,is_reserved):\n",
        "    self.ticket_id=ticket_id\n",
        "    self.event_name=event_name\n",
        "    self.event_date=event_date\n",
        "    self.venue=venue\n",
        "    self.seat_number=seat_number\n",
        "    self.price=price\n",
        "    self.is_reserved=is_reserved\n",
        "  def reserve_ticket(self):\n",
        "    if self.is_reserved==\"Yes\":\n",
        "      print(\"Thanks the ticket is reserved\")\n",
        "    else:\n",
        "      pass\n",
        "  def cancel_reservation(self):\n",
        "    self.cancelreservation=input(\"would u like to cancel:\")\n",
        "    if self.cancelreservation==\"Yes\":\n",
        "      print(f\"Your {self.ticket_id} has been cancelled, will return money of {self.price}\")\n",
        "    else:\n",
        "      pass\n",
        "\n",
        "  def display_ticket_info(self):\n",
        "    print(f\"Ticket id is  : {self.ticket_id}\")\n",
        "    print(f\"Event Name is : {self.event_name}\")\n",
        "    print(f\"Event date is : {self.event_date}\")\n",
        "    print(f\"Event Venue is: {self.venue}\")\n",
        "    print(f\"Seat Number is: {self.seat_number}\")\n",
        "    print(f\"Price is      : {self.price}\")\n",
        "    print(f\"Reserved      : {self.is_reserved}\")\n",
        "obj1=Ticket(1234,\"ARR Music Concert\",\"29.10.2023\",\"ECR\",\"A14\",\"Rs.500\",\"Yes\")\n",
        "obj1.display_ticket_info()\n",
        "obj1.reserve_ticket()\n",
        "obj1.cancel_reservation()\n"
      ],
      "metadata": {
        "colab": {
          "base_uri": "https://localhost:8080/"
        },
        "id": "NP0ZvDpugG-6",
        "outputId": "284addfa-0243-4cae-9264-f319993afa61"
      },
      "execution_count": 23,
      "outputs": [
        {
          "output_type": "stream",
          "name": "stdout",
          "text": [
            "Ticket id is  : 1234\n",
            "Event Name is : ARR Music Concert\n",
            "Event date is : 29.10.2023\n",
            "Event Venue is: ECR\n",
            "Seat Number is: A14\n",
            "Price is      : Rs.500\n",
            "Reserved      : Yes\n",
            "Thanks the ticket is reserved\n",
            "would u like to cancel:Yes\n",
            "Your 1234 has been cancelled, will return money of Rs.500\n"
          ]
        }
      ]
    },
    {
      "cell_type": "code",
      "source": [
        "#9.You are creating a shopping cart for an e-commerce website. Using OOP to model the \"ShoppingCart\" functionality the class should contain following attributes and methods:\n",
        "#a.items: Represents the list of items in the shopping cart. The class also includes the following methods:\n",
        "#\n",
        "#a.add_item(self, item): Adds an item to the shopping cart by appending it to the list of items.\n",
        "#b.remove_item(self, item): Removes an item from the shopping cart if it exists in the list.\n",
        "#c.view_cart(self): Displays the items currently present in the shopping cart.\n",
        "d.clear_cart(self): Clears all items from the shopping cart by reassigning an empty list to the items attribute.\n"
      ],
      "metadata": {
        "id": "EKZDpE0SkZtw"
      },
      "execution_count": null,
      "outputs": []
    },
    {
      "cell_type": "code",
      "source": [
        "class ShoppingCart():\n",
        "  def __init__(self,item1,item2,item3,item4,item5):\n",
        "    self.item1=item1\n",
        "    self.item2=item2\n",
        "    self.item3=item3\n",
        "    self.item4=item4\n",
        "    self.item5=item5\n",
        "    self.cart=[]\n",
        "  def display_item(self):\n",
        "    print(f\"Item1={self.item1}\")\n",
        "    print(f\"Item2={self.item2}\")\n",
        "    print(f\"Item3={self.item3}\")\n",
        "    print(f\"Item4={self.item4}\")\n",
        "    print(f\"Item5={self.item5}\")\n",
        "\n",
        "  def add_item(self,cart):\n",
        "    self.cart.append(cart)\n",
        "  def remove_item(self,cart):\n",
        "    if cart in self.cart:\n",
        "      self.cart.remove(cart)\n",
        "      print(f\"Cart '{cart}' is Removed\")\n",
        "    else:\n",
        "      print(\"The task is not found\")\n",
        "  def view_cart(self):\n",
        "    print(f\"Available at Cart : {self.cart}\")\n",
        "    for cart in self.cart:\n",
        "      print(cart)\n",
        "sara=ShoppingCart(\"Computer\",\"Laptop\",\"Tablets\",\"Music Players\",\"Mobiles\")\n",
        "sara.display_item()\n"
      ],
      "metadata": {
        "colab": {
          "base_uri": "https://localhost:8080/"
        },
        "id": "AfIT0OLMtxSm",
        "outputId": "9b52ef4d-0eae-4ed4-9ec3-7ada137cfda3"
      },
      "execution_count": 32,
      "outputs": [
        {
          "output_type": "stream",
          "name": "stdout",
          "text": [
            "Item1=Computer\n",
            "Item2=Laptop\n",
            "Item3=Tablets\n",
            "Item4=Music Players\n",
            "Item5=Mobiles\n"
          ]
        }
      ]
    },
    {
      "cell_type": "code",
      "source": [
        "sara.add_item(\"Computer\")\n",
        "sara.add_item(\"Laptop\")\n",
        "sara.add_item(\"Mobiles\")\n",
        "sara.view_cart()\n"
      ],
      "metadata": {
        "colab": {
          "base_uri": "https://localhost:8080/"
        },
        "id": "VnoPQzbgt0b8",
        "outputId": "15ddafa6-3c18-4d3d-8545-a80b032cd428"
      },
      "execution_count": 33,
      "outputs": [
        {
          "output_type": "stream",
          "name": "stdout",
          "text": [
            "Available at Cart : ['Computer', 'Laptop', 'Mobiles']\n",
            "Computer\n",
            "Laptop\n",
            "Mobiles\n"
          ]
        }
      ]
    },
    {
      "cell_type": "code",
      "source": [
        "sara.remove_item(\"Computer\")\n",
        "sara.remove_item(\"Laptop\")\n",
        "sara.view_cart()\n"
      ],
      "metadata": {
        "colab": {
          "base_uri": "https://localhost:8080/"
        },
        "id": "Y3KV75vct6BS",
        "outputId": "c0508257-ddda-42e1-b694-46a8e87c4a8f"
      },
      "execution_count": 34,
      "outputs": [
        {
          "output_type": "stream",
          "name": "stdout",
          "text": [
            "Cart 'Computer' is Removed\n",
            "Cart 'Laptop' is Removed\n",
            "Available at Cart : ['Mobiles']\n",
            "Mobiles\n"
          ]
        }
      ]
    },
    {
      "cell_type": "code",
      "source": [
        "{10.Imagine a school management system. You have to design the \"Student\" class using OOP concepts.The “Student” class has the following attributes:\n",
        "a.name: Represents the name of the student.\n",
        "b.age: Represents the age of the student.\n",
        "c.grade: Represents the grade or class of the student.\n",
        "d.student_id: Represents the unique identifier for the student.\n",
        "e.attendance: Represents the attendance record of the student. The class should also include the following methods:\n",
        "a.update_attendance(self, date, status): Updates the attendance record of the student for a given date with the provided status (e.g., present or absent).\n",
        "b.get_attendance(self): Returns the attendance record of the student.\n",
        "c.get_average_attendance(self): Calculates and returns the average attendance percentage of the student based on their attendance record.\n",
        "}"
      ],
      "metadata": {
        "id": "eUIZcnSLt9PX"
      },
      "execution_count": null,
      "outputs": []
    },
    {
      "cell_type": "code",
      "source": [
        "class Student():\n",
        "  def __init__(self,name,age,grade,student_id,attendance,current_workingdays):\n",
        "    self.name=name\n",
        "    self.age=age\n",
        "    self.grade=grade\n",
        "    self.student_id=student_id\n",
        "    self.attendance=attendance\n",
        "    self.current_workingdays=current_workingdays\n",
        "  def display(self):\n",
        "    print(f\"Student Name              : {self.name}\")\n",
        "    print(f\"Student Age               : {self.age}\")\n",
        "    print(f\"Student Grade             : {self.grade}\")\n",
        "    print(f\"Student id                : {self.student_id}\")\n",
        "    print(f\"Number of days present    : {self.attendance}\")\n",
        "    print(f\"Current working days      : {self.current_workingdays}\")\n",
        "  def update_attendance(self,date,status):\n",
        "    self.date=date\n",
        "    self.status=status\n",
        "  def get_attendance(self):\n",
        "    if self.status==\"Present\":\n",
        "      self.attendance=self.attendance+1\n",
        "      self.current_workingdays=self.current_workingdays+1\n",
        "      print(f\"The attendance Updated:{self.status} and Total Attendance: {self.attendance} and Total workingdays:{self.current_workingdays}\")\n",
        "    elif self.status==\"Absent\":\n",
        "      self.attendance=self.attendance-1\n",
        "      self.current_workingdays=self.current_workingdays-1\n",
        "      print(f\"The attendance updated: {self.status} and Total Attendance: {self.attendance}\")\n",
        "    else:\n",
        "      pass\n",
        "  def get_average_attendance(self):\n",
        "    self.attendance=self.attendance/self.current_workingdays*100\n",
        "    print(f\"The Average attendance of the student is:{self.attendance}\")\n",
        "\n"
      ],
      "metadata": {
        "id": "9X2lI4zPuFdh"
      },
      "execution_count": 60,
      "outputs": []
    },
    {
      "cell_type": "code",
      "source": [
        "obj1=Student(\"Vinu\",7,\"UKG\",1680,51,55)\n",
        "obj1.display()\n",
        "obj1.update_attendance(\"03.12.2023\",\"Present\")\n",
        "obj1.get_attendance()\n",
        "obj1.get_average_attendance()"
      ],
      "metadata": {
        "colab": {
          "base_uri": "https://localhost:8080/"
        },
        "id": "pKryCPozz_Ym",
        "outputId": "483155ee-46ec-4bc4-f3a4-7275e3528432"
      },
      "execution_count": 61,
      "outputs": [
        {
          "output_type": "stream",
          "name": "stdout",
          "text": [
            "Student Name              : Vinu\n",
            "Student Age               : 7\n",
            "Student Grade             : UKG\n",
            "Student id                : 1680\n",
            "Number of days present    : 51\n",
            "Current working days      : 55\n",
            "The attendance Updated:Present and Total Attendance: 52 and Total workingdays:56\n",
            "The Average attendance of the student is:92.85714285714286\n"
          ]
        }
      ]
    }
  ]
}